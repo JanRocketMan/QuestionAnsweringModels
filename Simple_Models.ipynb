{
 "cells": [
  {
   "cell_type": "code",
   "execution_count": 1,
   "metadata": {
    "collapsed": false,
    "deletable": true,
    "editable": true
   },
   "outputs": [],
   "source": [
    "import numpy as np\n",
    "import pandas as pd\n",
    "from ast import literal_eval\n",
    "from collections import Counter\n",
    "import itertools\n",
    "import random\n",
    "import tensorflow as tf\n",
    "from tqdm import tqdm"
   ]
  },
  {
   "cell_type": "markdown",
   "metadata": {
    "deletable": true,
    "editable": true
   },
   "source": [
    "Let's deal at first with Common Nouns Question Answering."
   ]
  },
  {
   "cell_type": "code",
   "execution_count": 2,
   "metadata": {
    "collapsed": true,
    "deletable": true,
    "editable": true
   },
   "outputs": [],
   "source": [
    "sample_train = pd.read_csv('data/CBT_CN_train.csv',delimiter=';')\n",
    "sample_valid = pd.read_csv('data/CBT_CN_valid.csv',delimiter=';')"
   ]
  },
  {
   "cell_type": "code",
   "execution_count": 3,
   "metadata": {
    "collapsed": true,
    "deletable": true,
    "editable": true
   },
   "outputs": [],
   "source": [
    "sample_train = sample_train.sample(n=50000, replace=True)"
   ]
  },
  {
   "cell_type": "code",
   "execution_count": 4,
   "metadata": {
    "collapsed": false,
    "deletable": true,
    "editable": true
   },
   "outputs": [],
   "source": [
    "sample_train['Document'] = sample_train['Document'].apply(literal_eval)\n",
    "sample_valid['Document'] = sample_valid['Document'].apply(literal_eval)\n",
    "sample_train['Query'] = sample_train['Query'].apply(literal_eval)\n",
    "sample_valid['Query'] = sample_valid['Query'].apply(literal_eval)\n",
    "sample_train['Candidates'] = sample_train['Candidates'].apply(literal_eval)\n",
    "sample_valid['Candidates'] = sample_valid['Candidates'].apply(literal_eval)"
   ]
  },
  {
   "cell_type": "code",
   "execution_count": 5,
   "metadata": {
    "collapsed": false,
    "deletable": true,
    "editable": true
   },
   "outputs": [
    {
     "data": {
      "text/html": [
       "<div>\n",
       "<table border=\"1\" class=\"dataframe\">\n",
       "  <thead>\n",
       "    <tr style=\"text-align: right;\">\n",
       "      <th></th>\n",
       "      <th>Document</th>\n",
       "      <th>Query</th>\n",
       "      <th>Candidates</th>\n",
       "      <th>Answer</th>\n",
       "    </tr>\n",
       "  </thead>\n",
       "  <tbody>\n",
       "    <tr>\n",
       "      <th>32616</th>\n",
       "      <td>[when, the, mother, came, and, saw, her, you, ...</td>\n",
       "      <td>[these, two, things, were, all, that, she, had...</td>\n",
       "      <td>[dog, events, everyone, hands, idol, knees, mo...</td>\n",
       "      <td>mother</td>\n",
       "    </tr>\n",
       "    <tr>\n",
       "      <th>80131</th>\n",
       "      <td>[so, ,, little, cousin, ,, i, forgive, you, .,...</td>\n",
       "      <td>[i, believe, you, re, homesick, ,, xxxxx, ,, s...</td>\n",
       "      <td>[cousin, fall, girl, rain, rhyme, settlers, su...</td>\n",
       "      <td>girl</td>\n",
       "    </tr>\n",
       "    <tr>\n",
       "      <th>38012</th>\n",
       "      <td>[the, young, shepherd, led, his, flock, out, t...</td>\n",
       "      <td>[at, sunrise, the, boy, got, up, and, led, his...</td>\n",
       "      <td>[fate, flock, foot, home, mind, place, reason,...</td>\n",
       "      <td>reason</td>\n",
       "    </tr>\n",
       "    <tr>\n",
       "      <th>99420</th>\n",
       "      <td>[i, glanced, over, my, shoulder, ,, and, my, h...</td>\n",
       "      <td>[to, the, north, of, that, ,, again, ,, there,...</td>\n",
       "      <td>[it, bottom, glow, land, ribs, sea, shore, spe...</td>\n",
       "      <td>sea</td>\n",
       "    </tr>\n",
       "    <tr>\n",
       "      <th>41780</th>\n",
       "      <td>[i, ll, teach, you, how, to, jump, on, the, wi...</td>\n",
       "      <td>[xxxxx, of, us, has, any, pockets, .]</td>\n",
       "      <td>[none, arms, bed, clothes, pity, pockets, star...</td>\n",
       "      <td>none</td>\n",
       "    </tr>\n",
       "  </tbody>\n",
       "</table>\n",
       "</div>"
      ],
      "text/plain": [
       "                                                Document  \\\n",
       "32616  [when, the, mother, came, and, saw, her, you, ...   \n",
       "80131  [so, ,, little, cousin, ,, i, forgive, you, .,...   \n",
       "38012  [the, young, shepherd, led, his, flock, out, t...   \n",
       "99420  [i, glanced, over, my, shoulder, ,, and, my, h...   \n",
       "41780  [i, ll, teach, you, how, to, jump, on, the, wi...   \n",
       "\n",
       "                                                   Query  \\\n",
       "32616  [these, two, things, were, all, that, she, had...   \n",
       "80131  [i, believe, you, re, homesick, ,, xxxxx, ,, s...   \n",
       "38012  [at, sunrise, the, boy, got, up, and, led, his...   \n",
       "99420  [to, the, north, of, that, ,, again, ,, there,...   \n",
       "41780              [xxxxx, of, us, has, any, pockets, .]   \n",
       "\n",
       "                                              Candidates  Answer  \n",
       "32616  [dog, events, everyone, hands, idol, knees, mo...  mother  \n",
       "80131  [cousin, fall, girl, rain, rhyme, settlers, su...    girl  \n",
       "38012  [fate, flock, foot, home, mind, place, reason,...  reason  \n",
       "99420  [it, bottom, glow, land, ribs, sea, shore, spe...     sea  \n",
       "41780  [none, arms, bed, clothes, pity, pockets, star...    none  "
      ]
     },
     "execution_count": 5,
     "metadata": {},
     "output_type": "execute_result"
    }
   ],
   "source": [
    "sample_train.head()"
   ]
  },
  {
   "cell_type": "code",
   "execution_count": 6,
   "metadata": {
    "collapsed": false
   },
   "outputs": [
    {
     "data": {
      "text/html": [
       "<div>\n",
       "<table border=\"1\" class=\"dataframe\">\n",
       "  <thead>\n",
       "    <tr style=\"text-align: right;\">\n",
       "      <th></th>\n",
       "      <th>Document</th>\n",
       "      <th>Query</th>\n",
       "      <th>Candidates</th>\n",
       "      <th>Answer</th>\n",
       "    </tr>\n",
       "  </thead>\n",
       "  <tbody>\n",
       "    <tr>\n",
       "      <th>0</th>\n",
       "      <td>[what, is, it, answered, he, ., the, ogre, is,...</td>\n",
       "      <td>[i, will, get, through, it, somehow, ,, if, i,...</td>\n",
       "      <td>[cousin, cloak, dog, maiden, mountain, needle,...</td>\n",
       "      <td>dog</td>\n",
       "    </tr>\n",
       "    <tr>\n",
       "      <th>1</th>\n",
       "      <td>[then, they, said, to, the, little, girl, clim...</td>\n",
       "      <td>[the, lamia, ran, as, fast, as, she, could, af...</td>\n",
       "      <td>[illustration, children, eating, grazing, hare...</td>\n",
       "      <td>way</td>\n",
       "    </tr>\n",
       "    <tr>\n",
       "      <th>2</th>\n",
       "      <td>[after, supper, mohammed, said, to, the, owner...</td>\n",
       "      <td>[if, she, has, ,, you, may, take, her, in, xxx...</td>\n",
       "      <td>[daughter, everybody, exchange, greyhound, han...</td>\n",
       "      <td>exchange</td>\n",
       "    </tr>\n",
       "    <tr>\n",
       "      <th>3</th>\n",
       "      <td>[it, had, great, claws, as, big, as, ice, tong...</td>\n",
       "      <td>[he, went, over, to, the, xxxxx, and, looked, ...</td>\n",
       "      <td>[bed, boy, cheek, claws, face, might, monster,...</td>\n",
       "      <td>window</td>\n",
       "    </tr>\n",
       "    <tr>\n",
       "      <th>4</th>\n",
       "      <td>[no, ,, it, looked, like, the, shadow, of, joh...</td>\n",
       "      <td>[peter, hopped, all, around, johnny, chuck, ,,...</td>\n",
       "      <td>[course, eyes, fat, feet, fellow, hand, sizes,...</td>\n",
       "      <td>eyes</td>\n",
       "    </tr>\n",
       "  </tbody>\n",
       "</table>\n",
       "</div>"
      ],
      "text/plain": [
       "                                            Document  \\\n",
       "0  [what, is, it, answered, he, ., the, ogre, is,...   \n",
       "1  [then, they, said, to, the, little, girl, clim...   \n",
       "2  [after, supper, mohammed, said, to, the, owner...   \n",
       "3  [it, had, great, claws, as, big, as, ice, tong...   \n",
       "4  [no, ,, it, looked, like, the, shadow, of, joh...   \n",
       "\n",
       "                                               Query  \\\n",
       "0  [i, will, get, through, it, somehow, ,, if, i,...   \n",
       "1  [the, lamia, ran, as, fast, as, she, could, af...   \n",
       "2  [if, she, has, ,, you, may, take, her, in, xxx...   \n",
       "3  [he, went, over, to, the, xxxxx, and, looked, ...   \n",
       "4  [peter, hopped, all, around, johnny, chuck, ,,...   \n",
       "\n",
       "                                          Candidates    Answer  \n",
       "0  [cousin, cloak, dog, maiden, mountain, needle,...       dog  \n",
       "1  [illustration, children, eating, grazing, hare...       way  \n",
       "2  [daughter, everybody, exchange, greyhound, han...  exchange  \n",
       "3  [bed, boy, cheek, claws, face, might, monster,...    window  \n",
       "4  [course, eyes, fat, feet, fellow, hand, sizes,...      eyes  "
      ]
     },
     "execution_count": 6,
     "metadata": {},
     "output_type": "execute_result"
    }
   ],
   "source": [
    "sample_valid.head()"
   ]
  },
  {
   "cell_type": "markdown",
   "metadata": {
    "deletable": true,
    "editable": true
   },
   "source": [
    "### 1. Maximum frequency model."
   ]
  },
  {
   "cell_type": "code",
   "execution_count": 7,
   "metadata": {
    "collapsed": true,
    "deletable": true,
    "editable": true
   },
   "outputs": [],
   "source": [
    "# choose the candidate that has the maximum frequency in Query/Document\n",
    "def maximum_frequency_prediction(row, use_Document_info=False):\n",
    "    temp = row['Query']\n",
    "    if use_Document_info:\n",
    "        temp += row['Document']\n",
    "    freqs = dict(Counter(temp))\n",
    "    ans = row['Candidates'][0]\n",
    "    for w in row['Candidates']:\n",
    "        if w in freqs.keys() and (ans not in freqs.keys() or (freqs[w] > freqs[ans])):\n",
    "            ans = w\n",
    "    return ans"
   ]
  },
  {
   "cell_type": "code",
   "execution_count": 8,
   "metadata": {
    "collapsed": false,
    "deletable": true,
    "editable": true
   },
   "outputs": [],
   "source": [
    "def max_freq_result(df, use_Document_info=False):\n",
    "    accuracy = 0\n",
    "    for _, row in df.iterrows():\n",
    "        if maximum_frequency_prediction(row, use_Document_info) == row['Answer']:\n",
    "            accuracy += 1\n",
    "    print('\\t Accuracy:', round(accuracy / df.shape[0], 2))"
   ]
  },
  {
   "cell_type": "code",
   "execution_count": 9,
   "metadata": {
    "collapsed": false,
    "deletable": true,
    "editable": true
   },
   "outputs": [
    {
     "name": "stdout",
     "output_type": "stream",
     "text": [
      "Maximum frequency (corpus):\n",
      "\t Accuracy: 0.13\n",
      "Maximum frequency (corpus + context):\n",
      "\t Accuracy: 0.27\n"
     ]
    }
   ],
   "source": [
    "print('Maximum frequency (corpus):')\n",
    "max_freq_result(sample_train, False)\n",
    "print('Maximum frequency (corpus + context):')\n",
    "max_freq_result(sample_train, True)"
   ]
  },
  {
   "cell_type": "markdown",
   "metadata": {
    "deletable": true,
    "editable": true
   },
   "source": [
    "In the paper \"THE GOLDILOCKS PRINCIPLE: READING CHILDREN’S BOOKS...\" the results are $0.158$ with corpus-only and $0.281$ with corpus+context, which is pretty similar."
   ]
  },
  {
   "cell_type": "markdown",
   "metadata": {
    "deletable": true,
    "editable": true
   },
   "source": [
    "### 2. Embedding model."
   ]
  },
  {
   "cell_type": "markdown",
   "metadata": {
    "deletable": true,
    "editable": true
   },
   "source": [
    "We simultaneously learn input and output embedding matrices $I, O \\in \\mathbb{R}^{pxd}$, where $p$ is the embedding dimension and $d$ is the dictionary size.\n",
    "\n",
    "\n",
    "For a given input passage $q$ and candidate word $c$ we compute score as:\n",
    "\n",
    "$S(q,w) = (I\\phi(q))^TO\\phi(c)$, where $\\phi(q)$ indicates one-hot representation of $q$."
   ]
  },
  {
   "cell_type": "code",
   "execution_count": 10,
   "metadata": {
    "collapsed": true
   },
   "outputs": [],
   "source": [
    "def categorize_text(text, word_to_id, mapped_words):\n",
    "    newtext = []\n",
    "    text_to_process = text\n",
    "    if type(text) is not list:\n",
    "        text_to_process = [text]\n",
    "    for word in text_to_process:\n",
    "        if mapped_words is None or word in mapped_words:\n",
    "            newtext.append(word_to_id[word])\n",
    "        else:\n",
    "            newtext.append(word_to_id['<NA>'])\n",
    "    return newtext\n",
    "\n",
    "def categorize_df(df, word_to_id=None):\n",
    "    cat_df = pd.DataFrame(dtype=str).reindex_like(df)\n",
    "    cat_df['Document'] = [[]] * len(df)\n",
    "    cat_df['Query'] = [[]] * len(df)\n",
    "    cat_df['Candidates'] = [[]] * len(df)\n",
    "    cat_df['Answer'] = ['<NA>'] * len(df)\n",
    "    words = []\n",
    "    mapped_words = None\n",
    "    id_to_word = None\n",
    "    if word_to_id is None:\n",
    "        print('Processing train data...')\n",
    "        words += list(itertools.chain.from_iterable(df['Document'].values))\n",
    "        words += list(itertools.chain.from_iterable(df['Query'].values))\n",
    "        words += list(itertools.chain.from_iterable(df['Candidates'].values))\n",
    "        words += list(df['Answer'].values)\n",
    "        print('\\t random word:', words[19374])\n",
    "        words += ['<NA>']\n",
    "        words = set(words)\n",
    "        print('\\t dictionary size(with NA):', len(words))\n",
    "        word_to_id = {t: i for i, t in enumerate(words)}\n",
    "        id_to_word = {i: t for i, t in enumerate(words)}\n",
    "    else:\n",
    "        print('Processing test data...')\n",
    "        mapped_words = set(word_to_id.keys())\n",
    "    \n",
    "    cat_df['Document'] = df['Document'].apply(lambda row: categorize_text(row, word_to_id, mapped_words))\n",
    "    cat_df['Query'] = df['Query'].apply(lambda row: categorize_text(row, word_to_id, mapped_words))\n",
    "    cat_df['Candidates'] = df['Candidates'].apply(lambda row: categorize_text(row, word_to_id, mapped_words))\n",
    "    cat_df['Answer'] = df['Answer'].apply(lambda row: categorize_text(row, word_to_id, mapped_words)[0])\n",
    "    \n",
    "    return cat_df, len(words), word_to_id, id_to_word"
   ]
  },
  {
   "cell_type": "code",
   "execution_count": 11,
   "metadata": {
    "collapsed": false
   },
   "outputs": [
    {
     "name": "stdout",
     "output_type": "stream",
     "text": [
      "Processing train data...\n",
      "\t random word: artois\n",
      "\t dictionary size(with NA): 40769\n"
     ]
    }
   ],
   "source": [
    "cat_train, dictionary_size, word_to_id, id_to_word = categorize_df(sample_train)"
   ]
  },
  {
   "cell_type": "code",
   "execution_count": 12,
   "metadata": {
    "collapsed": false
   },
   "outputs": [],
   "source": [
    "def check_categorization(id_to_word, df, cat_df, isTrain=True):\n",
    "    print('Checking categorization...')\n",
    "    ind_s = np.random.randint(0, high=len(df), size=100)\n",
    "    allClear = True\n",
    "    NA_freq = 0\n",
    "    tot_len = 0\n",
    "    for i in ind_s:\n",
    "        for col in df.columns[:-1]:\n",
    "            temp = cat_df[col].iloc[i]\n",
    "            assert type(temp) is list\n",
    "            tot_len += len(temp)\n",
    "            for j in range(len(temp)):\n",
    "                if id_to_word[temp[j]] != df[col].iloc[i][j]:\n",
    "                    if isTrain or id_to_word[temp[j]] != '<NA>':\n",
    "                        allClear = False\n",
    "                    else:\n",
    "                        NA_freq += 1\n",
    "        tot_len += 1\n",
    "        if id_to_word[cat_df['Answer'].iloc[i]] != df['Answer'].iloc[i]:\n",
    "            if isTrain or id_to_word[cat_df['Answer'].iloc[i]] != '<NA>':\n",
    "                allClear = False\n",
    "            else:\n",
    "                NA_freq += 1\n",
    "    NA_freq = 100.0 * float(NA_freq) / float(tot_len)\n",
    "    if allClear:\n",
    "        print('\\t Sector is clear')\n",
    "        if NA_freq > 0:\n",
    "            print('\\t Percentage of <NA> words:', NA_freq)\n",
    "    else:\n",
    "        print('\\t ... Not clear! Not clear!')"
   ]
  },
  {
   "cell_type": "code",
   "execution_count": 13,
   "metadata": {
    "collapsed": false
   },
   "outputs": [
    {
     "name": "stdout",
     "output_type": "stream",
     "text": [
      "Checking categorization...\n",
      "\t Sector is clear\n"
     ]
    }
   ],
   "source": [
    "check_categorization(id_to_word, sample_train, cat_train)"
   ]
  },
  {
   "cell_type": "code",
   "execution_count": 14,
   "metadata": {
    "collapsed": false
   },
   "outputs": [
    {
     "name": "stdout",
     "output_type": "stream",
     "text": [
      "Processing test data...\n"
     ]
    }
   ],
   "source": [
    "cat_valid, _, _, _ = categorize_df(sample_valid, word_to_id)"
   ]
  },
  {
   "cell_type": "code",
   "execution_count": 15,
   "metadata": {
    "collapsed": false
   },
   "outputs": [
    {
     "name": "stdout",
     "output_type": "stream",
     "text": [
      "Checking categorization...\n",
      "\t Sector is clear\n",
      "\t Percentage of <NA> words: 0.73038660118373\n"
     ]
    }
   ],
   "source": [
    "check_categorization(id_to_word, sample_valid, cat_valid, isTrain=False)"
   ]
  },
  {
   "cell_type": "code",
   "execution_count": 16,
   "metadata": {
    "collapsed": false,
    "deletable": true,
    "editable": true
   },
   "outputs": [],
   "source": [
    "def sample_batch(data, batch_size, word_to_id, b=5, offset=None):\n",
    "    if offset is None:\n",
    "        inds = random.sample(range(len(data)), batch_size)\n",
    "    else:\n",
    "        inds = range(offset, offset + batch_size)\n",
    "    X = []\n",
    "    for arr in data.iloc[inds]['Query'].values:\n",
    "        i = np.where(np.array(arr) == word_to_id['xxxxx'])[0][0]\n",
    "        d1 = i\n",
    "        d2 = len(arr) - 1 - i\n",
    "        if d1 > b-1 and d2 > b-1:\n",
    "            X += [arr[i-b:i] + arr[i+1:i+b+1]]\n",
    "        elif d1 > b-1:\n",
    "            X += [arr[i-b:i] + arr[i+1:len(arr)] + [word_to_id['<NA>']]*(b-d2)]\n",
    "        elif d2 > b-1:\n",
    "            X += [[word_to_id['<NA>']]*(b-d1) + arr[0:i] + arr[i+1:i+b+1]]\n",
    "        else:\n",
    "            X += [[word_to_id['<NA>']]*(b-d1) + arr[0:i] + arr[i+1:len(arr)] + [word_to_id['<NA>']]*(b-d2)]\n",
    "    X = np.array(X)\n",
    "    C, y = [], []\n",
    "    for i in inds:\n",
    "        arr = data.iloc[i]['Candidates']\n",
    "        C += [list(arr)]\n",
    "        y += [list(np.array(arr == data.iloc[i]['Answer'],dtype=int))]\n",
    "    C = np.array(C)\n",
    "    y = np.array(y)\n",
    "    return X, C, y, inds"
   ]
  },
  {
   "cell_type": "code",
   "execution_count": 17,
   "metadata": {
    "collapsed": false,
    "deletable": true,
    "editable": true
   },
   "outputs": [],
   "source": [
    "X_ex, C_ex, y_ex, ind_ex = sample_batch(cat_valid, 3, word_to_id, b=3)"
   ]
  },
  {
   "cell_type": "code",
   "execution_count": 18,
   "metadata": {
    "collapsed": false
   },
   "outputs": [
    {
     "data": {
      "text/plain": [
       "(array([[ 4870,  1629, 11761, 17317, 17684, 37703],\n",
       "        [17960, 17960, 17343, 24622, 22396, 17117],\n",
       "        [17960,  7568, 39588, 19530, 11761,  1261]]),\n",
       " array([[0, 1, 0, 0, 0, 0, 0, 0, 0, 0],\n",
       "        [0, 1, 0, 0, 0, 0, 0, 0, 0, 0],\n",
       "        [0, 0, 1, 0, 0, 0, 0, 0, 0, 0]]))"
      ]
     },
     "execution_count": 18,
     "metadata": {},
     "output_type": "execute_result"
    }
   ],
   "source": [
    "X_ex, y_ex"
   ]
  },
  {
   "cell_type": "code",
   "execution_count": 25,
   "metadata": {
    "collapsed": false,
    "deletable": true,
    "editable": true
   },
   "outputs": [
    {
     "name": "stdout",
     "output_type": "stream",
     "text": [
      "(?, 100)\n",
      "(?, 10, 100)\n",
      "(?, 10)\n"
     ]
    }
   ],
   "source": [
    "embedding_size = 100\n",
    "tf.reset_default_graph()\n",
    "X = tf.placeholder(tf.int32, [None, 6], name='input_passage')\n",
    "C = tf.placeholder(tf.int32, [None, 10], name='candidates')\n",
    "y = tf.placeholder(tf.int32, [None, 10], name='answers')\n",
    "\n",
    "input_embeddings = tf.Variable(tf.random_uniform([dictionary_size, embedding_size], 0, 0.1, dtype=tf.float32))\n",
    "output_embeddings = tf.Variable(tf.random_uniform([dictionary_size, embedding_size], 0, 0.1, dtype=tf.float32))\n",
    "\n",
    "emb_X = tf.nn.embedding_lookup(input_embeddings, X)\n",
    "emb_X = tf.reduce_sum(emb_X, axis=1)\n",
    "print(emb_X.shape)\n",
    "emb_C = tf.nn.embedding_lookup(output_embeddings, C)\n",
    "print(emb_C.shape)\n",
    "\n",
    "scores = tf.reduce_sum(tf.tensordot(emb_C, emb_X, axes=[2, 1]), axis=2)\n",
    "logits = tf.nn.softmax(scores)\n",
    "print(logits.shape)\n",
    "\n",
    "loss = tf.losses.log_loss(labels=y, predictions=logits)\n",
    "\n",
    "equality = tf.equal(tf.argmax(logits, 1), tf.argmax(y, 1))\n",
    "num_equals = tf.reduce_sum(tf.cast(equality, tf.float32))\n",
    "#accuracy, _ = tf.metrics.accuracy(labels=tf.argmax(y,1), predictions=tf.argmax(logits,1))\n",
    "\n",
    "train_op = tf.train.AdamOptimizer().minimize(loss, )"
   ]
  },
  {
   "cell_type": "code",
   "execution_count": 27,
   "metadata": {
    "collapsed": false,
    "deletable": true,
    "editable": true
   },
   "outputs": [
    {
     "name": "stderr",
     "output_type": "stream",
     "text": [
      "100%|██████████| 90/90 [06:45<00:00,  4.50s/it]"
     ]
    },
    {
     "name": "stdout",
     "output_type": "stream",
     "text": [
      "Maximum train accuracy is 0.301875\n"
     ]
    },
    {
     "name": "stderr",
     "output_type": "stream",
     "text": [
      "\n"
     ]
    }
   ],
   "source": [
    "s = tf.Session()\n",
    "s.run(tf.global_variables_initializer())\n",
    "\n",
    "n_epochs = 90\n",
    "batches_per_epoch = 50\n",
    "batch_size = 64\n",
    "\n",
    "train_losses = []\n",
    "valid_losses = []\n",
    "train_accuracies = []\n",
    "\n",
    "for epoch in tqdm(range(n_epochs)):\n",
    "    avg_train_loss, avg_valid_loss = 0, 0\n",
    "    avg_acc = 0\n",
    "    for batch in range(batches_per_epoch):\n",
    "        x_, c_, y_, inds_ = sample_batch(cat_train, batch_size, word_to_id, 3)\n",
    "\n",
    "        _, iloss, y_pred, acc = s.run([train_op, loss, logits, num_equals], {X: x_,\n",
    "                                                                 C: c_,\n",
    "                                                                 y: y_})\n",
    "        avg_train_loss += iloss\n",
    "        avg_acc += acc\n",
    "        x_valid, c_valid, y_valid, _ = sample_batch(cat_valid, batch_size, word_to_id, 3)\n",
    "        iloss, acc = s.run([loss, num_equals], {X: x_valid, C: c_valid, y: y_valid})\n",
    "        avg_valid_loss += iloss\n",
    "    train_losses.append([avg_train_loss/batches_per_epoch])\n",
    "    valid_losses.append([avg_valid_loss/batches_per_epoch])\n",
    "    train_accuracies.append([avg_acc/(batches_per_epoch * batch_size)])\n",
    "    \n",
    "print('Maximum train accuracy is', np.max(train_accuracies))"
   ]
  },
  {
   "cell_type": "code",
   "execution_count": 28,
   "metadata": {
    "collapsed": true
   },
   "outputs": [],
   "source": [
    "from matplotlib import pyplot as plt"
   ]
  },
  {
   "cell_type": "code",
   "execution_count": 29,
   "metadata": {
    "collapsed": false
   },
   "outputs": [
    {
     "data": {
      "image/png": "[encoded data removed]",
      "text/plain": [
       "<matplotlib.figure.Figure at 0x7fbdd5c3cf28>"
      ]
     },
     "metadata": {},
     "output_type": "display_data"
    }
   ],
   "source": [
    "plt.figure(figsize=(12,8))\n",
    "plt.title('Logloss', size=25)\n",
    "plt.plot(train_losses, label='train')\n",
    "plt.plot(valid_losses, label='valid')\n",
    "plt.legend(loc='best',fontsize=20)\n",
    "plt.show()"
   ]
  },
  {
   "cell_type": "code",
   "execution_count": 30,
   "metadata": {
    "collapsed": false
   },
   "outputs": [
    {
     "data": {
      "image/png": "[encoded data removed]",
      "text/plain": [
       "<matplotlib.figure.Figure at 0x7fbdd5c3c240>"
      ]
     },
     "metadata": {},
     "output_type": "display_data"
    }
   ],
   "source": [
    "plt.figure(figsize=(12,8))\n",
    "plt.title('Accuracy', size=25)\n",
    "plt.plot(train_accuracies)\n",
    "plt.show()"
   ]
  },
  {
   "cell_type": "code",
   "execution_count": 36,
   "metadata": {
    "collapsed": false
   },
   "outputs": [
    {
     "name": "stderr",
     "output_type": "stream",
     "text": [
      "100%|██████████| 50/50 [00:19<00:00,  2.54it/s]"
     ]
    },
    {
     "name": "stdout",
     "output_type": "stream",
     "text": [
      "Total train accuracy: 0.2808\n"
     ]
    },
    {
     "name": "stderr",
     "output_type": "stream",
     "text": [
      "\n"
     ]
    }
   ],
   "source": [
    "accuracy = 0\n",
    "batch_size = 1000\n",
    "for i in tqdm(range(0, len(cat_train), batch_size)):\n",
    "    x_, c_, y_, inds_ = sample_batch(cat_train, batch_size, word_to_id, 3, offset=i)\n",
    "    assert x_.shape[0] == batch_size\n",
    "    acc = s.run(num_equals, {X: x_, C: c_, y: y_})\n",
    "    accuracy += acc\n",
    "print('Total train accuracy:', accuracy / len(cat_train))"
   ]
  },
  {
   "cell_type": "markdown",
   "metadata": {},
   "source": [
    "As we see, standard embedding approach doesn't improve our score too much (however, paper results are slightly better - 0.415). \n",
    "\n",
    "Overall, known simple models give us insufficient accuracy, so we'll move on to the more complicated."
   ]
  }
 ],
 "metadata": {
  "kernelspec": {
   "display_name": "Python 3",
   "language": "python",
   "name": "python3"
  },
  "language_info": {
   "codemirror_mode": {
    "name": "ipython",
    "version": 3
   },
   "file_extension": ".py",
   "mimetype": "text/x-python",
   "name": "python",
   "nbconvert_exporter": "python",
   "pygments_lexer": "ipython3",
   "version": "3.5.2"
  }
 },
 "nbformat": 4,
 "nbformat_minor": 2
}
