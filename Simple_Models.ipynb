{
 "cells": [
  {
   "cell_type": "code",
   "execution_count": 1,
   "metadata": {
    "collapsed": false,
    "deletable": true,
    "editable": true
   },
   "outputs": [],
   "source": [
    "import numpy as np\n",
    "import pandas as pd\n",
    "from ast import literal_eval\n",
    "from collections import Counter\n",
    "import itertools\n",
    "import tensorflow as tf\n",
    "from tqdm import tqdm"
   ]
  },
  {
   "cell_type": "markdown",
   "metadata": {
    "deletable": true,
    "editable": true
   },
   "source": [
    "Let's deal at first with Common Nouns Question Answering."
   ]
  },
  {
   "cell_type": "code",
   "execution_count": 2,
   "metadata": {
    "collapsed": true,
    "deletable": true,
    "editable": true
   },
   "outputs": [],
   "source": [
    "sample_train = pd.read_csv('data/CBT_CN_train.csv',delimiter=';')\n",
    "sample_valid = pd.read_csv('data/CBT_CN_valid.csv',delimiter=';')"
   ]
  },
  {
   "cell_type": "code",
   "execution_count": 3,
   "metadata": {
    "collapsed": true,
    "deletable": true,
    "editable": true
   },
   "outputs": [],
   "source": [
    "sample_train = sample_train.sample(n=40000, replace=True)"
   ]
  },
  {
   "cell_type": "code",
   "execution_count": 4,
   "metadata": {
    "collapsed": false,
    "deletable": true,
    "editable": true
   },
   "outputs": [],
   "source": [
    "sample_train['Document'] = sample_train['Document'].apply(literal_eval)\n",
    "sample_valid['Document'] = sample_valid['Document'].apply(literal_eval)\n",
    "sample_train['Query'] = sample_train['Query'].apply(literal_eval)\n",
    "sample_valid['Query'] = sample_valid['Query'].apply(literal_eval)\n",
    "sample_train['Candidates'] = sample_train['Candidates'].apply(literal_eval)\n",
    "sample_valid['Candidates'] = sample_valid['Candidates'].apply(literal_eval)"
   ]
  },
  {
   "cell_type": "code",
   "execution_count": 5,
   "metadata": {
    "collapsed": false,
    "deletable": true,
    "editable": true
   },
   "outputs": [
    {
     "data": {
      "text/html": [
       "<div>\n",
       "<table border=\"1\" class=\"dataframe\">\n",
       "  <thead>\n",
       "    <tr style=\"text-align: right;\">\n",
       "      <th></th>\n",
       "      <th>Document</th>\n",
       "      <th>Query</th>\n",
       "      <th>Candidates</th>\n",
       "      <th>Answer</th>\n",
       "    </tr>\n",
       "  </thead>\n",
       "  <tbody>\n",
       "    <tr>\n",
       "      <th>103638</th>\n",
       "      <td>[a, false, fellow, ,, but, ,, in, his, fashion...</td>\n",
       "      <td>[the, xxxxx, i, gather, comes, into, england, ...</td>\n",
       "      <td>[gold, boat, bows, breath, chamber, coast, fas...</td>\n",
       "      <td>gold</td>\n",
       "    </tr>\n",
       "    <tr>\n",
       "      <th>37191</th>\n",
       "      <td>[this, time, the, mother, said, now, that, i, ...</td>\n",
       "      <td>[when, the, three, witches, beheld, the, xxxxx...</td>\n",
       "      <td>[brother, chariot, minute, mother, proposal, s...</td>\n",
       "      <td>chariot</td>\n",
       "    </tr>\n",
       "    <tr>\n",
       "      <th>28288</th>\n",
       "      <td>[what, shall, we, do, now, said, they, ., shal...</td>\n",
       "      <td>[the, next, day, ,, when, they, were, all, cut...</td>\n",
       "      <td>[blows, fairy, hand, horn, minds, purse, turn,...</td>\n",
       "      <td>purse</td>\n",
       "    </tr>\n",
       "    <tr>\n",
       "      <th>85895</th>\n",
       "      <td>[we, should, have, been, feeling, very, comfor...</td>\n",
       "      <td>[i, do, n, t, know, where, you, expect, to, go...</td>\n",
       "      <td>[felicity, cause, girls, nothing, petitions, p...</td>\n",
       "      <td>felicity</td>\n",
       "    </tr>\n",
       "    <tr>\n",
       "      <th>64935</th>\n",
       "      <td>[i, know, how, you, feel, jest, now, but, if, ...</td>\n",
       "      <td>[but, i, ll, find, her, sometime, ,, xxxxx, bl...</td>\n",
       "      <td>[god, mistress, channel, course, grace, lips, ...</td>\n",
       "      <td>mistress</td>\n",
       "    </tr>\n",
       "  </tbody>\n",
       "</table>\n",
       "</div>"
      ],
      "text/plain": [
       "                                                 Document  \\\n",
       "103638  [a, false, fellow, ,, but, ,, in, his, fashion...   \n",
       "37191   [this, time, the, mother, said, now, that, i, ...   \n",
       "28288   [what, shall, we, do, now, said, they, ., shal...   \n",
       "85895   [we, should, have, been, feeling, very, comfor...   \n",
       "64935   [i, know, how, you, feel, jest, now, but, if, ...   \n",
       "\n",
       "                                                    Query  \\\n",
       "103638  [the, xxxxx, i, gather, comes, into, england, ...   \n",
       "37191   [when, the, three, witches, beheld, the, xxxxx...   \n",
       "28288   [the, next, day, ,, when, they, were, all, cut...   \n",
       "85895   [i, do, n, t, know, where, you, expect, to, go...   \n",
       "64935   [but, i, ll, find, her, sometime, ,, xxxxx, bl...   \n",
       "\n",
       "                                               Candidates    Answer  \n",
       "103638  [gold, boat, bows, breath, chamber, coast, fas...      gold  \n",
       "37191   [brother, chariot, minute, mother, proposal, s...   chariot  \n",
       "28288   [blows, fairy, hand, horn, minds, purse, turn,...     purse  \n",
       "85895   [felicity, cause, girls, nothing, petitions, p...  felicity  \n",
       "64935   [god, mistress, channel, course, grace, lips, ...  mistress  "
      ]
     },
     "execution_count": 5,
     "metadata": {},
     "output_type": "execute_result"
    }
   ],
   "source": [
    "sample_train.head()"
   ]
  },
  {
   "cell_type": "code",
   "execution_count": 6,
   "metadata": {
    "collapsed": false
   },
   "outputs": [
    {
     "data": {
      "text/html": [
       "<div>\n",
       "<table border=\"1\" class=\"dataframe\">\n",
       "  <thead>\n",
       "    <tr style=\"text-align: right;\">\n",
       "      <th></th>\n",
       "      <th>Document</th>\n",
       "      <th>Query</th>\n",
       "      <th>Candidates</th>\n",
       "      <th>Answer</th>\n",
       "    </tr>\n",
       "  </thead>\n",
       "  <tbody>\n",
       "    <tr>\n",
       "      <th>0</th>\n",
       "      <td>[what, is, it, answered, he, ., the, ogre, is,...</td>\n",
       "      <td>[i, will, get, through, it, somehow, ,, if, i,...</td>\n",
       "      <td>[cousin, cloak, dog, maiden, mountain, needle,...</td>\n",
       "      <td>dog</td>\n",
       "    </tr>\n",
       "    <tr>\n",
       "      <th>1</th>\n",
       "      <td>[then, they, said, to, the, little, girl, clim...</td>\n",
       "      <td>[the, lamia, ran, as, fast, as, she, could, af...</td>\n",
       "      <td>[illustration, children, eating, grazing, hare...</td>\n",
       "      <td>way</td>\n",
       "    </tr>\n",
       "    <tr>\n",
       "      <th>2</th>\n",
       "      <td>[after, supper, mohammed, said, to, the, owner...</td>\n",
       "      <td>[if, she, has, ,, you, may, take, her, in, xxx...</td>\n",
       "      <td>[daughter, everybody, exchange, greyhound, han...</td>\n",
       "      <td>exchange</td>\n",
       "    </tr>\n",
       "    <tr>\n",
       "      <th>3</th>\n",
       "      <td>[it, had, great, claws, as, big, as, ice, tong...</td>\n",
       "      <td>[he, went, over, to, the, xxxxx, and, looked, ...</td>\n",
       "      <td>[bed, boy, cheek, claws, face, might, monster,...</td>\n",
       "      <td>window</td>\n",
       "    </tr>\n",
       "    <tr>\n",
       "      <th>4</th>\n",
       "      <td>[no, ,, it, looked, like, the, shadow, of, joh...</td>\n",
       "      <td>[peter, hopped, all, around, johnny, chuck, ,,...</td>\n",
       "      <td>[course, eyes, fat, feet, fellow, hand, sizes,...</td>\n",
       "      <td>eyes</td>\n",
       "    </tr>\n",
       "  </tbody>\n",
       "</table>\n",
       "</div>"
      ],
      "text/plain": [
       "                                            Document  \\\n",
       "0  [what, is, it, answered, he, ., the, ogre, is,...   \n",
       "1  [then, they, said, to, the, little, girl, clim...   \n",
       "2  [after, supper, mohammed, said, to, the, owner...   \n",
       "3  [it, had, great, claws, as, big, as, ice, tong...   \n",
       "4  [no, ,, it, looked, like, the, shadow, of, joh...   \n",
       "\n",
       "                                               Query  \\\n",
       "0  [i, will, get, through, it, somehow, ,, if, i,...   \n",
       "1  [the, lamia, ran, as, fast, as, she, could, af...   \n",
       "2  [if, she, has, ,, you, may, take, her, in, xxx...   \n",
       "3  [he, went, over, to, the, xxxxx, and, looked, ...   \n",
       "4  [peter, hopped, all, around, johnny, chuck, ,,...   \n",
       "\n",
       "                                          Candidates    Answer  \n",
       "0  [cousin, cloak, dog, maiden, mountain, needle,...       dog  \n",
       "1  [illustration, children, eating, grazing, hare...       way  \n",
       "2  [daughter, everybody, exchange, greyhound, han...  exchange  \n",
       "3  [bed, boy, cheek, claws, face, might, monster,...    window  \n",
       "4  [course, eyes, fat, feet, fellow, hand, sizes,...      eyes  "
      ]
     },
     "execution_count": 6,
     "metadata": {},
     "output_type": "execute_result"
    }
   ],
   "source": [
    "sample_valid.head()"
   ]
  },
  {
   "cell_type": "markdown",
   "metadata": {
    "deletable": true,
    "editable": true
   },
   "source": [
    "### 1. Maximum frequency model."
   ]
  },
  {
   "cell_type": "code",
   "execution_count": 7,
   "metadata": {
    "collapsed": true,
    "deletable": true,
    "editable": true
   },
   "outputs": [],
   "source": [
    "# choose the candidate that has the maximum frequency in Query/Document\n",
    "def maximum_frequency_prediction(row, use_Document_info=False):\n",
    "    temp = row['Query']\n",
    "    if use_Document_info:\n",
    "        temp += row['Document']\n",
    "    freqs = dict(Counter(temp))\n",
    "    ans = row['Candidates'][0]\n",
    "    for w in row['Candidates']:\n",
    "        if w in freqs.keys() and (ans not in freqs.keys() or (freqs[w] > freqs[ans])):\n",
    "            ans = w\n",
    "    return ans"
   ]
  },
  {
   "cell_type": "code",
   "execution_count": 8,
   "metadata": {
    "collapsed": false,
    "deletable": true,
    "editable": true
   },
   "outputs": [],
   "source": [
    "def max_freq_result(df, use_Document_info=False):\n",
    "    accuracy = 0\n",
    "    for _, row in df.iterrows():\n",
    "        if maximum_frequency_prediction(row, use_Document_info) == row['Answer']:\n",
    "            accuracy += 1\n",
    "    print('\\t Accuracy:', round(accuracy / df.shape[0], 2))"
   ]
  },
  {
   "cell_type": "code",
   "execution_count": 9,
   "metadata": {
    "collapsed": false,
    "deletable": true,
    "editable": true
   },
   "outputs": [
    {
     "name": "stdout",
     "output_type": "stream",
     "text": [
      "Maximum frequency (corpus):\n",
      "\t Accuracy: 0.13\n",
      "Maximum frequency (corpus + context):\n",
      "\t Accuracy: 0.28\n"
     ]
    }
   ],
   "source": [
    "print('Maximum frequency (corpus):')\n",
    "max_freq_result(sample_train, False)\n",
    "print('Maximum frequency (corpus + context):')\n",
    "max_freq_result(sample_train, True)"
   ]
  },
  {
   "cell_type": "markdown",
   "metadata": {
    "deletable": true,
    "editable": true
   },
   "source": [
    "In the paper \"THE GOLDILOCKS PRINCIPLE: READING CHILDREN’S BOOKS...\" the results are $0.158$ with corpus-only and $0.281$ with corpus+context, which is pretty similar."
   ]
  },
  {
   "cell_type": "markdown",
   "metadata": {
    "deletable": true,
    "editable": true
   },
   "source": [
    "### 2. Embedding model."
   ]
  },
  {
   "cell_type": "markdown",
   "metadata": {
    "deletable": true,
    "editable": true
   },
   "source": [
    "We simultaneously learn input and output embedding matrices $I, O \\in \\mathbb{R}^{pxd}$, where $p$ is the embedding dimension and $d$ is the dictionary size.\n",
    "\n",
    "\n",
    "For a given input passage $q$ and candidate word $c$ we compute score as:\n",
    "\n",
    "$S(q,w) = (I\\phi(q))^TO\\phi(c)$, where $\\phi(q)$ indicates one-hot representation of $q$."
   ]
  },
  {
   "cell_type": "code",
   "execution_count": 10,
   "metadata": {
    "collapsed": true
   },
   "outputs": [],
   "source": [
    "def categorize_text(text, word_to_id, mapped_words):\n",
    "    newtext = []\n",
    "    text_to_process = text\n",
    "    if type(text) is not list:\n",
    "        text_to_process = [text]\n",
    "    for word in text_to_process:\n",
    "        if mapped_words is None or word in mapped_words:\n",
    "            newtext.append(word_to_id[word])\n",
    "        else:\n",
    "            newtext.append(word_to_id['<NA>'])\n",
    "    return newtext\n",
    "\n",
    "def categorize_df(df, word_to_id=None):\n",
    "    cat_df = pd.DataFrame(dtype=str).reindex_like(df)\n",
    "    cat_df['Document'] = [[]] * len(df)\n",
    "    cat_df['Query'] = [[]] * len(df)\n",
    "    cat_df['Candidates'] = [[]] * len(df)\n",
    "    cat_df['Answer'] = ['<NA>'] * len(df)\n",
    "    words = []\n",
    "    mapped_words = None\n",
    "    id_to_word = None\n",
    "    if word_to_id is None:\n",
    "        print('Processing train data...')\n",
    "        words += list(itertools.chain.from_iterable(df['Document'].values))\n",
    "        words += list(itertools.chain.from_iterable(df['Query'].values))\n",
    "        words += list(itertools.chain.from_iterable(df['Candidates'].values))\n",
    "        words += list(df['Answer'].values)\n",
    "        print('\\t random word:', words[19374])\n",
    "        words += ['<NA>']\n",
    "        words = set(words)\n",
    "        print('\\t dictionary size(with NA):', len(words))\n",
    "        word_to_id = {t: i for i, t in enumerate(words)}\n",
    "        id_to_word = {i: t for i, t in enumerate(words)}\n",
    "    else:\n",
    "        print('Processing test data...')\n",
    "        mapped_words = set(word_to_id.keys())\n",
    "    \n",
    "    cat_df['Document'] = df['Document'].apply(lambda row: categorize_text(row, word_to_id, mapped_words))\n",
    "    cat_df['Query'] = df['Query'].apply(lambda row: categorize_text(row, word_to_id, mapped_words))\n",
    "    cat_df['Candidates'] = df['Candidates'].apply(lambda row: categorize_text(row, word_to_id, mapped_words))\n",
    "    cat_df['Answer'] = df['Answer'].apply(lambda row: categorize_text(row, word_to_id, mapped_words)[0])\n",
    "    \n",
    "    return cat_df, len(words), word_to_id, id_to_word"
   ]
  },
  {
   "cell_type": "code",
   "execution_count": 11,
   "metadata": {
    "collapsed": false
   },
   "outputs": [
    {
     "name": "stdout",
     "output_type": "stream",
     "text": [
      "Processing train data...\n",
      "\t random word: to\n",
      "\t dictionary size(with NA): 40364\n"
     ]
    }
   ],
   "source": [
    "cat_train, dictionary_size, word_to_id, id_to_word = categorize_df(sample_train)"
   ]
  },
  {
   "cell_type": "code",
   "execution_count": 12,
   "metadata": {
    "collapsed": false
   },
   "outputs": [],
   "source": [
    "def check_categorization(id_to_word, df, cat_df, isTrain=True):\n",
    "    print('Checking categorization...')\n",
    "    ind_s = np.random.randint(0, high=len(df), size=100)\n",
    "    allClear = True\n",
    "    NA_freq = 0\n",
    "    tot_len = 0\n",
    "    for i in ind_s:\n",
    "        for col in df.columns[:-1]:\n",
    "            temp = cat_df[col].iloc[i]\n",
    "            assert type(temp) is list\n",
    "            tot_len += len(temp)\n",
    "            for j in range(len(temp)):\n",
    "                if id_to_word[temp[j]] != df[col].iloc[i][j]:\n",
    "                    if isTrain or id_to_word[temp[j]] != '<NA>':\n",
    "                        allClear = False\n",
    "                    else:\n",
    "                        NA_freq += 1\n",
    "        tot_len += 1\n",
    "        if id_to_word[cat_df['Answer'].iloc[i]] != df['Answer'].iloc[i]:\n",
    "            if isTrain or id_to_word[cat_df['Answer'].iloc[i]] != '<NA>':\n",
    "                allClear = False\n",
    "            else:\n",
    "                NA_freq += 1\n",
    "    NA_freq = 100.0 * float(NA_freq) / float(tot_len)\n",
    "    if allClear:\n",
    "        print('\\t Sector is clear')\n",
    "        if NA_freq > 0:\n",
    "            print('\\t Percentage of <NA> words:', NA_freq)\n",
    "    else:\n",
    "        print('\\t ... Not clear! Not clear!')"
   ]
  },
  {
   "cell_type": "code",
   "execution_count": 13,
   "metadata": {
    "collapsed": false
   },
   "outputs": [
    {
     "name": "stdout",
     "output_type": "stream",
     "text": [
      "Checking categorization...\n",
      "\t Sector is clear\n"
     ]
    }
   ],
   "source": [
    "check_categorization(id_to_word, sample_train, cat_train)"
   ]
  },
  {
   "cell_type": "code",
   "execution_count": 14,
   "metadata": {
    "collapsed": false
   },
   "outputs": [
    {
     "name": "stdout",
     "output_type": "stream",
     "text": [
      "Processing test data...\n"
     ]
    }
   ],
   "source": [
    "cat_valid, _, _, _ = categorize_df(sample_valid, word_to_id)"
   ]
  },
  {
   "cell_type": "code",
   "execution_count": 15,
   "metadata": {
    "collapsed": false
   },
   "outputs": [
    {
     "name": "stdout",
     "output_type": "stream",
     "text": [
      "Checking categorization...\n",
      "\t Sector is clear\n",
      "\t Percentage of <NA> words: 0.7360082881871749\n"
     ]
    }
   ],
   "source": [
    "check_categorization(id_to_word, sample_valid, cat_valid, isTrain=False)"
   ]
  },
  {
   "cell_type": "code",
   "execution_count": 16,
   "metadata": {
    "collapsed": true,
    "deletable": true,
    "editable": true
   },
   "outputs": [],
   "source": [
    "def sample_batch(data, batch_size, word_to_id):\n",
    "    inds = np.random.randint(0, len(data), size=batch_size)\n",
    "    X = []\n",
    "    for arr in data.iloc[inds]['Query'].values:\n",
    "        i = np.where(np.array(arr) == word_to_id['xxxxx'])[0][0]\n",
    "        d1 = i\n",
    "        d2 = len(arr) - 1 - i\n",
    "        if d1 > 4 and d2 > 4:\n",
    "            X += [arr[i-5:i] + arr[i+1:i+6]]\n",
    "        elif d1 > 4:\n",
    "            X += [arr[i-5:i] + arr[i+1:len(arr)] + [word_to_id['<NA>']]*(5-d2)]\n",
    "        elif d2 > 4:\n",
    "            X += [[word_to_id['<NA>']]*(5-d1) + arr[0:i] + arr[i+1:i+6]]\n",
    "    X = np.array(X)\n",
    "    C, y = [], []\n",
    "    for i in inds:\n",
    "        arr = data.iloc[i]['Candidates']\n",
    "        C += [list(arr)]\n",
    "        y += [list(np.array(arr == data.iloc[i]['Answer'],dtype=int))]\n",
    "    C = np.array(C)\n",
    "    y = np.array(y)\n",
    "    return X, C, y, inds"
   ]
  },
  {
   "cell_type": "code",
   "execution_count": 17,
   "metadata": {
    "collapsed": false,
    "deletable": true,
    "editable": true
   },
   "outputs": [],
   "source": [
    "X_ex, C_ex, y_ex, ind_ex = sample_batch(cat_train, 3, word_to_id)"
   ]
  },
  {
   "cell_type": "code",
   "execution_count": 18,
   "metadata": {
    "collapsed": false
   },
   "outputs": [
    {
     "data": {
      "text/plain": [
       "(array([[38630, 34073, 25340, 21536, 21989, 30500,  3175, 34073,  2598,\n",
       "         21536],\n",
       "        [ 6930, 29726, 32199,  5679, 21536, 12626, 13359, 31525, 34073,\n",
       "         25043],\n",
       "        [ 7903,  7903,  7903,  7903, 21536, 31260, 21536, 23028, 36960,\n",
       "          8000]]), array([[0, 0, 1, 0, 0, 0, 0, 0, 0, 0],\n",
       "        [0, 0, 1, 0, 0, 0, 0, 0, 0, 0],\n",
       "        [0, 1, 0, 0, 0, 0, 0, 0, 0, 0]]))"
      ]
     },
     "execution_count": 18,
     "metadata": {},
     "output_type": "execute_result"
    }
   ],
   "source": [
    "X_ex, y_ex"
   ]
  },
  {
   "cell_type": "code",
   "execution_count": 19,
   "metadata": {
    "collapsed": false,
    "deletable": true,
    "editable": true
   },
   "outputs": [
    {
     "name": "stdout",
     "output_type": "stream",
     "text": [
      "(?, 30)\n",
      "(?, 10, 30)\n",
      "(?, 10)\n"
     ]
    }
   ],
   "source": [
    "embedding_size = 30\n",
    "tf.reset_default_graph()\n",
    "X = tf.placeholder(tf.int32, [None, 10], name='input_passage')\n",
    "C = tf.placeholder(tf.int32, [None, 10], name='candidates')\n",
    "y = tf.placeholder(tf.int32, [None, 10], name='answers')\n",
    "\n",
    "input_embeddings = tf.Variable(tf.random_uniform([dictionary_size, embedding_size], 0, 0.1, dtype=tf.float32))\n",
    "output_embeddings = tf.Variable(tf.random_uniform([dictionary_size, embedding_size], 0, 0.1, dtype=tf.float32))\n",
    "\n",
    "emb_X = tf.nn.embedding_lookup(input_embeddings, X)\n",
    "emb_X = tf.reduce_sum(emb_X, axis=1)\n",
    "print(emb_X.shape)\n",
    "emb_C = tf.nn.embedding_lookup(output_embeddings, C)\n",
    "print(emb_C.shape)\n",
    "\n",
    "scores = tf.reduce_sum(tf.tensordot(emb_C, emb_X, axes=[2, 1]), axis=2)\n",
    "logits = tf.nn.softmax(scores)\n",
    "print(logits.shape)\n",
    "\n",
    "loss = tf.losses.log_loss(labels=y, predictions=logits)\n",
    "\n",
    "equality = tf.equal(tf.argmax(logits, 1), tf.argmax(y, 1))\n",
    "num_equals = tf.reduce_sum(tf.cast(equality, tf.float32))\n",
    "#accuracy, _ = tf.metrics.accuracy(labels=tf.argmax(y,1), predictions=tf.argmax(logits,1))\n",
    "\n",
    "train_op = tf.train.AdamOptimizer().minimize(loss, )"
   ]
  },
  {
   "cell_type": "code",
   "execution_count": 20,
   "metadata": {
    "collapsed": false,
    "deletable": true,
    "editable": true
   },
   "outputs": [
    {
     "name": "stderr",
     "output_type": "stream",
     "text": [
      "100%|██████████| 100/100 [09:39<00:00,  5.79s/it]"
     ]
    },
    {
     "name": "stdout",
     "output_type": "stream",
     "text": [
      "Average accuracy is 0.2691125\n"
     ]
    },
    {
     "name": "stderr",
     "output_type": "stream",
     "text": [
      "\n"
     ]
    }
   ],
   "source": [
    "s = tf.Session()\n",
    "s.run(tf.global_variables_initializer())\n",
    "\n",
    "n_epochs = 100\n",
    "batches_per_epoch = 100\n",
    "batch_size = 64\n",
    "\n",
    "train_losses = []\n",
    "valid_losses = []\n",
    "accuracies = []\n",
    "\n",
    "for epoch in tqdm(range(n_epochs)):\n",
    "    #old_test_loss = avg_test_loss\n",
    "    avg_train_loss, avg_valid_loss = 0, 0\n",
    "    avg_acc = 0\n",
    "    for batch in range(batches_per_epoch):\n",
    "        x_, c_, y_, inds_ = sample_batch(cat_train, batch_size, word_to_id)\n",
    "\n",
    "        _, iloss, y_pred, acc = s.run([train_op, loss, logits, num_equals], {X: x_,\n",
    "                                                                 C: c_,\n",
    "                                                                 y: y_})\n",
    "        avg_train_loss += iloss\n",
    "        avg_acc += acc\n",
    "        x_valid, c_valid, y_valid, _ = sample_batch(cat_valid, batch_size, word_to_id)\n",
    "        \n",
    "        iloss, acc = s.run([loss, num_equals], {X: x_valid, C: c_valid, y: y_valid})\n",
    "        avg_valid_loss += iloss\n",
    "        avg_acc += acc\n",
    "    #print(\"EPOCH: \", epoch)\n",
    "    #print(\"\\t AVERAGE TRAIN LOSS:\", avg_train_loss/batches_per_epoch)\n",
    "    #print(\"\\t AVERAGE VALID LOSS:\", avg_valid_loss/batches_per_epoch)\n",
    "    #print('\\t AVERAGE ACCURACY:', avg_acc/batches_per_epoch)\n",
    "    train_losses.append([avg_train_loss/batches_per_epoch])\n",
    "    valid_losses.append([avg_valid_loss/batches_per_epoch])\n",
    "    accuracies.append([avg_acc/(batches_per_epoch * batch_size * 2)])\n",
    "    #if epoch != 0 and avg_test_loss > old_test_loss:\n",
    "    #    pass\n",
    "        #print('problems...')\n",
    "total_num_of_examples = n_epochs * batches_per_epoch * batch_size * 2\n",
    "total_accuracy = np.sum(accuracies) * batches_per_epoch * batch_size * 2 / total_num_of_examples\n",
    "print('Average accuracy is', total_accuracy)"
   ]
  },
  {
   "cell_type": "code",
   "execution_count": 21,
   "metadata": {
    "collapsed": true
   },
   "outputs": [],
   "source": [
    "from matplotlib import pyplot as plt"
   ]
  },
  {
   "cell_type": "code",
   "execution_count": 24,
   "metadata": {
    "collapsed": false
   },
   "outputs": [
    {
     "data": {
      "image/png": "[encoded data removed]",
      "text/plain": [
       "<matplotlib.figure.Figure at 0x7ff84eed9e80>"
      ]
     },
     "metadata": {},
     "output_type": "display_data"
    }
   ],
   "source": [
    "plt.figure(figsize=(12,8))\n",
    "plt.title('Logloss', size=25)\n",
    "plt.plot(train_losses, label='train')\n",
    "plt.plot(valid_losses, label='valid')\n",
    "plt.legend(loc='best',fontsize=20)\n",
    "plt.show()"
   ]
  },
  {
   "cell_type": "code",
   "execution_count": 25,
   "metadata": {
    "collapsed": false
   },
   "outputs": [
    {
     "data": {
      "image/png": "[encoded data removed]",
      "text/plain": [
       "<matplotlib.figure.Figure at 0x7ff84dd414e0>"
      ]
     },
     "metadata": {},
     "output_type": "display_data"
    }
   ],
   "source": [
    "plt.figure(figsize=(12,8))\n",
    "plt.title('Accuracy', size=25)\n",
    "plt.plot(accuracies)\n",
    "plt.show()"
   ]
  },
  {
   "cell_type": "code",
   "execution_count": 26,
   "metadata": {
    "collapsed": false
   },
   "outputs": [
    {
     "data": {
      "text/plain": [
       "0.28468749999999998"
      ]
     },
     "execution_count": 26,
     "metadata": {},
     "output_type": "execute_result"
    }
   ],
   "source": [
    "np.max(accuracies)"
   ]
  }
 ],
 "metadata": {
  "kernelspec": {
   "display_name": "Python 3",
   "language": "python",
   "name": "python3"
  },
  "language_info": {
   "codemirror_mode": {
    "name": "ipython",
    "version": 3
   },
   "file_extension": ".py",
   "mimetype": "text/x-python",
   "name": "python",
   "nbconvert_exporter": "python",
   "pygments_lexer": "ipython3",
   "version": "3.5.2"
  }
 },
 "nbformat": 4,
 "nbformat_minor": 2
}
