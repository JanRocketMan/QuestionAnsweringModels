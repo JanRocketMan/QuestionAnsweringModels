{
 "cells": [
  {
   "cell_type": "code",
   "execution_count": 7,
   "metadata": {
    "collapsed": true
   },
   "outputs": [],
   "source": [
    "import numpy as np\n",
    "import pandas as pd\n",
    "from ast import literal_eval\n",
    "from collections import Counter\n",
    "import tensorflow as tf"
   ]
  },
  {
   "cell_type": "markdown",
   "metadata": {},
   "source": [
    "Let's deal at first with Common Nouns Question Answering."
   ]
  },
  {
   "cell_type": "code",
   "execution_count": 2,
   "metadata": {
    "collapsed": true
   },
   "outputs": [],
   "source": [
    "raw_train = pd.read_csv('data/CBT_CN_train.csv',delimiter=';')\n",
    "raw_valid = pd.read_csv('data/CBT_CN_valid.csv',delimiter=';')"
   ]
  },
  {
   "cell_type": "code",
   "execution_count": 4,
   "metadata": {
    "collapsed": true
   },
   "outputs": [],
   "source": [
    "raw_train = raw_train.sample(n=15000, replace=True)"
   ]
  },
  {
   "cell_type": "code",
   "execution_count": 5,
   "metadata": {
    "collapsed": false
   },
   "outputs": [],
   "source": [
    "raw_train['Document'] = raw_train['Document'].apply(literal_eval)\n",
    "raw_train['Query'] = raw_train['Query'].apply(literal_eval)\n",
    "raw_train['Candidates'] = raw_train['Candidates'].apply(literal_eval)"
   ]
  },
  {
   "cell_type": "code",
   "execution_count": 6,
   "metadata": {
    "collapsed": false
   },
   "outputs": [
    {
     "data": {
      "text/html": [
       "<div>\n",
       "<table border=\"1\" class=\"dataframe\">\n",
       "  <thead>\n",
       "    <tr style=\"text-align: right;\">\n",
       "      <th></th>\n",
       "      <th>Document</th>\n",
       "      <th>Query</th>\n",
       "      <th>Candidates</th>\n",
       "      <th>Answer</th>\n",
       "    </tr>\n",
       "  </thead>\n",
       "  <tbody>\n",
       "    <tr>\n",
       "      <th>676</th>\n",
       "      <td>[the, king, was, so, surprised, and, hurt, at,...</td>\n",
       "      <td>[now, ,, as, pantouflia, was, a, rich, ,, lazy...</td>\n",
       "      <td>[accent, beds, bit, country, earth, fairy, for...</td>\n",
       "      <td>country</td>\n",
       "    </tr>\n",
       "    <tr>\n",
       "      <th>60365</th>\n",
       "      <td>[all, of, this, will, be, expensive, ,, amy, ....</td>\n",
       "      <td>[you, can, go, through, the, xxxxx, with, your...</td>\n",
       "      <td>[talk, climax, cost, girls, heart, mood, novel...</td>\n",
       "      <td>world</td>\n",
       "    </tr>\n",
       "    <tr>\n",
       "      <th>119215</th>\n",
       "      <td>[that, s, only, bowser, the, hound, chasing, o...</td>\n",
       "      <td>[they, do, n, t, seem, to, think, anything, ab...</td>\n",
       "      <td>[forest, hound, boy, care, gun, hands, hunt, p...</td>\n",
       "      <td>gun</td>\n",
       "    </tr>\n",
       "    <tr>\n",
       "      <th>86768</th>\n",
       "      <td>[where, do, they, build, their, nests, ,, and,...</td>\n",
       "      <td>[might, not, ,, then, ,, its, more, appropriat...</td>\n",
       "      <td>[affairs, crowd, dwelling, eve, food, passage,...</td>\n",
       "      <td>town</td>\n",
       "    </tr>\n",
       "    <tr>\n",
       "      <th>37636</th>\n",
       "      <td>[all, right, ,, said, she, ,, and, held, a, bi...</td>\n",
       "      <td>[but, the, ogre, s, xxxxx, was, still, alive, ...</td>\n",
       "      <td>[chance, death, door, fish, house, men, relati...</td>\n",
       "      <td>wife</td>\n",
       "    </tr>\n",
       "  </tbody>\n",
       "</table>\n",
       "</div>"
      ],
      "text/plain": [
       "                                                 Document  \\\n",
       "676     [the, king, was, so, surprised, and, hurt, at,...   \n",
       "60365   [all, of, this, will, be, expensive, ,, amy, ....   \n",
       "119215  [that, s, only, bowser, the, hound, chasing, o...   \n",
       "86768   [where, do, they, build, their, nests, ,, and,...   \n",
       "37636   [all, right, ,, said, she, ,, and, held, a, bi...   \n",
       "\n",
       "                                                    Query  \\\n",
       "676     [now, ,, as, pantouflia, was, a, rich, ,, lazy...   \n",
       "60365   [you, can, go, through, the, xxxxx, with, your...   \n",
       "119215  [they, do, n, t, seem, to, think, anything, ab...   \n",
       "86768   [might, not, ,, then, ,, its, more, appropriat...   \n",
       "37636   [but, the, ogre, s, xxxxx, was, still, alive, ...   \n",
       "\n",
       "                                               Candidates   Answer  \n",
       "676     [accent, beds, bit, country, earth, fairy, for...  country  \n",
       "60365   [talk, climax, cost, girls, heart, mood, novel...    world  \n",
       "119215  [forest, hound, boy, care, gun, hands, hunt, p...      gun  \n",
       "86768   [affairs, crowd, dwelling, eve, food, passage,...     town  \n",
       "37636   [chance, death, door, fish, house, men, relati...     wife  "
      ]
     },
     "execution_count": 6,
     "metadata": {},
     "output_type": "execute_result"
    }
   ],
   "source": [
    "raw_train.head()"
   ]
  },
  {
   "cell_type": "markdown",
   "metadata": {},
   "source": [
    "### 1. Maximum frequency model."
   ]
  },
  {
   "cell_type": "code",
   "execution_count": 21,
   "metadata": {
    "collapsed": true
   },
   "outputs": [],
   "source": [
    "# choose the candidate that has the maximum frequency in Query/Document\n",
    "def maximum_frequency_prediction(row, use_Document_info=False):\n",
    "    temp = row['Query']\n",
    "    if use_Document_info:\n",
    "        temp += row['Document']\n",
    "    freqs = dict(Counter(temp))\n",
    "    ans = row['Candidates'][0]\n",
    "    for w in row['Candidates']:\n",
    "        if w in freqs.keys() and (ans not in freqs.keys() or (freqs[w] > freqs[ans])):\n",
    "            ans = w\n",
    "    return ans"
   ]
  },
  {
   "cell_type": "code",
   "execution_count": 32,
   "metadata": {
    "collapsed": false
   },
   "outputs": [],
   "source": [
    "def max_freq_result(df, use_Document_info=False):\n",
    "    accuracy = 0\n",
    "    for _, row in df.iterrows():\n",
    "        if maximum_frequency_prediction(row, use_Document_info) == row['Answer']:\n",
    "            accuracy += 1\n",
    "    print('\\t Accuracy:', round(accuracy / raw_train.shape[0], 2))"
   ]
  },
  {
   "cell_type": "code",
   "execution_count": 33,
   "metadata": {
    "collapsed": false
   },
   "outputs": [
    {
     "name": "stdout",
     "output_type": "stream",
     "text": [
      "Maximum frequency (corpus):\n",
      "\t Accuracy: 0.13\n",
      "Maximum frequency (corpus + context):\n",
      "\t Accuracy: 0.27\n"
     ]
    }
   ],
   "source": [
    "print('Maximum frequency (corpus):')\n",
    "max_freq_result(raw_train, False)\n",
    "print('Maximum frequency (corpus + context):')\n",
    "max_freq_result(raw_train, True)"
   ]
  },
  {
   "cell_type": "markdown",
   "metadata": {},
   "source": [
    "In the paper \"THE GOLDILOCKS PRINCIPLE: READING CHILDREN’S BOOKS...\" the results are $0.158$ with corpus-only and $0.281$ with corpus+context, which is pretty similar."
   ]
  }
 ],
 "metadata": {
  "kernelspec": {
   "display_name": "Python 3",
   "language": "python",
   "name": "python3"
  },
  "language_info": {
   "codemirror_mode": {
    "name": "ipython",
    "version": 3
   },
   "file_extension": ".py",
   "mimetype": "text/x-python",
   "name": "python",
   "nbconvert_exporter": "python",
   "pygments_lexer": "ipython3",
   "version": "3.5.2"
  }
 },
 "nbformat": 4,
 "nbformat_minor": 2
}
