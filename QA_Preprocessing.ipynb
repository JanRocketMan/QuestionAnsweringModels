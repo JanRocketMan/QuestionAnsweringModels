{
 "cells": [
  {
   "cell_type": "markdown",
   "metadata": {
    "deletable": true,
    "editable": true
   },
   "source": [
    "We'll deal with Children's Books Test."
   ]
  },
  {
   "cell_type": "code",
   "execution_count": 1,
   "metadata": {
    "collapsed": false
   },
   "outputs": [],
   "source": [
    "import re\n",
    "import pandas as pd\n",
    "import numpy as np\n",
    "from wordcloud import WordCloud, STOPWORDS"
   ]
  },
  {
   "cell_type": "code",
   "execution_count": 2,
   "metadata": {
    "collapsed": false,
    "deletable": true,
    "editable": true
   },
   "outputs": [],
   "source": [
    "def parse_file(filename):\n",
    "    D = [] # Documents\n",
    "    Q = [] # Queries\n",
    "    V = [] # Variants\n",
    "    A = [] # Answers\n",
    "    with open(filename, 'r') as f:\n",
    "        curr_Doc = ''\n",
    "        for line in f.readlines():\n",
    "            if len(line.strip()) == 0:\n",
    "                continue\n",
    "            temp = list(filter(None, re.split('[\\n \\t \\s]', line)))\n",
    "            if not temp[0].isdigit():\n",
    "                raise ValueError('Incorrect Input')\n",
    "            if int(temp[0]) != 21:\n",
    "                curr_Doc += ' ' + ' '.join(temp[1:])\n",
    "            else:\n",
    "                D.append(curr_Doc)\n",
    "                curr_Doc = ''\n",
    "                Q.append(' '.join(temp[1:-2]))\n",
    "                A.append(temp[-2])\n",
    "                V.append(temp[-1])\n",
    "    return D, Q, V, A"
   ]
  },
  {
   "cell_type": "code",
   "execution_count": 3,
   "metadata": {
    "collapsed": false,
    "deletable": true,
    "editable": true
   },
   "outputs": [
    {
     "name": "stdout",
     "output_type": "stream",
     "text": [
      "CPU times: user 23.7 s, sys: 404 ms, total: 24.1 s\n",
      "Wall time: 27 s\n"
     ]
    }
   ],
   "source": [
    "%%time\n",
    "D1, Q1, V1, A1 = parse_file('data/cbtest_V_train.txt')"
   ]
  },
  {
   "cell_type": "code",
   "execution_count": 4,
   "metadata": {
    "collapsed": false
   },
   "outputs": [
    {
     "data": {
      "text/plain": [
       "105825"
      ]
     },
     "execution_count": 4,
     "metadata": {},
     "output_type": "execute_result"
    }
   ],
   "source": [
    "len(D1)"
   ]
  },
  {
   "cell_type": "code",
   "execution_count": 5,
   "metadata": {
    "collapsed": false
   },
   "outputs": [
    {
     "data": {
      "text/plain": [
       "105825"
      ]
     },
     "execution_count": 5,
     "metadata": {},
     "output_type": "execute_result"
    }
   ],
   "source": [
    "len(Q1)"
   ]
  },
  {
   "cell_type": "code",
   "execution_count": 6,
   "metadata": {
    "collapsed": false
   },
   "outputs": [
    {
     "data": {
      "text/plain": [
       "105825"
      ]
     },
     "execution_count": 6,
     "metadata": {},
     "output_type": "execute_result"
    }
   ],
   "source": [
    "len(V1)"
   ]
  },
  {
   "cell_type": "code",
   "execution_count": 7,
   "metadata": {
    "collapsed": false
   },
   "outputs": [
    {
     "data": {
      "text/plain": [
       "105825"
      ]
     },
     "execution_count": 7,
     "metadata": {},
     "output_type": "execute_result"
    }
   ],
   "source": [
    "len(A1)"
   ]
  },
  {
   "cell_type": "code",
   "execution_count": 9,
   "metadata": {
    "collapsed": false
   },
   "outputs": [],
   "source": [
    "D_col = pd.Series(D1, dtype=str, name='Documents')\n",
    "Q_col = pd.Series(Q1, dtype=str, name='Query')\n",
    "V_col = pd.Series(V1, dtype=str, name='Variants')\n",
    "A_col = pd.Series(A1, dtype=str, name='Answer')\n",
    "raw_data = pd.concat([D_col, Q_col, V_col, A_col], axis=1)"
   ]
  },
  {
   "cell_type": "code",
   "execution_count": 10,
   "metadata": {
    "collapsed": false
   },
   "outputs": [
    {
     "data": {
      "text/html": [
       "<div>\n",
       "<table border=\"1\" class=\"dataframe\">\n",
       "  <thead>\n",
       "    <tr style=\"text-align: right;\">\n",
       "      <th></th>\n",
       "      <th>Documents</th>\n",
       "      <th>Query</th>\n",
       "      <th>Variants</th>\n",
       "      <th>Answer</th>\n",
       "    </tr>\n",
       "  </thead>\n",
       "  <tbody>\n",
       "    <tr>\n",
       "      <th>0</th>\n",
       "      <td>This vexed the king even more than the queen ...</td>\n",
       "      <td>`` They are very kind old ladies in their way ...</td>\n",
       "      <td>christening|existed|hear|knows|read|remarked|s...</td>\n",
       "      <td>said</td>\n",
       "    </tr>\n",
       "    <tr>\n",
       "      <th>1</th>\n",
       "      <td>However , she , too in spite of all the books...</td>\n",
       "      <td>Then he waited a little , and XXXXX : `` The f...</td>\n",
       "      <td>answered|consult|forgotten|hanging|hear|knows|...</td>\n",
       "      <td>remarked</td>\n",
       "    </tr>\n",
       "    <tr>\n",
       "      <th>2</th>\n",
       "      <td>It was a splendid room , hung with portraits ...</td>\n",
       "      <td>`` They are very old friends of our family , m...</td>\n",
       "      <td>answered|approve|cried|hung|knows|raised|reign...</td>\n",
       "      <td>said</td>\n",
       "    </tr>\n",
       "    <tr>\n",
       "      <th>3</th>\n",
       "      <td>said the king . `` Everyone who should be ask...</td>\n",
       "      <td>And so the fairies were not XXXXX !</td>\n",
       "      <td>'s|approve|asked|cried|devoured|forgotten|invi...</td>\n",
       "      <td>invited</td>\n",
       "    </tr>\n",
       "    <tr>\n",
       "      <th>4</th>\n",
       "      <td>`` Everyone who should be asked , '' answered...</td>\n",
       "      <td>It was an extraordinary thing , but none of th...</td>\n",
       "      <td>answered|approve|asked|brought|cried|devoured|...</td>\n",
       "      <td>asked</td>\n",
       "    </tr>\n",
       "  </tbody>\n",
       "</table>\n",
       "</div>"
      ],
      "text/plain": [
       "                                           Documents  \\\n",
       "0   This vexed the king even more than the queen ...   \n",
       "1   However , she , too in spite of all the books...   \n",
       "2   It was a splendid room , hung with portraits ...   \n",
       "3   said the king . `` Everyone who should be ask...   \n",
       "4   `` Everyone who should be asked , '' answered...   \n",
       "\n",
       "                                               Query  \\\n",
       "0  `` They are very kind old ladies in their way ...   \n",
       "1  Then he waited a little , and XXXXX : `` The f...   \n",
       "2  `` They are very old friends of our family , m...   \n",
       "3                And so the fairies were not XXXXX !   \n",
       "4  It was an extraordinary thing , but none of th...   \n",
       "\n",
       "                                            Variants    Answer  \n",
       "0  christening|existed|hear|knows|read|remarked|s...      said  \n",
       "1  answered|consult|forgotten|hanging|hear|knows|...  remarked  \n",
       "2  answered|approve|cried|hung|knows|raised|reign...      said  \n",
       "3  's|approve|asked|cried|devoured|forgotten|invi...   invited  \n",
       "4  answered|approve|asked|brought|cried|devoured|...     asked  "
      ]
     },
     "execution_count": 10,
     "metadata": {},
     "output_type": "execute_result"
    }
   ],
   "source": [
    "raw_data.head()"
   ]
  },
  {
   "cell_type": "code",
   "execution_count": 11,
   "metadata": {
    "collapsed": false
   },
   "outputs": [
    {
     "data": {
      "text/plain": [
       "Documents     This vexed the king even more than the queen ...\n",
       "Query        `` They are very kind old ladies in their way ...\n",
       "Variants     christening|existed|hear|knows|read|remarked|s...\n",
       "Answer                                                    said\n",
       "Name: 0, dtype: object"
      ]
     },
     "execution_count": 11,
     "metadata": {},
     "output_type": "execute_result"
    }
   ],
   "source": [
    "raw_data.iloc[0]"
   ]
  }
 ],
 "metadata": {
  "kernelspec": {
   "display_name": "Python 3",
   "language": "python",
   "name": "python3"
  },
  "language_info": {
   "codemirror_mode": {
    "name": "ipython",
    "version": 3
   },
   "file_extension": ".py",
   "mimetype": "text/x-python",
   "name": "python",
   "nbconvert_exporter": "python",
   "pygments_lexer": "ipython3",
   "version": "3.5.2"
  }
 },
 "nbformat": 4,
 "nbformat_minor": 2
}
