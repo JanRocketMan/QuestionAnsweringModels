{
 "cells": [
  {
   "cell_type": "code",
   "execution_count": 1,
   "metadata": {
    "collapsed": false,
    "deletable": true,
    "editable": true
   },
   "outputs": [
    {
     "name": "stdout",
     "output_type": "stream",
     "text": [
      "Words extracted. Total number: 51859\n",
      "Number of pre-trained: 35933\n"
     ]
    }
   ],
   "source": [
    "from cbt_preprocessing import CBTProcessor\n",
    "from utils import sanity_data_maker\n",
    "import numpy as np\n",
    "\n",
    "EMBED_DIM = 50\n",
    "TERM_LOWER_BOUND = 0\n",
    "\n",
    "# give path to text corpus and embeddings\n",
    "data_loader = CBTProcessor('data/cbt_train.txt', 'data/glove.6B.50d.txt', EMBED_DIM, TERM_LOWER_BOUND)"
   ]
  },
  {
   "cell_type": "code",
   "execution_count": 2,
   "metadata": {
    "collapsed": false,
    "deletable": true,
    "editable": true
   },
   "outputs": [
    {
     "data": {
      "text/plain": [
       "(186.166, 23.834)"
      ]
     },
     "execution_count": 2,
     "metadata": {},
     "output_type": "execute_result"
    }
   ],
   "source": [
    "sanity_data_maker('data/cbtest_NE_train.txt', 'data/cbtest_NE_sanity_train.txt', 20000, 10)\n",
    "sanity_data_maker('data/cbtest_NE_valid_2000ex.txt', 'data/cbtest_NE_sanity_val.txt', 500, 10)"
   ]
  },
  {
   "cell_type": "code",
   "execution_count": 3,
   "metadata": {
    "collapsed": false,
    "deletable": true,
    "editable": true
   },
   "outputs": [],
   "source": [
    "# prepare for batch generation on train and val splits\n",
    "DOC_LEN = 200\n",
    "QUERY_LEN = 50\n",
    "data_loader.fit_on_texts('data/cbtest_NE_train.txt', 'train', DOC_LEN, QUERY_LEN, 10)\n",
    "data_loader.fit_on_texts('data/cbtest_NE_valid_2000ex.txt', 'val', DOC_LEN, QUERY_LEN, 10)"
   ]
  },
  {
   "cell_type": "code",
   "execution_count": 4,
   "metadata": {
    "collapsed": false,
    "deletable": true,
    "editable": true,
    "scrolled": false
   },
   "outputs": [
    {
     "name": "stdout",
     "output_type": "stream",
     "text": [
      "DOC:\n",
      "trust peter for that ! but everybody else helped too . you see , they had all been afraid of farmer brown 's boy for so long that they were tickled almost to pieces at the very thought of having some one in the green forest who could make farmer brown 's boy feel fear as they had felt it . and so it was that buster bear became a hero right away to most of them . a few doubted little joe 's story . one of them was blacky the crow . another was reddy fox . blacky doubted because he knew farmer brown 's boy so well that he could n't imagine him afraid . reddy doubted because he did n't want to believe .\n",
      "----------\n",
      "QUERY:\n",
      "you see , he was jealous of buster \u001b[31mXXXXX\u001b[0m , and at the same time he was afraid of him .\n",
      "----------\n",
      "ANSWER:\n",
      "bear\n"
     ]
    }
   ],
   "source": [
    "# check batch sampling\n",
    "ex_batch_train = data_loader.sample_batch('train', 32)\n",
    "data_loader.show_example(ex_batch_train)"
   ]
  },
  {
   "cell_type": "code",
   "execution_count": 5,
   "metadata": {
    "collapsed": false,
    "deletable": true,
    "editable": true
   },
   "outputs": [
    {
     "name": "stdout",
     "output_type": "stream",
     "text": [
      "Doc shape: (32, 200)\n",
      "Query shape: (32, 50)\n",
      "----------\n",
      "Cands shape: (32, 10)\n",
      "----------\n",
      "Answer shape: (32,)\n",
      "----------\n",
      "Lengths shape: (32,) (32,)\n"
     ]
    }
   ],
   "source": [
    "# each batch contains:\n",
    "# docs and queries\n",
    "ex_D_train, ex_Q_train = ex_batch_train[0], ex_batch_train[1]\n",
    "print('Doc shape:', ex_D_train.shape)\n",
    "print('Query shape:', ex_Q_train.shape)\n",
    "# 10 possible candidates\n",
    "ex_C_train = ex_batch_train[2]\n",
    "print('-'*10)\n",
    "print('Cands shape:', ex_C_train.shape)\n",
    "# real answers\n",
    "ex_A_train = ex_batch_train[3]\n",
    "print('-'*10)\n",
    "print('Answer shape:', ex_A_train.shape)\n",
    "# Doc2Query Masks\n",
    "print('-'*10)\n",
    "print('Lengths shape:', ex_batch_train[4].shape, ex_batch_train[5].shape)"
   ]
  },
  {
   "cell_type": "markdown",
   "metadata": {
    "deletable": true,
    "editable": true
   },
   "source": [
    "# End-To-End Memory Network"
   ]
  },
  {
   "cell_type": "code",
   "execution_count": 6,
   "metadata": {
    "collapsed": true,
    "deletable": true,
    "editable": true
   },
   "outputs": [],
   "source": [
    "import tensorflow as tf\n",
    "from utils import masked_mean, masked_softmax, val_accuracy"
   ]
  },
  {
   "cell_type": "code",
   "execution_count": 7,
   "metadata": {
    "collapsed": false,
    "deletable": true,
    "editable": true
   },
   "outputs": [],
   "source": [
    "tf.reset_default_graph()\n",
    "\n",
    "n_hops = 5\n",
    "drop_keep_p = 0.8\n",
    "\n",
    "X = tf.placeholder(tf.int32, [None, DOC_LEN], name='Doc')\n",
    "q = tf.placeholder(tf.int32, [None, QUERY_LEN], name='Query')\n",
    "a = tf.placeholder(tf.int32, [None,], name='Answer')\n",
    "X_len = tf.placeholder(tf.int32, [None,], name='Doc_lengths')\n",
    "q_len = tf.placeholder(tf.int32, [None,], name='Query_lengths')\n",
    "\n",
    "A_emb = tf.Variable(data_loader.embeddings, name='Input_embeddings')\n",
    "C_emb = A_emb\n",
    "#C_emb = tf.Variable(data_loader.embeddings, name='Output_embeddings')\n",
    "H = tf.Variable(tf.eye(EMBED_DIM,dtype=tf.float64), name='Hop_Shift')\n",
    "U = tf.transpose(A_emb, perm=(1,0))\n",
    "A_temp = tf.Variable(tf.zeros([DOC_LEN,EMBED_DIM], tf.float64), name='Input_temporal_encoding')\n",
    "#C_temp = A_temp\n",
    "C_temp = tf.Variable(tf.zeros([DOC_LEN,EMBED_DIM], tf.float64), name='Output_temporal_encoding')\n",
    "q_temp = tf.Variable(tf.zeros([QUERY_LEN,EMBED_DIM], tf.float64), name='Query_temporal_encoding')\n",
    "\n",
    "masked_D = tf.reverse_v2(tf.sequence_mask(X_len, maxlen=DOC_LEN, dtype=tf.float64), [1])\n",
    "masked_q = tf.sequence_mask(q_len, maxlen=QUERY_LEN, dtype=tf.float64)\n",
    "\n",
    "m = tf.nn.dropout(tf.nn.embedding_lookup(A_emb, X, name='Memory_vectors')+A_temp, drop_keep_p)\n",
    "\n",
    "full_u = tf.nn.dropout(tf.nn.embedding_lookup(A_emb, q)+q_temp, drop_keep_p)\n",
    "u = masked_mean(full_u, tf.expand_dims(masked_q,2), axis=1, keepdims=False)\n",
    "#u = tf.layers.dense(avg_u, EMBED_DIM, name='Internal_state')\n",
    "c = tf.nn.dropout(tf.nn.embedding_lookup(C_emb, X, name='Output_vectors')+C_temp, drop_keep_p)\n",
    "\n",
    "def one_hop(X, m, u, c):\n",
    "    unnormed = tf.reshape(m @ tf.reshape(u, [-1, EMBED_DIM, 1]), [-1, DOC_LEN])\n",
    "    p = masked_softmax(unnormed / (EMBED_DIM**0.5), masked_D, axis=1)\n",
    "    return tf.reduce_sum(tf.expand_dims(p, 2) * c, axis=1)\n",
    "\n",
    "for i in range(n_hops):\n",
    "    o = one_hop(X, m, u, c)\n",
    "    u = tf.nn.relu(u @ H + o)\n",
    "\n",
    "a_hat_logits = u @ U\n",
    "a_hat = tf.nn.softmax(a_hat_logits / (EMBED_DIM**0.5), name='Predictions')\n",
    "\n",
    "train_loss = tf.losses.sparse_softmax_cross_entropy(a, a_hat_logits)\n",
    "hard_acc_score = tf.contrib.metrics.accuracy(tf.argmax(a_hat, axis=1, output_type=tf.int32), a)\n",
    "\n",
    "optim = tf.train.AdamOptimizer(1e-2*25/EMBED_DIM)\n",
    "train_op = optim.minimize(train_loss)"
   ]
  },
  {
   "cell_type": "code",
   "execution_count": 8,
   "metadata": {
    "collapsed": false,
    "deletable": true,
    "editable": true
   },
   "outputs": [
    {
     "data": {
      "text/plain": [
       "[<tf.Variable 'Input_embeddings:0' shape=(51859, 50) dtype=float64_ref>,\n",
       " <tf.Variable 'Hop_Shift:0' shape=(50, 50) dtype=float64_ref>,\n",
       " <tf.Variable 'Input_temporal_encoding:0' shape=(200, 50) dtype=float64_ref>,\n",
       " <tf.Variable 'Output_temporal_encoding:0' shape=(200, 50) dtype=float64_ref>,\n",
       " <tf.Variable 'Query_temporal_encoding:0' shape=(50, 50) dtype=float64_ref>]"
      ]
     },
     "execution_count": 8,
     "metadata": {},
     "output_type": "execute_result"
    }
   ],
   "source": [
    "tf.trainable_variables()"
   ]
  },
  {
   "cell_type": "code",
   "execution_count": 9,
   "metadata": {
    "collapsed": false,
    "deletable": true,
    "editable": true
   },
   "outputs": [],
   "source": [
    "from tqdm import tqdm\n",
    "\n",
    "def train_model(sess, data_loader, validate=True,\n",
    "                debug=True, batch_size=50, n_epochs=10, tol=1e-4, sk=10):\n",
    "    tr_losses, tr_accs, te_accs = [], [], []\n",
    "    steps_per_epoch = data_loader.train_data_len // (batch_size)\n",
    "    total_epochs = 0\n",
    "    \n",
    "    for epoch in tqdm(range(n_epochs)):\n",
    "        total_epochs += 1\n",
    "        if debug:\n",
    "            print('-'*10)\n",
    "            print('EPOCH:', epoch)\n",
    "        ctr_acc = 0\n",
    "        \n",
    "        for step in range(steps_per_epoch):\n",
    "            tr_sample = data_loader.sample_batch('train', batch_size)\n",
    "            tr_dict = {X:tr_sample[0],q:tr_sample[1],\n",
    "                       a:tr_sample[3],X_len:tr_sample[4],q_len:tr_sample[5]}\n",
    "            _, closs, cacc = sess.run([train_op, train_loss, hard_acc_score],\n",
    "                                     feed_dict=tr_dict)\n",
    "            tr_losses += [closs]\n",
    "            ctr_acc += cacc\n",
    "        \n",
    "        ctr_acc /= steps_per_epoch\n",
    "        tr_accs += [ctr_acc]\n",
    "        \n",
    "        \n",
    "        if validate:\n",
    "            params = [X, q, a, X_len, q_len]\n",
    "            cte_acc = val_accuracy(sess, data_loader, hard_acc_score, params)\n",
    "            te_accs += [cte_acc]\n",
    "            if len(te_accs) > sk:\n",
    "                cmed = np.mean(te_accs[-sk:])\n",
    "                if (cte_acc - cmed) / cmed < tol:\n",
    "                    if debug:\n",
    "                        print('Finished')\n",
    "                    break\n",
    "        if debug:\n",
    "            print('Train cross entropy:', tr_losses[-1])\n",
    "            print('Train accuracy:', ctr_acc)\n",
    "            if validate:\n",
    "                print('Val accuracy:', te_accs[-1])\n",
    "    return tr_losses, tr_accs, te_accs, total_epochs"
   ]
  },
  {
   "cell_type": "code",
   "execution_count": 10,
   "metadata": {
    "collapsed": false,
    "deletable": true,
    "editable": true
   },
   "outputs": [
    {
     "name": "stderr",
     "output_type": "stream",
     "text": [
      "\r",
      "  0%|          | 0/40 [00:00<?, ?it/s]"
     ]
    },
    {
     "name": "stdout",
     "output_type": "stream",
     "text": [
      "----------\n",
      "EPOCH: 0\n"
     ]
    },
    {
     "name": "stderr",
     "output_type": "stream",
     "text": [
      "\r",
      "  2%|▎         | 1/40 [21:53<14:13:52, 1313.66s/it]"
     ]
    },
    {
     "name": "stdout",
     "output_type": "stream",
     "text": [
      "Train cross entropy: 4.438581466674805\n",
      "Train accuracy: 0.16421343100521962\n",
      "Val accuracy: 0.18549999929964542\n",
      "----------\n",
      "EPOCH: 1\n"
     ]
    },
    {
     "name": "stderr",
     "output_type": "stream",
     "text": [
      "\r",
      "  5%|▌         | 2/40 [42:24<13:25:42, 1272.17s/it]"
     ]
    },
    {
     "name": "stdout",
     "output_type": "stream",
     "text": [
      "Train cross entropy: 3.5781383514404297\n",
      "Train accuracy: 0.2916375347725848\n",
      "Val accuracy: 0.1979999989271164\n",
      "----------\n",
      "EPOCH: 2\n"
     ]
    },
    {
     "name": "stderr",
     "output_type": "stream",
     "text": [
      "\r",
      "  8%|▊         | 3/40 [1:01:16<12:35:42, 1225.48s/it]"
     ]
    },
    {
     "name": "stdout",
     "output_type": "stream",
     "text": [
      "Train cross entropy: 3.2021429538726807\n",
      "Train accuracy: 0.34913523531867585\n",
      "Val accuracy: 0.19599999859929085\n",
      "----------\n",
      "EPOCH: 3\n"
     ]
    },
    {
     "name": "stderr",
     "output_type": "stream",
     "text": [
      "\r",
      " 10%|█         | 4/40 [1:21:01<12:09:11, 1215.31s/it]"
     ]
    },
    {
     "name": "stdout",
     "output_type": "stream",
     "text": [
      "Train cross entropy: 3.2121779918670654\n",
      "Train accuracy: 0.38759889610612075\n",
      "Val accuracy: 0.21050000041723252\n",
      "----------\n",
      "EPOCH: 4\n"
     ]
    },
    {
     "name": "stderr",
     "output_type": "stream",
     "text": [
      "\r",
      " 12%|█▎        | 5/40 [1:40:27<11:43:09, 1205.42s/it]"
     ]
    },
    {
     "name": "stdout",
     "output_type": "stream",
     "text": [
      "Train cross entropy: 2.654339075088501\n",
      "Train accuracy: 0.421223550445461\n",
      "Val accuracy: 0.21500000059604646\n",
      "----------\n",
      "EPOCH: 5\n"
     ]
    },
    {
     "name": "stderr",
     "output_type": "stream",
     "text": [
      "\r",
      " 15%|█▌        | 6/40 [1:59:59<11:19:59, 1199.99s/it]"
     ]
    },
    {
     "name": "stdout",
     "output_type": "stream",
     "text": [
      "Train cross entropy: 2.140019178390503\n",
      "Train accuracy: 0.44813247367725967\n",
      "Val accuracy: 0.19600000008940696\n",
      "----------\n",
      "EPOCH: 6\n"
     ]
    },
    {
     "name": "stderr",
     "output_type": "stream",
     "text": [
      "\r",
      " 18%|█▊        | 7/40 [2:20:36<11:02:51, 1205.20s/it]"
     ]
    },
    {
     "name": "stdout",
     "output_type": "stream",
     "text": [
      "Train cross entropy: 2.4521710872650146\n",
      "Train accuracy: 0.4766881322109491\n",
      "Val accuracy: 0.20799999982118605\n",
      "----------\n",
      "EPOCH: 7\n"
     ]
    },
    {
     "name": "stderr",
     "output_type": "stream",
     "text": [
      "\r",
      " 20%|██        | 8/40 [2:40:23<10:41:35, 1202.99s/it]"
     ]
    },
    {
     "name": "stdout",
     "output_type": "stream",
     "text": [
      "Train cross entropy: 2.099588632583618\n",
      "Train accuracy: 0.4982796685209818\n",
      "Val accuracy: 0.2214999996125698\n",
      "----------\n",
      "EPOCH: 8\n"
     ]
    },
    {
     "name": "stderr",
     "output_type": "stream",
     "text": [
      "\r",
      " 22%|██▎       | 9/40 [2:57:39<10:11:57, 1184.44s/it]"
     ]
    },
    {
     "name": "stdout",
     "output_type": "stream",
     "text": [
      "Train cross entropy: 1.529384970664978\n",
      "Train accuracy: 0.5192456303135232\n",
      "Val accuracy: 0.20150000117719175\n",
      "----------\n",
      "EPOCH: 9\n"
     ]
    },
    {
     "name": "stderr",
     "output_type": "stream",
     "text": [
      "\r",
      " 25%|██▌       | 10/40 [3:14:51<9:44:33, 1169.13s/it]"
     ]
    },
    {
     "name": "stdout",
     "output_type": "stream",
     "text": [
      "Train cross entropy: 1.670914888381958\n",
      "Train accuracy: 0.5424563024388395\n",
      "Val accuracy: 0.22200000137090684\n",
      "----------\n",
      "EPOCH: 10\n"
     ]
    },
    {
     "name": "stderr",
     "output_type": "stream",
     "text": [
      "\r",
      " 28%|██▊       | 11/40 [3:32:03<9:19:03, 1156.67s/it]"
     ]
    },
    {
     "name": "stdout",
     "output_type": "stream",
     "text": [
      "Train cross entropy: 1.6573506593704224\n",
      "Train accuracy: 0.5563017491528828\n",
      "Val accuracy: 0.2195000022649765\n",
      "----------\n",
      "EPOCH: 11\n"
     ]
    },
    {
     "name": "stderr",
     "output_type": "stream",
     "text": [
      "\r",
      " 30%|███       | 12/40 [3:49:07<8:54:37, 1145.63s/it]"
     ]
    },
    {
     "name": "stdout",
     "output_type": "stream",
     "text": [
      "Train cross entropy: 1.256401777267456\n",
      "Train accuracy: 0.572235512330429\n",
      "Val accuracy: 0.2175000011920929\n",
      "----------\n",
      "EPOCH: 12\n",
      "Finished\n"
     ]
    }
   ],
   "source": [
    "sess = tf.Session()\n",
    "sess.run(tf.global_variables_initializer())\n",
    "\n",
    "tr_losses, tr_accs, val_accs, exec_epochs = train_model(sess, data_loader, validate=True, \n",
    "                                                        debug=True, batch_size=50, n_epochs=40)"
   ]
  },
  {
   "cell_type": "code",
   "execution_count": 11,
   "metadata": {
    "collapsed": false
   },
   "outputs": [],
   "source": [
    "steps_per_epoch = data_loader.train_data_len // 50\n",
    "plt_epochs = [k+l/steps_per_epoch for k in range(exec_epochs) for l in range(steps_per_epoch)]"
   ]
  },
  {
   "cell_type": "code",
   "execution_count": 12,
   "metadata": {
    "collapsed": false
   },
   "outputs": [
    {
     "data": {
      "image/png": "[encoded data removed]",
      "text/plain": [
       "<matplotlib.figure.Figure at 0x7f1f3dfde748>"
      ]
     },
     "metadata": {},
     "output_type": "display_data"
    }
   ],
   "source": [
    "from matplotlib import pyplot as plt\n",
    "plt.plot(plt_epochs, tr_losses)\n",
    "plt.show()"
   ]
  },
  {
   "cell_type": "code",
   "execution_count": 13,
   "metadata": {
    "collapsed": false
   },
   "outputs": [
    {
     "data": {
      "image/png": "[encoded data removed]",
      "text/plain": [
       "<matplotlib.figure.Figure at 0x7f1ee1e8e3c8>"
      ]
     },
     "metadata": {},
     "output_type": "display_data"
    },
    {
     "name": "stdout",
     "output_type": "stream",
     "text": [
      "0.22200000137090684\n"
     ]
    }
   ],
   "source": [
    "plt.plot(tr_accs, label='train')\n",
    "plt.plot(val_accs, label='val')\n",
    "plt.legend()\n",
    "plt.show()\n",
    "print(np.max(val_accs))"
   ]
  },
  {
   "cell_type": "code",
   "execution_count": 19,
   "metadata": {
    "collapsed": false,
    "deletable": true,
    "editable": true
   },
   "outputs": [
    {
     "name": "stdout",
     "output_type": "stream",
     "text": [
      "DOC:\n",
      "he did n't know why he had done it , excepting that he had become dissatisfied and discontented and unhappy in his old home . and then , almost without thinking what he was doing , he had told jimmy skunk that he could have the house he had worked so hard to build the summer before and of which he had been so proud . then johnny chuck had swaggered away down the lone little path without once looking back at the home he was leaving . where was he going ? well , to tell the truth , johnny did n't know . he was going to see the world , and perhaps when he had seen the world , he would build him a new house . so as long as he was in sight of jimmy skunk , he swaggered along quite as if he was used to traveling about , without any snug house to go to at night .\n",
      "----------\n",
      "QUERY:\n",
      "but right down in his heart johnny \u001b[31mXXXXX\u001b[0m did n't feel half so bold as he pretended .\n",
      "----------\n",
      "ANSWER:\n",
      "chuck\n"
     ]
    }
   ],
   "source": [
    "# example\n",
    "b_size=10\n",
    "ex_sample = data_loader.sample_batch('val', b_size)\n",
    "ex_dict = {X:ex_sample[0],q:ex_sample[1],X_len:ex_sample[4],q_len:ex_sample[5]}\n",
    "    \n",
    "ex_mask, ex_hat = sess.run([masked_D, a_hat], feed_dict=ex_dict)\n",
    "\n",
    "data_loader.show_example(ex_sample)"
   ]
  },
  {
   "cell_type": "code",
   "execution_count": 20,
   "metadata": {
    "collapsed": false
   },
   "outputs": [
    {
     "data": {
      "text/plain": [
       "(10, 200)"
      ]
     },
     "execution_count": 20,
     "metadata": {},
     "output_type": "execute_result"
    }
   ],
   "source": [
    "ex_mask.shape"
   ]
  },
  {
   "cell_type": "code",
   "execution_count": 21,
   "metadata": {
    "collapsed": true
   },
   "outputs": [],
   "source": [
    "new_emb = sess.run(A_emb)"
   ]
  },
  {
   "cell_type": "code",
   "execution_count": 22,
   "metadata": {
    "collapsed": false,
    "deletable": true,
    "editable": true
   },
   "outputs": [
    {
     "name": "stdout",
     "output_type": "stream",
     "text": [
      "----------\n",
      "true: peter\n",
      "pred: night 0.00017\n",
      "----------\n",
      "true: chuck\n",
      "pred: right 0.00029\n",
      "----------\n",
      "true: <NA>\n",
      "pred: hours 0.00016\n",
      "----------\n",
      "true: <NA>\n",
      "pred: first 0.00025\n",
      "----------\n",
      "true: reade\n",
      "pred: left 0.00030\n",
      "----------\n",
      "true: king\n",
      "pred: king 0.00018\n",
      "----------\n",
      "true: <NA>\n",
      "pred: death 0.00011\n",
      "----------\n",
      "true: dan\n",
      "pred: mind 0.00005\n",
      "----------\n",
      "true: jack\n",
      "pred: right 0.00057\n",
      "----------\n",
      "true: cecily\n",
      "pred: years 0.00018\n"
     ]
    }
   ],
   "source": [
    "for i in range(b_size):\n",
    "    print('-'*10)\n",
    "    print('true:', data_loader.id_to_word[ex_sample[3][i]])\n",
    "    cands = ex_sample[2][i]\n",
    "    c_hat = ex_hat[i,:]\n",
    "    scores = c_hat[cands]\n",
    "    max_ind = np.argmax(scores)\n",
    "    print('pred:', data_loader.id_to_word[cands[max_ind]], '%6.5f'%scores[max_ind])\n",
    "    #for k in range(10):\n",
    "    #    print(data_loader.id_to_word[cands[k]], '%6.5f'%scores[k])"
   ]
  },
  {
   "cell_type": "code",
   "execution_count": 54,
   "metadata": {
    "collapsed": false,
    "deletable": true,
    "editable": true
   },
   "outputs": [
    {
     "name": "stdout",
     "output_type": "stream",
     "text": [
      "Answer: johnny\n",
      "Predictions:\n",
      "Word: fire \t Score: 0.00014342232268313361\n",
      "Word: first \t Score: 0.00012827592106156931\n",
      "Word: prigio \t Score: 0.00012822506101239318\n",
      "Word: night \t Score: 0.00012581254270265673\n",
      "Word: firedrake \t Score: 0.00012541240576969672\n"
     ]
    }
   ],
   "source": [
    "k = np.random.randint(b_size)\n",
    "inds = ex_hat[k].argsort()[-5:][::-1]\n",
    "print('Answer:', data_loader.id_to_word[ex_sample[3][k]])\n",
    "print('Predictions:')\n",
    "for ind in inds:\n",
    "    print('Word:', data_loader.id_to_word[ind], '\\t Score:', ex_hat[k][ind])"
   ]
  }
 ],
 "metadata": {
  "kernelspec": {
   "display_name": "Python 3",
   "language": "python",
   "name": "python3"
  },
  "language_info": {
   "codemirror_mode": {
    "name": "ipython",
    "version": 3
   },
   "file_extension": ".py",
   "mimetype": "text/x-python",
   "name": "python",
   "nbconvert_exporter": "python",
   "pygments_lexer": "ipython3",
   "version": "3.5.2"
  }
 },
 "nbformat": 4,
 "nbformat_minor": 2
}
