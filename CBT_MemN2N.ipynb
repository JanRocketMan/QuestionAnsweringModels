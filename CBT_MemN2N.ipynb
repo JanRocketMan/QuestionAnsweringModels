{
 "cells": [
  {
   "cell_type": "code",
   "execution_count": 1,
   "metadata": {
    "collapsed": false,
    "deletable": true,
    "editable": true
   },
   "outputs": [
    {
     "name": "stdout",
     "output_type": "stream",
     "text": [
      "Words extracted. Total number: 33012\n",
      "Number of pre-trained: 32416\n"
     ]
    }
   ],
   "source": [
    "from cbt_preprocessing import CBTProcessor\n",
    "\n",
    "# give path to text corpus and embeddings\n",
    "data_loader = CBTProcessor('data/cbt_train.txt', 'data/glove.6B.50d.txt', 50)"
   ]
  },
  {
   "cell_type": "code",
   "execution_count": 2,
   "metadata": {
    "collapsed": true,
    "deletable": true,
    "editable": true
   },
   "outputs": [],
   "source": [
    "# prepare for batch generation on train and val splits\n",
    "data_loader.fit_on_texts('data/cbtest_CN_train.txt', 'train')\n",
    "data_loader.fit_on_texts('data/cbtest_CN_valid_2000ex.txt', 'val')"
   ]
  },
  {
   "cell_type": "code",
   "execution_count": 3,
   "metadata": {
    "collapsed": false,
    "deletable": true,
    "editable": true
   },
   "outputs": [
    {
     "name": "stdout",
     "output_type": "stream",
     "text": [
      "DOC:\n",
      "go back and fetch it , lest some should befall her , or enter the palace and trust to chance that nothing evil would happen ? but before she could decide , a little swallow flew up with the basket in its beak , and the girl was happy again . the feast was already at its height , and the hall was brilliant with youth and beauty , when the door was flung wide and \u001b[31mdotterine\u001b[0m entered , making all the other maidens look pale and dim beside her . their hopes faded as they gazed , but their mothers whispered together , saying , ` surely this is our lost princess ! ' the young king did not know her again , but he never left her side nor took his eyes from her . and at midnight a strange thing happened . a thick cloud suddenly filled the hall , so that for a moment all was dark . then the mist suddenly grew bright , and \u001b[31mdotterine\u001b[0m 's godmother was seen standing there . ` this , ' she said , turning to the king , ` is the girl whom you have always believed to be your sister , and who vanished during the siege . she is not your sister at all , but the daughter of the king of a neighbouring country , who was given to your mother to bring up , to save her from the hands of a wizard . ' then she vanished , and was never seen again , nor the basket either ; but now that \u001b[31mdotterine\u001b[0m 's troubles were over she could get on without them , and she and the young king lived happily together till the end of their days . \u001b[31m-lrb-\u001b[0m \u001b[31mmarchen\u001b[0m . \u001b[31m-rrb-\u001b[0m stan once upon a time what happened did happen , and if it had not happened this story would never have been told . on the outskirts of a village just where the oxen were turned out to pasture , and the pigs roamed about burrowing with their noses among the roots of the trees , there stood a small house . in the house lived a man who had a wife , and the wife was sad all day long . ` dear wife , what is wrong with you that you hang your head like a drooping rosebud ? ' asked her husband one morning . ` you have everything you want ; why can not you be merry like other women ? ' ` leave me alone , and do not seek to know the reason , ' replied she , bursting into tears , and the man thought that it was no time to question her , and went away to his work . he could not , however , forget all about it , and a few days after he inquired again the reason of her sadness , but only got the same reply .\n",
      "----------\n",
      "QUERY:\n",
      "at length he felt he could bear it no longer , and tried a third \u001b[31mXXXXX\u001b[0m , and then his wife turned and answered him .\n",
      "----------\n",
      "ANSWER:\n",
      "time\n"
     ]
    }
   ],
   "source": [
    "# check batch sampling\n",
    "ex_batch_train = data_loader.sample_batch('train', 32)\n",
    "data_loader.show_example(ex_batch_train)"
   ]
  },
  {
   "cell_type": "code",
   "execution_count": 4,
   "metadata": {
    "collapsed": false,
    "deletable": true,
    "editable": true
   },
   "outputs": [
    {
     "name": "stdout",
     "output_type": "stream",
     "text": [
      "Doc shape: (32, 1000)\n",
      "Query shape: (32, 150)\n",
      "----------\n",
      "Cands shape: (32, 10)\n",
      "----------\n",
      "Answer shape: (32,)\n",
      "----------\n",
      "Mask shape: (32, 1000, 150)\n"
     ]
    }
   ],
   "source": [
    "# each batch contains:\n",
    "# docs and queries\n",
    "ex_D_train, ex_Q_train = ex_batch_train[0], ex_batch_train[1]\n",
    "print('Doc shape:', ex_D_train.shape)\n",
    "print('Query shape:', ex_Q_train.shape)\n",
    "# 10 possible candidates\n",
    "ex_C_train = ex_batch_train[2]\n",
    "print('-'*10)\n",
    "print('Cands shape:', ex_C_train.shape)\n",
    "# real answers\n",
    "ex_A_train = ex_batch_train[3]\n",
    "print('-'*10)\n",
    "print('Answer shape:', ex_A_train.shape)\n",
    "# Doc2Query Masks\n",
    "ex_mask_train = ex_batch_train[4]\n",
    "print('-'*10)\n",
    "print('Mask shape:', ex_mask_train.shape)"
   ]
  },
  {
   "cell_type": "markdown",
   "metadata": {
    "deletable": true,
    "editable": true
   },
   "source": [
    "# End-To-End Memory Network"
   ]
  },
  {
   "cell_type": "code",
   "execution_count": 5,
   "metadata": {
    "collapsed": true,
    "deletable": true,
    "editable": true
   },
   "outputs": [],
   "source": [
    "import tensorflow as tf\n",
    "import numpy as np\n",
    "from tqdm import tqdm"
   ]
  },
  {
   "cell_type": "code",
   "execution_count": 37,
   "metadata": {
    "collapsed": false,
    "deletable": true,
    "editable": true
   },
   "outputs": [],
   "source": [
    "tf.reset_default_graph()\n",
    "\n",
    "n_hops = 3\n",
    "drop_keep_p = 0.9\n",
    "embed_dim = data_loader.embed_dim\n",
    "\n",
    "X = tf.placeholder(tf.int32, [None, data_loader.max_doc_len], name='Doc')\n",
    "q = tf.placeholder(tf.int32, [None, data_loader.max_query_len], name='Query')\n",
    "a = tf.placeholder(tf.int32, [None,], name='Answer')\n",
    "\n",
    "A_emb = tf.Variable(data_loader.embeddings, name='Input_embeddings')\n",
    "C_emb = tf.Variable(data_loader.embeddings, name='Output_embeddings')\n",
    "#T_A = tf.Variable(np.zeros((data_loader.max_doc_len, data_loader.embed_dim)), name='Input_temporal_encoding')\n",
    "#T_C = tf.Variable(np.zeros((data_loader.max_doc_len, data_loader.embed_dim)), name='Output_temporal_encoding')\n",
    "H = tf.Variable(np.diag(np.ones(embed_dim)), name='Hop_Shift')\n",
    "\n",
    "m = tf.nn.dropout(tf.nn.embedding_lookup(A_emb, X), drop_keep_p, name='Memory_vector')\n",
    "u = tf.nn.dropout(tf.layers.dense(\n",
    "    tf.reduce_mean(tf.nn.embedding_lookup(A_emb, q),axis=1)\n",
    "    ,embed_dim), drop_keep_p, name='Internal_state')\n",
    "c = tf.nn.dropout(tf.nn.embedding_lookup(C_emb, X), drop_keep_p, name='Output_vector')\n",
    "\n",
    "def one_hop(X, m, u, c):\n",
    "    p = tf.nn.softmax(m @ tf.reshape(u, shape=(-1,data_loader.embed_dim,1)) / (embed_dim**0.5), axis=1)\n",
    "    return tf.reduce_sum(p * c, axis=1)\n",
    "\n",
    "for i in range(n_hops):\n",
    "    o = one_hop(X, m, u, c)\n",
    "    u = u @ H + o\n",
    "\n",
    "a_hat_logits = tf.layers.dense(u, len(data_loader.words), name='Predictions')\n",
    "a_hat = tf.nn.softmax(a_hat_logits)\n",
    "\n",
    "train_loss = tf.losses.sparse_softmax_cross_entropy(a, a_hat_logits)\n",
    "hard_acc_score = tf.contrib.metrics.accuracy(tf.argmax(a_hat, axis=1, output_type=tf.int32), a)\n",
    "\n",
    "optim = tf.train.AdamOptimizer()\n",
    "train_op = optim.minimize(train_loss)"
   ]
  },
  {
   "cell_type": "code",
   "execution_count": 38,
   "metadata": {
    "collapsed": false,
    "deletable": true,
    "editable": true
   },
   "outputs": [
    {
     "data": {
      "text/plain": [
       "[<tf.Variable 'Input_embeddings:0' shape=(33012, 50) dtype=float64_ref>,\n",
       " <tf.Variable 'Output_embeddings:0' shape=(33012, 50) dtype=float64_ref>,\n",
       " <tf.Variable 'Hop_Shift:0' shape=(50, 50) dtype=float64_ref>,\n",
       " <tf.Variable 'dense/kernel:0' shape=(50, 50) dtype=float64_ref>,\n",
       " <tf.Variable 'dense/bias:0' shape=(50,) dtype=float64_ref>,\n",
       " <tf.Variable 'Predictions/kernel:0' shape=(50, 33012) dtype=float64_ref>,\n",
       " <tf.Variable 'Predictions/bias:0' shape=(33012,) dtype=float64_ref>]"
      ]
     },
     "execution_count": 38,
     "metadata": {},
     "output_type": "execute_result"
    }
   ],
   "source": [
    "tf.trainable_variables()"
   ]
  },
  {
   "cell_type": "code",
   "execution_count": 39,
   "metadata": {
    "collapsed": true,
    "deletable": true,
    "editable": true
   },
   "outputs": [],
   "source": [
    "def get_accuracy(sess, data_loader, abatch_size=100):\n",
    "    total_acc = 0\n",
    "    for step in range(0, data_loader.val_data_len, abatch_size):\n",
    "        batch_val = data_loader.sample_batch('val', abatch_size, offset=step)\n",
    "        \n",
    "        iacc = sess.run(hard_acc_score, feed_dict={X:batch_val[0], q:batch_val[1], a:batch_val[3]})\n",
    "        total_acc += iacc * abatch_size\n",
    "    return total_acc / data_loader.val_data_len"
   ]
  },
  {
   "cell_type": "code",
   "execution_count": 132,
   "metadata": {
    "collapsed": false
   },
   "outputs": [],
   "source": [
    "def get_cands_accuracy(sess, data_loader, abatch_size=100):\n",
    "    total_acc = 0\n",
    "    for step in range(0, data_loader.val_data_len, abatch_size):\n",
    "        batch_val = data_loader.sample_batch('val', abatch_size, offset=step)\n",
    "        \n",
    "        c_hat = sess.run(a_hat, feed_dict={X:batch_val[0], q:batch_val[1], a:batch_val[3]})\n",
    "        \n",
    "        for i in range(abatch_size):\n",
    "            cands = batch_val[2][i]\n",
    "            scores = c_hat[i, cands]\n",
    "            prediction = cands[np.argmax(scores)]\n",
    "            total_acc += (prediction == batch_val[3][i])\n",
    "        \n",
    "    return total_acc / data_loader.val_data_len"
   ]
  },
  {
   "cell_type": "code",
   "execution_count": 95,
   "metadata": {
    "collapsed": true
   },
   "outputs": [],
   "source": [
    "def get_predictions(sess, data_loader, abatch_size=100):\n",
    "    all_preds = []\n",
    "    for step in range(0, data_loader.val_data_len, abatch_size):\n",
    "        batch_val = data_loader.sample_batch('val', abatch_size, offset=step)\n",
    "        c_preds = sess.run(a_hat, feed_dict={X:batch_val[0], q:batch_val[1]})\n",
    "        answs = np.argmax(c_preds, axis=1)\n",
    "        all_preds += list(answs)\n",
    "    return np.array(all_preds)"
   ]
  },
  {
   "cell_type": "code",
   "execution_count": 40,
   "metadata": {
    "collapsed": false,
    "deletable": true,
    "editable": true
   },
   "outputs": [
    {
     "name": "stderr",
     "output_type": "stream",
     "text": [
      "\r",
      "  0%|          | 0/50 [00:00<?, ?it/s]"
     ]
    },
    {
     "name": "stdout",
     "output_type": "stream",
     "text": [
      "----------\n",
      "EPOCH: 0\n"
     ]
    },
    {
     "name": "stderr",
     "output_type": "stream",
     "text": [
      "\r",
      "  2%|▏         | 1/50 [04:00<3:16:15, 240.31s/it]"
     ]
    },
    {
     "name": "stdout",
     "output_type": "stream",
     "text": [
      "Train cross-entropy loss: 7.065139158964157\n",
      "Train accuracy: 0.031599999330937864\n",
      "Val accuracy: 0.029499999433755874\n",
      "----------\n",
      "EPOCH: 1\n"
     ]
    },
    {
     "name": "stderr",
     "output_type": "stream",
     "text": [
      "\r",
      "  4%|▍         | 2/50 [08:05<3:14:12, 242.75s/it]"
     ]
    },
    {
     "name": "stdout",
     "output_type": "stream",
     "text": [
      "Train cross-entropy loss: 6.613935391902924\n",
      "Train accuracy: 0.0296999993827194\n",
      "Val accuracy: 0.029999999422580005\n",
      "----------\n",
      "EPOCH: 2\n"
     ]
    },
    {
     "name": "stderr",
     "output_type": "stream",
     "text": [
      "\r",
      "  6%|▌         | 3/50 [12:07<3:09:51, 242.37s/it]"
     ]
    },
    {
     "name": "stdout",
     "output_type": "stream",
     "text": [
      "Train cross-entropy loss: 6.420531330108642\n",
      "Train accuracy: 0.03724999927915633\n",
      "Val accuracy: 0.04200000008568168\n",
      "----------\n",
      "EPOCH: 3\n"
     ]
    },
    {
     "name": "stderr",
     "output_type": "stream",
     "text": [
      "\r",
      "  8%|▊         | 4/50 [16:05<3:05:05, 241.42s/it]"
     ]
    },
    {
     "name": "stdout",
     "output_type": "stream",
     "text": [
      "Train cross-entropy loss: 6.282859718799591\n",
      "Train accuracy: 0.045299999080598355\n",
      "Val accuracy: 0.05899999961256981\n",
      "----------\n",
      "EPOCH: 4\n"
     ]
    },
    {
     "name": "stderr",
     "output_type": "stream",
     "text": [
      "\r",
      " 10%|█         | 5/50 [20:00<3:00:05, 240.13s/it]"
     ]
    },
    {
     "name": "stdout",
     "output_type": "stream",
     "text": [
      "Train cross-entropy loss: 6.139154683351517\n",
      "Train accuracy: 0.05674999911338091\n",
      "Val accuracy: 0.060499999672174454\n",
      "----------\n",
      "EPOCH: 5\n"
     ]
    },
    {
     "name": "stderr",
     "output_type": "stream",
     "text": [
      "\r",
      " 12%|█▏        | 6/50 [23:56<2:55:37, 239.49s/it]"
     ]
    },
    {
     "name": "stdout",
     "output_type": "stream",
     "text": [
      "Train cross-entropy loss: 6.000769548416137\n",
      "Train accuracy: 0.061349999075755474\n",
      "Val accuracy: 0.07000000057742\n",
      "----------\n",
      "EPOCH: 6\n"
     ]
    },
    {
     "name": "stderr",
     "output_type": "stream",
     "text": [
      "\r",
      " 14%|█▍        | 7/50 [27:56<2:51:38, 239.49s/it]"
     ]
    },
    {
     "name": "stdout",
     "output_type": "stream",
     "text": [
      "Train cross-entropy loss: 5.909608007669449\n",
      "Train accuracy: 0.07284999910742045\n",
      "Val accuracy: 0.07749999994412064\n",
      "----------\n",
      "EPOCH: 7\n"
     ]
    },
    {
     "name": "stderr",
     "output_type": "stream",
     "text": [
      "\r",
      " 16%|█▌        | 8/50 [31:50<2:47:11, 238.85s/it]"
     ]
    },
    {
     "name": "stdout",
     "output_type": "stream",
     "text": [
      "Train cross-entropy loss: 5.779553356170655\n",
      "Train accuracy: 0.07834999922662973\n",
      "Val accuracy: 0.07750000059604645\n",
      "----------\n",
      "EPOCH: 8\n"
     ]
    },
    {
     "name": "stderr",
     "output_type": "stream",
     "text": [
      "\r",
      " 18%|█▊        | 9/50 [35:54<2:43:32, 239.34s/it]"
     ]
    },
    {
     "name": "stdout",
     "output_type": "stream",
     "text": [
      "Train cross-entropy loss: 5.715081425905228\n",
      "Train accuracy: 0.08569999922998249\n",
      "Val accuracy: 0.07549999905750156\n",
      "----------\n",
      "EPOCH: 9\n"
     ]
    },
    {
     "name": "stderr",
     "output_type": "stream",
     "text": [
      "\r",
      " 20%|██        | 10/50 [39:56<2:39:46, 239.67s/it]"
     ]
    },
    {
     "name": "stdout",
     "output_type": "stream",
     "text": [
      "Train cross-entropy loss: 5.626364057064056\n",
      "Train accuracy: 0.09279999924823641\n",
      "Val accuracy: 0.09649999933317303\n",
      "----------\n",
      "EPOCH: 10\n"
     ]
    },
    {
     "name": "stderr",
     "output_type": "stream",
     "text": [
      "\r",
      " 22%|██▏       | 11/50 [43:58<2:35:54, 239.87s/it]"
     ]
    },
    {
     "name": "stdout",
     "output_type": "stream",
     "text": [
      "Train cross-entropy loss: 5.541753928661347\n",
      "Train accuracy: 0.0998999992851168\n",
      "Val accuracy: 0.10199999986216426\n",
      "----------\n",
      "EPOCH: 11\n"
     ]
    },
    {
     "name": "stderr",
     "output_type": "stream",
     "text": [
      "\r",
      " 24%|██▍       | 12/50 [47:51<2:31:32, 239.27s/it]"
     ]
    },
    {
     "name": "stdout",
     "output_type": "stream",
     "text": [
      "Train cross-entropy loss: 5.466844108104706\n",
      "Train accuracy: 0.10474999933503568\n",
      "Val accuracy: 0.1059999991208315\n",
      "----------\n",
      "EPOCH: 12\n"
     ]
    },
    {
     "name": "stderr",
     "output_type": "stream",
     "text": [
      "\r",
      " 26%|██▌       | 13/50 [51:49<2:27:30, 239.22s/it]"
     ]
    },
    {
     "name": "stdout",
     "output_type": "stream",
     "text": [
      "Train cross-entropy loss: 5.395829627513885\n",
      "Train accuracy: 0.11449999957345426\n",
      "Val accuracy: 0.11300000026822091\n",
      "----------\n",
      "EPOCH: 13\n"
     ]
    },
    {
     "name": "stderr",
     "output_type": "stream",
     "text": [
      "\r",
      " 28%|██▊       | 14/50 [55:50<2:23:35, 239.33s/it]"
     ]
    },
    {
     "name": "stdout",
     "output_type": "stream",
     "text": [
      "Train cross-entropy loss: 5.355827538967133\n",
      "Train accuracy: 0.11359999956563115\n",
      "Val accuracy: 0.11149999853223562\n",
      "----------\n",
      "EPOCH: 14\n"
     ]
    },
    {
     "name": "stderr",
     "output_type": "stream",
     "text": [
      "\r",
      " 30%|███       | 15/50 [59:41<2:19:16, 238.76s/it]"
     ]
    },
    {
     "name": "stdout",
     "output_type": "stream",
     "text": [
      "Train cross-entropy loss: 5.2674326539039615\n",
      "Train accuracy: 0.12469999971799553\n",
      "Val accuracy: 0.116499999538064\n",
      "----------\n",
      "EPOCH: 15\n"
     ]
    },
    {
     "name": "stderr",
     "output_type": "stream",
     "text": [
      "\r",
      " 32%|███▏      | 16/50 [1:03:38<2:15:13, 238.63s/it]"
     ]
    },
    {
     "name": "stdout",
     "output_type": "stream",
     "text": [
      "Train cross-entropy loss: 5.20961989402771\n",
      "Train accuracy: 0.12884999957866966\n",
      "Val accuracy: 0.11499999910593033\n",
      "----------\n",
      "EPOCH: 16\n"
     ]
    },
    {
     "name": "stderr",
     "output_type": "stream",
     "text": [
      "\r",
      " 34%|███▍      | 17/50 [1:07:34<2:11:11, 238.52s/it]"
     ]
    },
    {
     "name": "stdout",
     "output_type": "stream",
     "text": [
      "Train cross-entropy loss: 5.134382523298264\n",
      "Train accuracy: 0.13544999996200205\n",
      "Val accuracy: 0.11499999929219484\n",
      "----------\n",
      "EPOCH: 17\n"
     ]
    },
    {
     "name": "stderr",
     "output_type": "stream",
     "text": [
      "\r",
      " 36%|███▌      | 18/50 [1:11:31<2:07:09, 238.43s/it]"
     ]
    },
    {
     "name": "stdout",
     "output_type": "stream",
     "text": [
      "Train cross-entropy loss: 5.073826200962067\n",
      "Train accuracy: 0.13680000002495946\n",
      "Val accuracy: 0.11700000017881393\n",
      "----------\n",
      "EPOCH: 18\n"
     ]
    },
    {
     "name": "stderr",
     "output_type": "stream",
     "text": [
      "\r",
      " 38%|███▊      | 19/50 [1:15:28<2:03:09, 238.36s/it]"
     ]
    },
    {
     "name": "stdout",
     "output_type": "stream",
     "text": [
      "Train cross-entropy loss: 4.982788914442063\n",
      "Train accuracy: 0.15009999976493418\n",
      "Val accuracy: 0.13250000067055226\n",
      "----------\n",
      "EPOCH: 19\n"
     ]
    },
    {
     "name": "stderr",
     "output_type": "stream",
     "text": [
      "\r",
      " 40%|████      | 20/50 [1:19:25<1:59:07, 238.26s/it]"
     ]
    },
    {
     "name": "stdout",
     "output_type": "stream",
     "text": [
      "Train cross-entropy loss: 4.9435189127922055\n",
      "Train accuracy: 0.14480000006966293\n",
      "Val accuracy: 0.12000000048428774\n",
      "----------\n",
      "EPOCH: 20\n"
     ]
    },
    {
     "name": "stderr",
     "output_type": "stream",
     "text": [
      "\r",
      " 42%|████▏     | 21/50 [1:23:22<1:55:07, 238.20s/it]"
     ]
    },
    {
     "name": "stdout",
     "output_type": "stream",
     "text": [
      "Train cross-entropy loss: 4.888789627552033\n",
      "Train accuracy: 0.15099999971687794\n",
      "Val accuracy: 0.13900000005960464\n",
      "----------\n",
      "EPOCH: 21\n"
     ]
    },
    {
     "name": "stderr",
     "output_type": "stream",
     "text": [
      "\r",
      " 44%|████▍     | 22/50 [1:27:18<1:51:07, 238.13s/it]"
     ]
    },
    {
     "name": "stdout",
     "output_type": "stream",
     "text": [
      "Train cross-entropy loss: 4.8108019679784775\n",
      "Train accuracy: 0.16439999977126718\n",
      "Val accuracy: 0.13700000066310167\n",
      "----------\n",
      "EPOCH: 22\n"
     ]
    },
    {
     "name": "stderr",
     "output_type": "stream",
     "text": [
      "\r",
      " 46%|████▌     | 23/50 [1:31:20<1:47:14, 238.30s/it]"
     ]
    },
    {
     "name": "stdout",
     "output_type": "stream",
     "text": [
      "Train cross-entropy loss: 4.795996822714805\n",
      "Train accuracy: 0.16399999996647238\n",
      "Val accuracy: 0.14150000028312207\n",
      "----------\n",
      "EPOCH: 23\n"
     ]
    },
    {
     "name": "stderr",
     "output_type": "stream",
     "text": [
      "\r",
      " 48%|████▊     | 24/50 [1:35:15<1:43:11, 238.15s/it]"
     ]
    },
    {
     "name": "stdout",
     "output_type": "stream",
     "text": [
      "Train cross-entropy loss: 4.747554443478585\n",
      "Train accuracy: 0.169400000218302\n",
      "Val accuracy: 0.1425000000745058\n",
      "----------\n",
      "EPOCH: 24\n"
     ]
    },
    {
     "name": "stderr",
     "output_type": "stream",
     "text": [
      "\r",
      " 50%|█████     | 25/50 [1:39:19<1:39:19, 238.39s/it]"
     ]
    },
    {
     "name": "stdout",
     "output_type": "stream",
     "text": [
      "Train cross-entropy loss: 4.67470615029335\n",
      "Train accuracy: 0.17460000018589197\n",
      "Val accuracy: 0.14249999970197677\n",
      "----------\n",
      "EPOCH: 25\n"
     ]
    },
    {
     "name": "stderr",
     "output_type": "stream",
     "text": [
      "\r",
      " 52%|█████▏    | 26/50 [1:43:13<1:35:17, 238.22s/it]"
     ]
    },
    {
     "name": "stdout",
     "output_type": "stream",
     "text": [
      "Train cross-entropy loss: 4.648059285879135\n",
      "Train accuracy: 0.1760500000603497\n",
      "Val accuracy: 0.13700000010430813\n",
      "----------\n",
      "EPOCH: 26\n"
     ]
    },
    {
     "name": "stderr",
     "output_type": "stream",
     "text": [
      "\r",
      " 54%|█████▍    | 27/50 [1:47:03<1:31:12, 237.91s/it]"
     ]
    },
    {
     "name": "stdout",
     "output_type": "stream",
     "text": [
      "Train cross-entropy loss: 4.586241331100464\n",
      "Train accuracy: 0.18134999978356064\n",
      "Val accuracy: 0.14000000171363353\n",
      "----------\n",
      "EPOCH: 27\n"
     ]
    },
    {
     "name": "stderr",
     "output_type": "stream",
     "text": [
      "\r",
      " 56%|█████▌    | 28/50 [1:51:04<1:27:16, 238.00s/it]"
     ]
    },
    {
     "name": "stdout",
     "output_type": "stream",
     "text": [
      "Train cross-entropy loss: 4.567896933555603\n",
      "Train accuracy: 0.18500000031664968\n",
      "Val accuracy: 0.12999999895691872\n",
      "----------\n",
      "EPOCH: 28\n"
     ]
    },
    {
     "name": "stderr",
     "output_type": "stream",
     "text": [
      "\r",
      " 58%|█████▊    | 29/50 [1:55:01<1:23:17, 237.97s/it]"
     ]
    },
    {
     "name": "stdout",
     "output_type": "stream",
     "text": [
      "Train cross-entropy loss: 4.489796296954155\n",
      "Train accuracy: 0.1890000001806766\n",
      "Val accuracy: 0.13499999977648258\n",
      "----------\n",
      "EPOCH: 29\n"
     ]
    },
    {
     "name": "stderr",
     "output_type": "stream",
     "text": [
      "\r",
      " 60%|██████    | 30/50 [1:58:52<1:19:15, 237.76s/it]"
     ]
    },
    {
     "name": "stdout",
     "output_type": "stream",
     "text": [
      "Train cross-entropy loss: 4.435262013673782\n",
      "Train accuracy: 0.19544999970123172\n",
      "Val accuracy: 0.1439999993890524\n",
      "----------\n",
      "EPOCH: 30\n"
     ]
    },
    {
     "name": "stderr",
     "output_type": "stream",
     "text": [
      "\r",
      " 62%|██████▏   | 31/50 [2:02:44<1:15:13, 237.57s/it]"
     ]
    },
    {
     "name": "stdout",
     "output_type": "stream",
     "text": [
      "Train cross-entropy loss: 4.398106771111489\n",
      "Train accuracy: 0.19880000002682208\n",
      "Val accuracy: 0.14100000001490115\n",
      "----------\n",
      "EPOCH: 31\n"
     ]
    },
    {
     "name": "stderr",
     "output_type": "stream",
     "text": [
      "\r",
      " 64%|██████▍   | 32/50 [2:06:43<1:11:16, 237.61s/it]"
     ]
    },
    {
     "name": "stdout",
     "output_type": "stream",
     "text": [
      "Train cross-entropy loss: 4.416301231384278\n",
      "Train accuracy: 0.19739999975077807\n",
      "Val accuracy: 0.14050000049173833\n",
      "----------\n",
      "EPOCH: 32\n"
     ]
    },
    {
     "name": "stderr",
     "output_type": "stream",
     "text": [
      "\r",
      " 66%|██████▌   | 33/50 [2:10:35<1:07:16, 237.44s/it]"
     ]
    },
    {
     "name": "stdout",
     "output_type": "stream",
     "text": [
      "Train cross-entropy loss: 4.328249065876007\n",
      "Train accuracy: 0.208699999358505\n",
      "Val accuracy: 0.15250000059604646\n",
      "----------\n",
      "EPOCH: 33\n"
     ]
    },
    {
     "name": "stderr",
     "output_type": "stream",
     "text": [
      "\r",
      " 68%|██████▊   | 34/50 [2:14:28<1:03:16, 237.31s/it]"
     ]
    },
    {
     "name": "stdout",
     "output_type": "stream",
     "text": [
      "Train cross-entropy loss: 4.345379328727722\n",
      "Train accuracy: 0.20454999942332505\n",
      "Val accuracy: 0.14600000008940697\n",
      "----------\n",
      "EPOCH: 34\n"
     ]
    },
    {
     "name": "stderr",
     "output_type": "stream",
     "text": [
      "\r",
      " 70%|███████   | 35/50 [2:18:21<59:17, 237.20s/it]  "
     ]
    },
    {
     "name": "stdout",
     "output_type": "stream",
     "text": [
      "Train cross-entropy loss: 4.289376577734947\n",
      "Train accuracy: 0.20769999960437416\n",
      "Val accuracy: 0.15200000256299973\n",
      "----------\n",
      "EPOCH: 35\n"
     ]
    },
    {
     "name": "stderr",
     "output_type": "stream",
     "text": [
      "\r",
      " 72%|███████▏  | 36/50 [2:22:15<55:19, 237.09s/it]"
     ]
    },
    {
     "name": "stdout",
     "output_type": "stream",
     "text": [
      "Train cross-entropy loss: 4.212210520505905\n",
      "Train accuracy: 0.21639999948441982\n",
      "Val accuracy: 0.14599999971687794\n",
      "----------\n",
      "EPOCH: 36\n"
     ]
    },
    {
     "name": "stderr",
     "output_type": "stream",
     "text": [
      "\r",
      " 74%|███████▍  | 37/50 [2:26:07<51:20, 236.97s/it]"
     ]
    },
    {
     "name": "stdout",
     "output_type": "stream",
     "text": [
      "Train cross-entropy loss: 4.197144466042519\n",
      "Train accuracy: 0.21879999976605177\n",
      "Val accuracy: 0.1485000006854534\n",
      "----------\n",
      "EPOCH: 37\n"
     ]
    },
    {
     "name": "stderr",
     "output_type": "stream",
     "text": [
      "\r",
      " 76%|███████▌  | 38/50 [2:29:59<47:21, 236.83s/it]"
     ]
    },
    {
     "name": "stdout",
     "output_type": "stream",
     "text": [
      "Train cross-entropy loss: 4.186677687764168\n",
      "Train accuracy: 0.21725000002421438\n",
      "Val accuracy: 0.14249999970197677\n",
      "----------\n",
      "EPOCH: 38\n"
     ]
    },
    {
     "name": "stderr",
     "output_type": "stream",
     "text": [
      "\r",
      " 78%|███████▊  | 39/50 [2:33:50<43:23, 236.67s/it]"
     ]
    },
    {
     "name": "stdout",
     "output_type": "stream",
     "text": [
      "Train cross-entropy loss: 4.128473524451255\n",
      "Train accuracy: 0.22259999930858612\n",
      "Val accuracy: 0.15150000117719173\n",
      "----------\n",
      "EPOCH: 39\n"
     ]
    },
    {
     "name": "stderr",
     "output_type": "stream",
     "text": [
      "\r",
      " 80%|████████  | 40/50 [2:37:40<39:25, 236.51s/it]"
     ]
    },
    {
     "name": "stdout",
     "output_type": "stream",
     "text": [
      "Train cross-entropy loss: 4.073791430592537\n",
      "Train accuracy: 0.22759999989531934\n",
      "Val accuracy: 0.1479999989271164\n",
      "----------\n",
      "EPOCH: 40\n"
     ]
    },
    {
     "name": "stderr",
     "output_type": "stream",
     "text": [
      "\r",
      " 82%|████████▏ | 41/50 [2:41:35<35:28, 236.49s/it]"
     ]
    },
    {
     "name": "stdout",
     "output_type": "stream",
     "text": [
      "Train cross-entropy loss: 4.046828607320785\n",
      "Train accuracy: 0.23529999949038027\n",
      "Val accuracy: 0.15850000083446503\n",
      "----------\n",
      "EPOCH: 41\n"
     ]
    },
    {
     "name": "stderr",
     "output_type": "stream",
     "text": [
      "\r",
      " 84%|████████▍ | 42/50 [2:45:35<31:32, 236.57s/it]"
     ]
    },
    {
     "name": "stdout",
     "output_type": "stream",
     "text": [
      "Train cross-entropy loss: 4.015097485780716\n",
      "Train accuracy: 0.23999999970197677\n",
      "Val accuracy: 0.14749999903142452\n",
      "----------\n",
      "EPOCH: 42\n"
     ]
    },
    {
     "name": "stderr",
     "output_type": "stream",
     "text": [
      "\r",
      " 86%|████████▌ | 43/50 [2:49:26<27:35, 236.44s/it]"
     ]
    },
    {
     "name": "stdout",
     "output_type": "stream",
     "text": [
      "Train cross-entropy loss: 3.9771110302209856\n",
      "Train accuracy: 0.2401499996613711\n",
      "Val accuracy: 0.15300000086426735\n",
      "----------\n",
      "EPOCH: 43\n"
     ]
    },
    {
     "name": "stderr",
     "output_type": "stream",
     "text": [
      "\r",
      " 88%|████████▊ | 44/50 [2:53:18<23:37, 236.32s/it]"
     ]
    },
    {
     "name": "stdout",
     "output_type": "stream",
     "text": [
      "Train cross-entropy loss: 3.9590200644731524\n",
      "Train accuracy: 0.24634999930858612\n",
      "Val accuracy: 0.15750000141561032\n",
      "----------\n",
      "EPOCH: 44\n"
     ]
    },
    {
     "name": "stderr",
     "output_type": "stream",
     "text": [
      "\r",
      " 90%|█████████ | 45/50 [2:57:09<19:41, 236.20s/it]"
     ]
    },
    {
     "name": "stdout",
     "output_type": "stream",
     "text": [
      "Train cross-entropy loss: 3.929029334783554\n",
      "Train accuracy: 0.24624999964609742\n",
      "Val accuracy: 0.15449999943375586\n",
      "----------\n",
      "EPOCH: 45\n"
     ]
    },
    {
     "name": "stderr",
     "output_type": "stream",
     "text": [
      "\r",
      " 92%|█████████▏| 46/50 [3:01:00<15:44, 236.10s/it]"
     ]
    },
    {
     "name": "stdout",
     "output_type": "stream",
     "text": [
      "Train cross-entropy loss: 3.935712521672249\n",
      "Train accuracy: 0.24814999992027878\n",
      "Val accuracy: 0.15300000086426735\n",
      "----------\n",
      "EPOCH: 46\n"
     ]
    },
    {
     "name": "stderr",
     "output_type": "stream",
     "text": [
      "\r",
      " 94%|█████████▍| 47/50 [3:04:51<11:47, 235.99s/it]"
     ]
    },
    {
     "name": "stdout",
     "output_type": "stream",
     "text": [
      "Train cross-entropy loss: 3.870595818758011\n",
      "Train accuracy: 0.2539999996498227\n",
      "Val accuracy: 0.1560000002384186\n",
      "----------\n",
      "EPOCH: 47\n",
      "Train cross-entropy loss: 3.8375994724035265\n",
      "Train accuracy: 0.2582500001229346\n",
      "Val accuracy: 0.15200000070035458\n",
      "Finished\n"
     ]
    }
   ],
   "source": [
    "batch_size = 50\n",
    "steps_per_epoch = 400\n",
    "n_epochs = 50\n",
    "\n",
    "train_losses = []\n",
    "train_accs = []\n",
    "val_accs = []\n",
    "bs = 0\n",
    "\n",
    "sess = tf.Session()\n",
    "sess.run(tf.global_variables_initializer())\n",
    "\n",
    "for epoch in tqdm(range(n_epochs)):\n",
    "    print('-'*10)\n",
    "    print('EPOCH:', epoch)\n",
    "    \n",
    "    ctrain_loss, ctrain_accuracy = 0, 0\n",
    "    cval_accuracy = 0\n",
    "    \n",
    "    for step in range(steps_per_epoch):\n",
    "        batch_train = data_loader.sample_batch('train', batch_size)\n",
    "        \n",
    "        _, iloss, iacc = sess.run([train_op, train_loss, hard_acc_score], \n",
    "                                    feed_dict={X: batch_train[0], q: batch_train[1], a: batch_train[3]})\n",
    "        \n",
    "        ctrain_loss += iloss\n",
    "        ctrain_accuracy += iacc\n",
    "    \n",
    "    ctrain_loss /= steps_per_epoch\n",
    "    ctrain_accuracy /= steps_per_epoch\n",
    "    cval_accuracy = get_accuracy(sess, data_loader)\n",
    "    \n",
    "    train_losses += [ctrain_loss]\n",
    "    train_accs += [ctrain_accuracy]\n",
    "    val_accs += [cval_accuracy]\n",
    "    \n",
    "    print('Train cross-entropy loss:', ctrain_loss)\n",
    "    print('Train accuracy:', ctrain_accuracy)\n",
    "    print('Val accuracy:', cval_accuracy)\n",
    "    if len(val_accs) > 5 and cval_accuracy < np.mean(val_accs[-5:]):\n",
    "        bs += 1\n",
    "        if bs >= 10:\n",
    "            print('Finished')\n",
    "            break"
   ]
  },
  {
   "cell_type": "code",
   "execution_count": 79,
   "metadata": {
    "collapsed": false
   },
   "outputs": [
    {
     "name": "stderr",
     "output_type": "stream",
     "text": [
      "\r",
      "  0%|          | 0/20 [00:00<?, ?it/s]"
     ]
    },
    {
     "name": "stdout",
     "output_type": "stream",
     "text": [
      "----------\n",
      "EPOCH: 0\n"
     ]
    },
    {
     "name": "stderr",
     "output_type": "stream",
     "text": [
      "\r",
      "  5%|▌         | 1/20 [04:11<1:19:45, 251.88s/it]"
     ]
    },
    {
     "name": "stdout",
     "output_type": "stream",
     "text": [
      "Train cross-entropy loss: 3.6026750659942626\n",
      "Train accuracy: 0.288050000295043\n",
      "Val accuracy: 0.15299999825656413\n",
      "----------\n",
      "EPOCH: 1\n"
     ]
    },
    {
     "name": "stderr",
     "output_type": "stream",
     "text": [
      "\r",
      " 10%|█         | 2/20 [08:10<1:13:35, 245.31s/it]"
     ]
    },
    {
     "name": "stdout",
     "output_type": "stream",
     "text": [
      "Train cross-entropy loss: 3.530963510274887\n",
      "Train accuracy: 0.29650000009685756\n",
      "Val accuracy: 0.1560000006109476\n",
      "----------\n",
      "EPOCH: 2\n"
     ]
    },
    {
     "name": "stderr",
     "output_type": "stream",
     "text": [
      "\r",
      " 15%|█▌        | 3/20 [12:06<1:08:35, 242.07s/it]"
     ]
    },
    {
     "name": "stdout",
     "output_type": "stream",
     "text": [
      "Train cross-entropy loss: 3.5366750383377075\n",
      "Train accuracy: 0.2975000000186265\n",
      "Val accuracy: 0.15049999989569188\n",
      "----------\n",
      "EPOCH: 3\n"
     ]
    },
    {
     "name": "stderr",
     "output_type": "stream",
     "text": [
      "\r",
      " 20%|██        | 4/20 [16:03<1:04:13, 240.83s/it]"
     ]
    },
    {
     "name": "stdout",
     "output_type": "stream",
     "text": [
      "Train cross-entropy loss: 3.536423749923706\n",
      "Train accuracy: 0.29450000008568167\n",
      "Val accuracy: 0.15250000059604646\n",
      "----------\n",
      "EPOCH: 4\n"
     ]
    },
    {
     "name": "stderr",
     "output_type": "stream",
     "text": [
      "\r",
      " 25%|██▌       | 5/20 [20:10<1:00:31, 242.13s/it]"
     ]
    },
    {
     "name": "stdout",
     "output_type": "stream",
     "text": [
      "Train cross-entropy loss: 3.478372283577919\n",
      "Train accuracy: 0.30145000014454126\n",
      "Val accuracy: 0.14949999898672103\n",
      "----------\n",
      "EPOCH: 5\n"
     ]
    },
    {
     "name": "stderr",
     "output_type": "stream",
     "text": [
      "\r",
      " 30%|███       | 6/20 [24:06<56:14, 241.07s/it]  "
     ]
    },
    {
     "name": "stdout",
     "output_type": "stream",
     "text": [
      "Train cross-entropy loss: 3.4744283574819566\n",
      "Train accuracy: 0.30485000064596535\n",
      "Val accuracy: 0.15250000059604646\n",
      "----------\n",
      "EPOCH: 6\n"
     ]
    },
    {
     "name": "stderr",
     "output_type": "stream",
     "text": [
      "\r",
      " 35%|███▌      | 7/20 [28:09<52:18, 241.41s/it]"
     ]
    },
    {
     "name": "stdout",
     "output_type": "stream",
     "text": [
      "Train cross-entropy loss: 3.433335474729538\n",
      "Train accuracy: 0.31170000046491625\n",
      "Val accuracy: 0.15399999879300594\n",
      "----------\n",
      "EPOCH: 7\n"
     ]
    },
    {
     "name": "stderr",
     "output_type": "stream",
     "text": [
      "\r",
      " 40%|████      | 8/20 [32:13<48:20, 241.74s/it]"
     ]
    },
    {
     "name": "stdout",
     "output_type": "stream",
     "text": [
      "Train cross-entropy loss: 3.4107307225465773\n",
      "Train accuracy: 0.31205000074580314\n",
      "Val accuracy: 0.15249999947845935\n",
      "----------\n",
      "EPOCH: 8\n"
     ]
    },
    {
     "name": "stderr",
     "output_type": "stream",
     "text": [
      "\r",
      " 45%|████▌     | 9/20 [37:08<45:23, 247.60s/it]"
     ]
    },
    {
     "name": "stdout",
     "output_type": "stream",
     "text": [
      "Train cross-entropy loss: 3.3833066618442533\n",
      "Train accuracy: 0.31530000118538737\n",
      "Val accuracy: 0.1539999984204769\n",
      "----------\n",
      "EPOCH: 9\n"
     ]
    },
    {
     "name": "stderr",
     "output_type": "stream",
     "text": [
      "\r",
      " 50%|█████     | 10/20 [41:59<41:59, 251.97s/it]"
     ]
    },
    {
     "name": "stdout",
     "output_type": "stream",
     "text": [
      "Train cross-entropy loss: 3.3540884393453596\n",
      "Train accuracy: 0.323750001071021\n",
      "Val accuracy: 0.1570000011473894\n",
      "----------\n",
      "EPOCH: 10\n"
     ]
    },
    {
     "name": "stderr",
     "output_type": "stream",
     "text": [
      "\r",
      " 55%|█████▌    | 11/20 [46:52<38:21, 255.69s/it]"
     ]
    },
    {
     "name": "stdout",
     "output_type": "stream",
     "text": [
      "Train cross-entropy loss: 3.3249696284532546\n",
      "Train accuracy: 0.3186500009521842\n",
      "Val accuracy: 0.16250000149011612\n",
      "----------\n",
      "EPOCH: 11\n"
     ]
    },
    {
     "name": "stderr",
     "output_type": "stream",
     "text": [
      "\r",
      " 60%|██████    | 12/20 [51:49<34:33, 259.13s/it]"
     ]
    },
    {
     "name": "stdout",
     "output_type": "stream",
     "text": [
      "Train cross-entropy loss: 3.3105653125047683\n",
      "Train accuracy: 0.32540000081062315\n",
      "Val accuracy: 0.15700000077486037\n",
      "----------\n",
      "EPOCH: 12\n"
     ]
    },
    {
     "name": "stderr",
     "output_type": "stream",
     "text": [
      "\r",
      " 65%|██████▌   | 13/20 [56:46<30:34, 262.02s/it]"
     ]
    },
    {
     "name": "stdout",
     "output_type": "stream",
     "text": [
      "Train cross-entropy loss: 3.2656213420629503\n",
      "Train accuracy: 0.3305500008538365\n",
      "Val accuracy: 0.15349999964237213\n",
      "----------\n",
      "EPOCH: 13\n",
      "Train cross-entropy loss: 3.242478991150856\n",
      "Train accuracy: 0.33720000145956874\n",
      "Val accuracy: 0.1425000000745058\n",
      "Finished\n"
     ]
    }
   ],
   "source": [
    "bs = 5\n",
    "\n",
    "for epoch in tqdm(range(20)):\n",
    "    print('-'*10)\n",
    "    print('EPOCH:', epoch)\n",
    "    \n",
    "    ctrain_loss, ctrain_accuracy = 0, 0\n",
    "    cval_accuracy = 0\n",
    "    \n",
    "    for step in range(steps_per_epoch):\n",
    "        batch_train = data_loader.sample_batch('train', batch_size)\n",
    "        \n",
    "        _, iloss, iacc = sess.run([train_op, train_loss, hard_acc_score], \n",
    "                                    feed_dict={X: batch_train[0], q: batch_train[1], a: batch_train[3]})\n",
    "        \n",
    "        ctrain_loss += iloss\n",
    "        ctrain_accuracy += iacc\n",
    "    \n",
    "    ctrain_loss /= steps_per_epoch\n",
    "    ctrain_accuracy /= steps_per_epoch\n",
    "    cval_accuracy = get_accuracy(sess, data_loader)\n",
    "    \n",
    "    train_losses += [ctrain_loss]\n",
    "    train_accs += [ctrain_accuracy]\n",
    "    val_accs += [cval_accuracy]\n",
    "    \n",
    "    print('Train cross-entropy loss:', ctrain_loss)\n",
    "    print('Train accuracy:', ctrain_accuracy)\n",
    "    print('Val accuracy:', cval_accuracy)\n",
    "    if len(val_accs) > 5 and cval_accuracy < np.mean(val_accs[-5:]):\n",
    "        bs += 1\n",
    "        if bs >= 10:\n",
    "            print('Finished')\n",
    "            break"
   ]
  },
  {
   "cell_type": "code",
   "execution_count": 80,
   "metadata": {
    "collapsed": false,
    "deletable": true,
    "editable": true
   },
   "outputs": [
    {
     "data": {
      "image/png": "[encoded data removed]",
      "text/plain": [
       "<matplotlib.figure.Figure at 0x7f199c02a6a0>"
      ]
     },
     "metadata": {},
     "output_type": "display_data"
    }
   ],
   "source": [
    "from matplotlib import pyplot as plt\n",
    "\n",
    "plt.plot(train_losses)\n",
    "plt.show()"
   ]
  },
  {
   "cell_type": "code",
   "execution_count": 81,
   "metadata": {
    "collapsed": false,
    "deletable": true,
    "editable": true
   },
   "outputs": [
    {
     "data": {
      "image/png": "[encoded data removed]",
      "text/plain": [
       "<matplotlib.figure.Figure at 0x7f199c0d84e0>"
      ]
     },
     "metadata": {},
     "output_type": "display_data"
    }
   ],
   "source": [
    "plt.plot(val_accs)\n",
    "plt.show()"
   ]
  },
  {
   "cell_type": "code",
   "execution_count": 134,
   "metadata": {
    "collapsed": false
   },
   "outputs": [
    {
     "name": "stdout",
     "output_type": "stream",
     "text": [
      "Final score:\n"
     ]
    },
    {
     "data": {
      "text/plain": [
       "0.3305"
      ]
     },
     "execution_count": 134,
     "metadata": {},
     "output_type": "execute_result"
    }
   ],
   "source": [
    "print('Final score:')\n",
    "get_cands_accuracy(sess, data_loader)"
   ]
  },
  {
   "cell_type": "code",
   "execution_count": 135,
   "metadata": {
    "collapsed": false
   },
   "outputs": [
    {
     "name": "stdout",
     "output_type": "stream",
     "text": [
      "DOC:\n",
      "so saying the fairy \u001b[31m-lrb-\u001b[0m that was her name \u001b[31m-rrb-\u001b[0m blew a little gold whistle , and a chariot appeared drawn by six splendid ostriches . in it was seated the fairy queen , escorted by a dozen other fairies mounted on dragons . all having dismounted , told her adventures , and the fairy queen approved all she had done , and proposed turning into bronze like her horse . , however , who was very kind and gentle , begged for a milder sentence , and at last it was settled that should become her slave for life unless she should have a child to take her place . the king was told of his wife 's fate and submitted to it , which , as he could do nothing to help it , was the only course open to him . the fairies then all dispersed , taking her slave with her , and on reaching her palace she said : ` you ought by rights to be scullion , but as you have been delicately brought up the change might be too great for you . i shall therefore only order you to sweep my rooms carefully , and to wash and comb my little dog . ' felt there was no use in disobeying , so she did as she was bid and said nothing . after some time she gave birth to a most lovely little girl , and when she was well again the fairy gave her a good lecture on her past life , made her promise to behave better in future , and sent her back to the king , her husband . now gave herself up entirely to the little princess who was left in her charge . she anxiously thought over which of the fairies she would invite to be godmothers , so as to secure the best gift , for her adopted child . at last she decided on two very kindly and cheerful fairies , and asked them to the christening feast . directly it was over the baby was brought to them in a lovely crystal cradle hung with red silk curtains embroidered with gold . the little thing smiled so sweetly at the fairies that they decided to do all they could for her . they began by naming her , and then said : ` you know , dear sisters , that the commonest form of spite or punishment amongst us consists of changing beauty to ugliness , cleverness to stupidity , and \u001b[31moftener\u001b[0m still to change a person 's form altogether . now , as we can only each bestow one gift , i think the best plan will be for one of you to give her beauty , the other good understanding , whilst i will undertake that she shall never be changed into any other form . ' the two godmothers quite agreed , and as soon as the little princess had received their gifts , they went home , and gave herself up to the child 's education . she succeeded so well with it , and little grew so lovely , that when she was still quite a child her fame was spread abroad only too much , and one day was surprised by a visit from the fairy queen , who was attended by a very grave and fairy . the queen began at once : ' i have been much surprised by your behaviour to ; she had insulted our whole race , and deserved punishment . you might forgive your own wrongs if you chose , but not those of others .\n",
      "----------\n",
      "QUERY:\n",
      "you treated her very gently whilst she was with you , and i come now to avenge our \u001b[31mXXXXX\u001b[0m on her daughter .\n",
      "----------\n",
      "ANSWER:\n",
      "wrongs\n"
     ]
    }
   ],
   "source": [
    "# example\n",
    "b_size=10\n",
    "example_val = data_loader.sample_batch('val', b_size)\n",
    "ex_hat = sess.run(a_hat, feed_dict={X:example_val[0], q:example_val[1]})\n",
    "\n",
    "data_loader.show_example(example_val)"
   ]
  },
  {
   "cell_type": "code",
   "execution_count": 136,
   "metadata": {
    "collapsed": false
   },
   "outputs": [
    {
     "name": "stdout",
     "output_type": "stream",
     "text": [
      "----------\n",
      "true: visit\n",
      "pred: way 0.00559\n",
      "----------\n",
      "true: skin\n",
      "pred: skin 0.02698\n",
      "----------\n",
      "true: dogs\n",
      "pred: heads 0.00309\n",
      "----------\n",
      "true: foot\n",
      "pred: witch 0.97050\n",
      "----------\n",
      "true: poplar\n",
      "pred: world 0.00564\n",
      "----------\n",
      "true: merchant\n",
      "pred: master 0.11641\n",
      "----------\n",
      "true: mother\n",
      "pred: felicity 0.30863\n",
      "----------\n",
      "true: fairy\n",
      "pred: fairy 0.00684\n",
      "----------\n",
      "true: crowns\n",
      "pred: time 0.04293\n",
      "----------\n",
      "true: wrongs\n",
      "pred: girl 0.00153\n"
     ]
    }
   ],
   "source": [
    "for i in range(b_size):\n",
    "    print('-'*10)\n",
    "    print('true:', data_loader.id_to_word[example_val[3][i]])\n",
    "    cands = example_val[2][i]\n",
    "    c_hat = ex_hat[i,:]\n",
    "    scores = c_hat[cands]\n",
    "    max_ind = np.argmax(scores)\n",
    "    print('pred:', data_loader.id_to_word[cands[max_ind]], '%6.5f'%scores[max_ind])\n",
    "    #for k in range(10):\n",
    "    #    print(data_loader.id_to_word[cands[k]], '%6.5f'%scores[k])"
   ]
  },
  {
   "cell_type": "code",
   "execution_count": 137,
   "metadata": {
    "collapsed": false,
    "deletable": true,
    "editable": true
   },
   "outputs": [
    {
     "name": "stdout",
     "output_type": "stream",
     "text": [
      "Predictions:\n",
      "Word: lady \t Score: 0.06037215371419625\n",
      "Word: princess \t Score: 0.05956209499265567\n",
      "Word: fairy \t Score: 0.05057825125121866\n",
      "Word: room \t Score: 0.04520066199960077\n",
      "Word: palace \t Score: 0.025044382004360113\n"
     ]
    }
   ],
   "source": [
    "inds = ex_hat[0].argsort()[-5:][::-1]\n",
    "\n",
    "print('Predictions:')\n",
    "for ind in inds:\n",
    "    print('Word:', data_loader.id_to_word[ind], '\\t Score:', ex_hat[0][ind])"
   ]
  }
 ],
 "metadata": {
  "kernelspec": {
   "display_name": "Python 3",
   "language": "python",
   "name": "python3"
  },
  "language_info": {
   "codemirror_mode": {
    "name": "ipython",
    "version": 3
   },
   "file_extension": ".py",
   "mimetype": "text/x-python",
   "name": "python",
   "nbconvert_exporter": "python",
   "pygments_lexer": "ipython3",
   "version": "3.5.2"
  }
 },
 "nbformat": 4,
 "nbformat_minor": 2
}
