{
 "cells": [
  {
   "cell_type": "code",
   "execution_count": 1,
   "metadata": {
    "collapsed": false
   },
   "outputs": [
    {
     "name": "stdout",
     "output_type": "stream",
     "text": [
      "Words extracted. Total number: 31614\n",
      "Number of pre-trained: 31547\n"
     ]
    }
   ],
   "source": [
    "from cbt_preprocessing import CBTProcessor\n",
    "\n",
    "# give path to text corpus and embeddings\n",
    "data_loader = CBTProcessor('data/cbt_train.txt', 'data/glove.6B.50d.txt', 50)"
   ]
  },
  {
   "cell_type": "code",
   "execution_count": 2,
   "metadata": {
    "collapsed": true
   },
   "outputs": [],
   "source": [
    "# prepare for batch generation on train and val splits\n",
    "data_loader.fit_on_texts('data/cbtest_CN_train.txt', 'train')\n",
    "data_loader.fit_on_texts('data/cbtest_CN_valid_2000ex.txt', 'val')"
   ]
  },
  {
   "cell_type": "code",
   "execution_count": 3,
   "metadata": {
    "collapsed": false
   },
   "outputs": [
    {
     "name": "stdout",
     "output_type": "stream",
     "text": [
      "DOC:\n",
      "`` ah ! my mother , '' replied sadly , `` what did you promise , yourself ? '' the king of the gold mines , indignant at being kept from his happiness by this wicked old woman , went up to her , and threatening her with his sword , said : `` get away out of my country at once , and for ever , miserable creature , lest i take your life , and so rid myself of your malice . '' he had hardly spoken these words when the lid of the box fell back on the floor with a terrible noise , and to their horror out sprang the yellow dwarf , mounted upon a great cat . `` rash youth ! '' he cried , rushing between the fairy of the desert and the king . `` dare to lay a finger upon this illustrious fairy ! your quarrel is with me only . i am your enemy and your rival . that faithless princess who would have married you is promised to me . see if she has not upon her finger a ring made of one of my hairs . just try to take it off , and you will soon find out that i am more powerful than you are ! '' `` wretched little monster ! '' said the king ; `` do you dare to call yourself the princess 's lover , and to lay claim to such a treasure ? do you know that you are a dwarf -- that you are so ugly that one can not bear to look at you -- and that i should have killed you myself long before this if you had been worthy of such a glorious death ? '' the yellow dwarf , deeply enraged at these words , set spurs to his cat , which yelled horribly , and leaped hither and thither -- terrifying everybody except the brave king , who pursued the dwarf closely , till he , drawing a great knife with which he was armed , challenged the king to meet him in single combat , and rushed down into the courtyard of the palace with a terrible clatter . the king , quite provoked , followed him hastily , but they had hardly taken their places facing one another , and the whole court had only just had time to rush out upon the balconies to watch what was going on , when suddenly the sun became as red as blood , and it was so dark that they could scarcely see at all . the thunder crashed , and the lightning seemed as if it must burn up everything ; the two basilisks appeared , one on each side of the bad dwarf , like giants , mountains high , and fire flew from their mouths and ears , until they looked like flaming furnaces . none of these things could terrify the noble young king , and the boldness of his looks and actions reassured those who were looking on , and perhaps even embarrassed the yellow dwarf himself ; but even his courage gave way when he saw what was happening to his beloved princess . for the fairy of the desert , looking more terrible than before , mounted upon a winged griffin , and with long snakes coiled round her neck , had given her such a blow with the lance she carried that fell into the queen 's arms bleeding and senseless .\n",
      "----------\n",
      "QUERY:\n",
      "21 her fond \u001b[31mXXXXX\u001b[0m , feeling as much hurt by the blow as the princess herself , uttered such piercing cries and lamentations that the king , hearing them , entirely lost his courage and presence of mind .\n",
      "----------\n",
      "ANSWER:\n",
      "mother\n"
     ]
    }
   ],
   "source": [
    "# check batch sampling\n",
    "ex_batch_train = data_loader.sample_batch('train', 32)\n",
    "data_loader.show_example(ex_batch_train)"
   ]
  },
  {
   "cell_type": "code",
   "execution_count": 4,
   "metadata": {
    "collapsed": false
   },
   "outputs": [
    {
     "name": "stdout",
     "output_type": "stream",
     "text": [
      "Doc shape: (32, 1000)\n",
      "Query shape: (32, 150)\n",
      "----------\n",
      "Cands shape: (32, 10)\n",
      "----------\n",
      "Answer shape: (32,)\n",
      "----------\n",
      "Mask shape: (32, 1000, 150)\n"
     ]
    }
   ],
   "source": [
    "# each batch contains:\n",
    "# docs and queries\n",
    "ex_D_train, ex_Q_train = ex_batch_train[0], ex_batch_train[1]\n",
    "print('Doc shape:', ex_D_train.shape)\n",
    "print('Query shape:', ex_Q_train.shape)\n",
    "# 10 possible candidates\n",
    "ex_C_train = ex_batch_train[2]\n",
    "print('-'*10)\n",
    "print('Cands shape:', ex_C_train.shape)\n",
    "# real answers\n",
    "ex_A_train = ex_batch_train[3]\n",
    "print('-'*10)\n",
    "print('Answer shape:', ex_A_train.shape)\n",
    "# Doc2Query Masks\n",
    "ex_mask_train = ex_batch_train[4]\n",
    "print('-'*10)\n",
    "print('Mask shape:', ex_mask_train.shape)"
   ]
  },
  {
   "cell_type": "markdown",
   "metadata": {},
   "source": [
    "# Memory Network"
   ]
  },
  {
   "cell_type": "code",
   "execution_count": 5,
   "metadata": {
    "collapsed": true
   },
   "outputs": [],
   "source": [
    "import tensorflow as tf\n",
    "import numpy as np\n",
    "from tqdm import tqdm"
   ]
  },
  {
   "cell_type": "code",
   "execution_count": 11,
   "metadata": {
    "collapsed": false
   },
   "outputs": [
    {
     "name": "stdout",
     "output_type": "stream",
     "text": [
      "(?, 31614)\n"
     ]
    }
   ],
   "source": [
    "tf.reset_default_graph()\n",
    "\n",
    "X = tf.placeholder(tf.int32, [None, data_loader.max_doc_len], name='Doc')\n",
    "q = tf.placeholder(tf.int32, [None, data_loader.max_query_len], name='Query')\n",
    "a = tf.placeholder(tf.int32, [None,], name='Answer')\n",
    "\n",
    "A_emb = tf.Variable(data_loader.embeddings, name='Doc_embeddings')\n",
    "B_emb = tf.Variable(data_loader.embeddings, name='Query_embeddings')\n",
    "C_emb = tf.Variable(data_loader.embeddings, name='Output_embeddings')\n",
    "\n",
    "m = tf.nn.embedding_lookup(A_emb, X, name='Memory_vector')\n",
    "u = tf.reduce_mean(tf.nn.embedding_lookup(B_emb, q), 1, name='Internal_state')\n",
    "p = tf.nn.softmax(m @ tf.reshape(u, shape=(-1,data_loader.embed_dim,1)), axis=1, name='Match_prob')\n",
    "c = tf.nn.embedding_lookup(C_emb, X, name='Output_vector')\n",
    "\n",
    "o = tf.reduce_sum(p * c, axis=1, name='Response_vector')\n",
    "\n",
    "a_hat_logits = tf.layers.dense(o+u, len(data_loader.words), use_bias=False)\n",
    "a_hat = tf.nn.softmax(a_hat_logits)\n",
    "\n",
    "train_loss = tf.losses.sparse_softmax_cross_entropy(a, a_hat_logits)\n",
    "acc_score = tf.contrib.metrics.accuracy(tf.argmax(a_hat, axis=1, output_type=tf.int32), a)\n",
    "\n",
    "optim = tf.train.AdamOptimizer(learning_rate=1e-2)\n",
    "train_op = optim.minimize(train_loss)\n",
    "print(a_hat.shape)"
   ]
  },
  {
   "cell_type": "code",
   "execution_count": 12,
   "metadata": {
    "collapsed": false
   },
   "outputs": [
    {
     "data": {
      "text/plain": [
       "120769"
      ]
     },
     "execution_count": 12,
     "metadata": {},
     "output_type": "execute_result"
    }
   ],
   "source": [
    "data_loader.train_data_len"
   ]
  },
  {
   "cell_type": "code",
   "execution_count": 13,
   "metadata": {
    "collapsed": true
   },
   "outputs": [],
   "source": [
    "def get_accuracy(sess, data_loader, batch_size=100):\n",
    "    total_acc = 0\n",
    "    for step in range(0, data_loader.val_data_len, batch_size):\n",
    "        batch_val = data_loader.sample_batch('val', batch_size, offset=step)\n",
    "        \n",
    "        iacc = sess.run(acc_score, feed_dict={X:batch_val[0], q:batch_val[1], a:batch_val[3]})\n",
    "        total_acc += iacc * batch_size\n",
    "    return total_acc / data_loader.val_data_len"
   ]
  },
  {
   "cell_type": "code",
   "execution_count": 14,
   "metadata": {
    "collapsed": false
   },
   "outputs": [
    {
     "name": "stderr",
     "output_type": "stream",
     "text": [
      "\r",
      "  0%|          | 0/20 [00:00<?, ?it/s]"
     ]
    },
    {
     "name": "stdout",
     "output_type": "stream",
     "text": [
      "----------\n",
      "EPOCH: 0\n"
     ]
    },
    {
     "name": "stderr",
     "output_type": "stream",
     "text": [
      "\r",
      "  5%|▌         | 1/20 [01:06<20:55, 66.10s/it]"
     ]
    },
    {
     "name": "stdout",
     "output_type": "stream",
     "text": [
      "Train cross-entropy loss: 7.214302268028259\n",
      "Train accuracy: 0.030699999406933784\n",
      "Val accuracy: 0.05750000048428774\n",
      "----------\n",
      "EPOCH: 1\n"
     ]
    },
    {
     "name": "stderr",
     "output_type": "stream",
     "text": [
      "\r",
      " 10%|█         | 2/20 [02:16<20:28, 68.23s/it]"
     ]
    },
    {
     "name": "stdout",
     "output_type": "stream",
     "text": [
      "Train cross-entropy loss: 6.363027768135071\n",
      "Train accuracy: 0.07019999926909805\n",
      "Val accuracy: 0.09399999910965562\n",
      "----------\n",
      "EPOCH: 2\n"
     ]
    },
    {
     "name": "stderr",
     "output_type": "stream",
     "text": [
      "\r",
      " 15%|█▌        | 3/20 [03:26<19:29, 68.77s/it]"
     ]
    },
    {
     "name": "stdout",
     "output_type": "stream",
     "text": [
      "Train cross-entropy loss: 5.88478687286377\n",
      "Train accuracy: 0.1037999995611608\n",
      "Val accuracy: 0.11750000119209289\n",
      "----------\n",
      "EPOCH: 3\n"
     ]
    },
    {
     "name": "stderr",
     "output_type": "stream",
     "text": [
      "\r",
      " 20%|██        | 4/20 [04:35<18:21, 68.84s/it]"
     ]
    },
    {
     "name": "stdout",
     "output_type": "stream",
     "text": [
      "Train cross-entropy loss: 5.52139999628067\n",
      "Train accuracy: 0.13189999943599104\n",
      "Val accuracy: 0.1300000000745058\n",
      "----------\n",
      "EPOCH: 4\n"
     ]
    },
    {
     "name": "stderr",
     "output_type": "stream",
     "text": [
      "\r",
      " 25%|██▌       | 5/20 [05:42<17:06, 68.42s/it]"
     ]
    },
    {
     "name": "stdout",
     "output_type": "stream",
     "text": [
      "Train cross-entropy loss: 5.291783566474915\n",
      "Train accuracy: 0.14940000016242266\n",
      "Val accuracy: 0.14549999926239252\n",
      "----------\n",
      "EPOCH: 5\n"
     ]
    },
    {
     "name": "stderr",
     "output_type": "stream",
     "text": [
      "\r",
      " 30%|███       | 6/20 [06:46<15:48, 67.78s/it]"
     ]
    },
    {
     "name": "stdout",
     "output_type": "stream",
     "text": [
      "Train cross-entropy loss: 5.0981640625\n",
      "Train accuracy: 0.16360000059008598\n",
      "Val accuracy: 0.15149999894201754\n",
      "----------\n",
      "EPOCH: 6\n"
     ]
    },
    {
     "name": "stderr",
     "output_type": "stream",
     "text": [
      "\r",
      " 35%|███▌      | 7/20 [07:51<14:35, 67.36s/it]"
     ]
    },
    {
     "name": "stdout",
     "output_type": "stream",
     "text": [
      "Train cross-entropy loss: 4.880957601070404\n",
      "Train accuracy: 0.18239999927580355\n",
      "Val accuracy: 0.15250000022351742\n",
      "----------\n",
      "EPOCH: 7\n"
     ]
    },
    {
     "name": "stderr",
     "output_type": "stream",
     "text": [
      "\r",
      " 40%|████      | 8/20 [09:00<13:30, 67.58s/it]"
     ]
    },
    {
     "name": "stdout",
     "output_type": "stream",
     "text": [
      "Train cross-entropy loss: 4.729925467967987\n",
      "Train accuracy: 0.18960000023245813\n",
      "Val accuracy: 0.15449999868869782\n",
      "----------\n",
      "EPOCH: 8\n"
     ]
    },
    {
     "name": "stderr",
     "output_type": "stream",
     "text": [
      "\r",
      " 45%|████▌     | 9/20 [10:06<12:21, 67.37s/it]"
     ]
    },
    {
     "name": "stdout",
     "output_type": "stream",
     "text": [
      "Train cross-entropy loss: 4.559830129146576\n",
      "Train accuracy: 0.20690000019967555\n",
      "Val accuracy: 0.15650000032037498\n",
      "----------\n",
      "EPOCH: 9\n"
     ]
    },
    {
     "name": "stderr",
     "output_type": "stream",
     "text": [
      "\r",
      " 50%|█████     | 10/20 [11:12<11:12, 67.20s/it]"
     ]
    },
    {
     "name": "stdout",
     "output_type": "stream",
     "text": [
      "Train cross-entropy loss: 4.472157752513885\n",
      "Train accuracy: 0.22070000045001506\n",
      "Val accuracy: 0.1625\n",
      "----------\n",
      "EPOCH: 10\n",
      "Train cross-entropy loss: 4.319539345502854\n",
      "Train accuracy: 0.2278999998793006\n",
      "Val accuracy: 0.1449999999254942\n",
      "Finished\n"
     ]
    }
   ],
   "source": [
    "batch_size = 50\n",
    "steps_per_epoch = 200\n",
    "n_epochs = 20\n",
    "\n",
    "train_losses = []\n",
    "train_accs = []\n",
    "val_accs = []\n",
    "\n",
    "sess = tf.Session()\n",
    "sess.run(tf.global_variables_initializer())\n",
    "\n",
    "for epoch in tqdm(range(n_epochs)):\n",
    "    print('-'*10)\n",
    "    print('EPOCH:', epoch)\n",
    "    \n",
    "    ctrain_loss, ctrain_accuracy = 0, 0\n",
    "    cval_accuracy = 0\n",
    "    \n",
    "    for step in range(steps_per_epoch):\n",
    "        batch_train = data_loader.sample_batch('train', batch_size)\n",
    "        \n",
    "        _, iloss, iacc = sess.run([train_op, train_loss, acc_score], \n",
    "                                    feed_dict={X: batch_train[0], q: batch_train[1], a: batch_train[3]})\n",
    "        \n",
    "        ctrain_loss += iloss\n",
    "        ctrain_accuracy += iacc\n",
    "    \n",
    "    ctrain_loss /= steps_per_epoch\n",
    "    ctrain_accuracy /= steps_per_epoch\n",
    "    cval_accuracy = get_accuracy(sess, data_loader)\n",
    "    \n",
    "    train_losses += [ctrain_loss]\n",
    "    train_accs += [ctrain_accuracy]\n",
    "    val_accs += [cval_accuracy]\n",
    "    \n",
    "    print('Train cross-entropy loss:', ctrain_loss)\n",
    "    print('Train accuracy:', ctrain_accuracy)\n",
    "    print('Val accuracy:', cval_accuracy)\n",
    "    if len(val_accs) > 5 and cval_accuracy < np.mean(val_accs[-5:]):\n",
    "        print('Finished')\n",
    "        break"
   ]
  },
  {
   "cell_type": "code",
   "execution_count": 15,
   "metadata": {
    "collapsed": false
   },
   "outputs": [
    {
     "data": {
      "image/png": "[encoded data removed]",
      "text/plain": [
       "<matplotlib.figure.Figure at 0x7fa1e9d5e940>"
      ]
     },
     "metadata": {},
     "output_type": "display_data"
    }
   ],
   "source": [
    "from matplotlib import pyplot as plt\n",
    "\n",
    "plt.plot(train_losses)\n",
    "plt.show()"
   ]
  },
  {
   "cell_type": "code",
   "execution_count": 17,
   "metadata": {
    "collapsed": false
   },
   "outputs": [
    {
     "data": {
      "image/png": "[encoded data removed]",
      "text/plain": [
       "<matplotlib.figure.Figure at 0x7fa1d00f0b38>"
      ]
     },
     "metadata": {},
     "output_type": "display_data"
    }
   ],
   "source": [
    "plt.plot(val_accs)\n",
    "plt.show()"
   ]
  }
 ],
 "metadata": {
  "kernelspec": {
   "display_name": "Python 3",
   "language": "python",
   "name": "python3"
  },
  "language_info": {
   "codemirror_mode": {
    "name": "ipython",
    "version": 3
   },
   "file_extension": ".py",
   "mimetype": "text/x-python",
   "name": "python",
   "nbconvert_exporter": "python",
   "pygments_lexer": "ipython3",
   "version": "3.5.2"
  }
 },
 "nbformat": 4,
 "nbformat_minor": 2
}
