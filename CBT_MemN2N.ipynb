{
 "cells": [
  {
   "cell_type": "code",
   "execution_count": 1,
   "metadata": {
    "collapsed": false,
    "deletable": true,
    "editable": true
   },
   "outputs": [
    {
     "name": "stdout",
     "output_type": "stream",
     "text": [
      "Words extracted. Total number: 33012\n",
      "Number of pre-trained: 32416\n"
     ]
    }
   ],
   "source": [
    "from cbt_preprocessing import CBTProcessor\n",
    "\n",
    "# give path to text corpus and embeddings\n",
    "data_loader = CBTProcessor('data/cbt_train.txt', 'data/glove.6B.50d.txt', 50)"
   ]
  },
  {
   "cell_type": "code",
   "execution_count": 2,
   "metadata": {
    "collapsed": true,
    "deletable": true,
    "editable": true
   },
   "outputs": [],
   "source": [
    "# prepare for batch generation on train and val splits\n",
    "data_loader.fit_on_texts('data/cbtest_CN_train.txt', 'train')\n",
    "data_loader.fit_on_texts('data/cbtest_CN_valid_2000ex.txt', 'val')"
   ]
  },
  {
   "cell_type": "code",
   "execution_count": 3,
   "metadata": {
    "collapsed": false,
    "deletable": true,
    "editable": true
   },
   "outputs": [
    {
     "name": "stdout",
     "output_type": "stream",
     "text": [
      "DOC:\n",
      "he little suspected , innocent youth that he was , that here , in this very athens , where his father reigned , a greater danger awaited him than any which he had encountered on the road . yet this was the truth . you must understand that the father of theseus , though not very old in years , was almost worn out with the cares of government , and had thus grown aged before his time . his nephews , not expecting him to live a very great while , intended to get all the power of the kingdom into their own hands . but when they heard that theseus had arrived in athens , and learned what a gallant young man he was , they saw that he would not be at all the kind of a person to let them steal away his father 's crown and scepter , which ought to be his own by right of inheritance . thus these nephews of king aegeus , who were the own cousins of theseus , at once became his enemies . a still more dangerous enemy was medea , the wicked enchantress ; for she was now the king 's wife , and wanted to give the kingdom to her son , instead of letting it be given to the son of aethra , whom she hated . it so happened that the king 's nephews met theseus , and found out who he was , just as he reached the entrance of the royal palace . with all their evil designs against him , they pretended to be their cousin 's best friends , and expressed great joy at making his acquaintance . they proposed to him that he should come into the king 's presence as a stranger , in order to try whether aegeus would discover in the young man 's features any likeness either to himself or his mother aethra , and thus recognize him for a son . theseus consented ; for he fancied that his father would know him in a moment , by the love that was in his heart . but , while he waited at the door , the nephews ran and told king aegeus that a young man had arrived in athens , who , to their certain knowledge , intended to put him to death , and get possession of his royal crown . `` and he is now waiting for admission to your majesty 's presence , '' added they . `` aha ! '' cried the old king , on hearing this . `` why , he must be a very wicked young fellow indeed ! pray , what would you advise me to do with him ? '' in reply to this question , the wicked medea put in her word . as i have already told you , she was a famous enchantress . according to some stories , she was in the habit of boiling old people in a large caldron , under pretense of making them young again ; but king aegeus , i suppose , did not fancy such an uncomfortable way of growing young , or perhaps was contented to be old , and therefore would never let himself be popped into the caldron .\n",
      "----------\n",
      "QUERY:\n",
      "if there were \u001b[31mXXXXX\u001b[0m to spare from more important matters , i should be glad to tell you of medea 's fiery chariot , drawn by winged dragons , in which the enchantress used often to take an airing among the clouds .\n",
      "----------\n",
      "ANSWER:\n",
      "time\n"
     ]
    }
   ],
   "source": [
    "# check batch sampling\n",
    "ex_batch_train = data_loader.sample_batch('train', 32)\n",
    "data_loader.show_example(ex_batch_train)"
   ]
  },
  {
   "cell_type": "code",
   "execution_count": 4,
   "metadata": {
    "collapsed": false,
    "deletable": true,
    "editable": true
   },
   "outputs": [
    {
     "name": "stdout",
     "output_type": "stream",
     "text": [
      "Doc shape: (32, 1000)\n",
      "Query shape: (32, 150)\n",
      "----------\n",
      "Cands shape: (32, 10)\n",
      "----------\n",
      "Answer shape: (32,)\n",
      "----------\n",
      "Mask shape: (32, 1000, 150)\n"
     ]
    }
   ],
   "source": [
    "# each batch contains:\n",
    "# docs and queries\n",
    "ex_D_train, ex_Q_train = ex_batch_train[0], ex_batch_train[1]\n",
    "print('Doc shape:', ex_D_train.shape)\n",
    "print('Query shape:', ex_Q_train.shape)\n",
    "# 10 possible candidates\n",
    "ex_C_train = ex_batch_train[2]\n",
    "print('-'*10)\n",
    "print('Cands shape:', ex_C_train.shape)\n",
    "# real answers\n",
    "ex_A_train = ex_batch_train[3]\n",
    "print('-'*10)\n",
    "print('Answer shape:', ex_A_train.shape)\n",
    "# Doc2Query Masks\n",
    "ex_mask_train = ex_batch_train[4]\n",
    "print('-'*10)\n",
    "print('Mask shape:', ex_mask_train.shape)"
   ]
  },
  {
   "cell_type": "markdown",
   "metadata": {
    "deletable": true,
    "editable": true
   },
   "source": [
    "# Memory Network"
   ]
  },
  {
   "cell_type": "code",
   "execution_count": 5,
   "metadata": {
    "collapsed": true,
    "deletable": true,
    "editable": true
   },
   "outputs": [],
   "source": [
    "import tensorflow as tf\n",
    "import numpy as np\n",
    "from tqdm import tqdm"
   ]
  },
  {
   "cell_type": "code",
   "execution_count": 26,
   "metadata": {
    "collapsed": false,
    "deletable": true,
    "editable": true
   },
   "outputs": [
    {
     "name": "stdout",
     "output_type": "stream",
     "text": [
      "(?, 33012)\n"
     ]
    }
   ],
   "source": [
    "tf.reset_default_graph()\n",
    "\n",
    "X = tf.placeholder(tf.int32, [None, data_loader.max_doc_len], name='Doc')\n",
    "q = tf.placeholder(tf.int32, [None, data_loader.max_query_len], name='Query')\n",
    "a = tf.placeholder(tf.int32, [None,], name='Answer')\n",
    "\n",
    "A_emb = tf.Variable(data_loader.embeddings, name='Doc_embeddings')\n",
    "B_emb = tf.Variable(data_loader.embeddings, name='Query_embeddings')\n",
    "C_emb = tf.Variable(data_loader.embeddings, name='Output_embeddings')\n",
    "\n",
    "def one_hop(X, q, A_emb, B_emb, C_emb):\n",
    "    m = tf.nn.dropout(tf.nn.embedding_lookup(A_emb, X, name='Memory_vector'), 0.8)\n",
    "    u = tf.reduce_mean(tf.nn.dropout(tf.nn.embedding_lookup(B_emb, q), 0.8), 1, name='Internal_state')\n",
    "    p = tf.nn.softmax(m @ tf.reshape(u, shape=(-1,data_loader.embed_dim,1)), axis=1, name='Match_prob')\n",
    "    c = tf.nn.dropout(tf.nn.embedding_lookup(C_emb, X, name='Output_vector'), 0.8)\n",
    "    \n",
    "    return u, tf.reduce_sum(p * c, axis=1, name='Response_vector')\n",
    "\n",
    "u, o = one_hop(X, q, A_emb, B_emb, C_emb)\n",
    "\n",
    "a_hat_logits = tf.layers.dense(o+u, len(data_loader.words), use_bias=False)\n",
    "a_hat = tf.nn.softmax(a_hat_logits)\n",
    "\n",
    "train_loss = tf.losses.sparse_softmax_cross_entropy(a, a_hat_logits)\n",
    "acc_score = tf.contrib.metrics.accuracy(tf.argmax(a_hat, axis=1, output_type=tf.int32), a)\n",
    "\n",
    "optim = tf.train.AdamOptimizer(learning_rate=5e-3)\n",
    "train_op = optim.minimize(train_loss)\n",
    "print(a_hat.shape)"
   ]
  },
  {
   "cell_type": "code",
   "execution_count": 27,
   "metadata": {
    "collapsed": false,
    "deletable": true,
    "editable": true
   },
   "outputs": [
    {
     "data": {
      "text/plain": [
       "120769"
      ]
     },
     "execution_count": 27,
     "metadata": {},
     "output_type": "execute_result"
    }
   ],
   "source": [
    "data_loader.train_data_len"
   ]
  },
  {
   "cell_type": "code",
   "execution_count": 28,
   "metadata": {
    "collapsed": true,
    "deletable": true,
    "editable": true
   },
   "outputs": [],
   "source": [
    "def get_accuracy(sess, data_loader, batch_size=100):\n",
    "    total_acc = 0\n",
    "    for step in range(0, data_loader.val_data_len, batch_size):\n",
    "        batch_val = data_loader.sample_batch('val', batch_size, offset=step)\n",
    "        \n",
    "        iacc = sess.run(acc_score, feed_dict={X:batch_val[0], q:batch_val[1], a:batch_val[3]})\n",
    "        total_acc += iacc * batch_size\n",
    "    return total_acc / data_loader.val_data_len"
   ]
  },
  {
   "cell_type": "code",
   "execution_count": 29,
   "metadata": {
    "collapsed": false,
    "deletable": true,
    "editable": true
   },
   "outputs": [
    {
     "name": "stderr",
     "output_type": "stream",
     "text": [
      "\n",
      "  0%|          | 0/20 [00:00<?, ?it/s]\u001b[A"
     ]
    },
    {
     "name": "stdout",
     "output_type": "stream",
     "text": [
      "----------\n",
      "EPOCH: 0\n"
     ]
    },
    {
     "name": "stderr",
     "output_type": "stream",
     "text": [
      "\n",
      "Exception in thread Thread-5:\n",
      "Traceback (most recent call last):\n",
      "  File \"/usr/lib/python3.5/threading.py\", line 914, in _bootstrap_inner\n",
      "    self.run()\n",
      "  File \"/usr/local/lib/python3.5/dist-packages/tqdm/_tqdm.py\", line 144, in run\n",
      "    for instance in self.tqdm_cls._instances:\n",
      "  File \"/usr/lib/python3.5/_weakrefset.py\", line 60, in __iter__\n",
      "    for itemref in self.data:\n",
      "RuntimeError: Set changed size during iteration\n",
      "\n",
      "  5%|▌         | 1/20 [04:30<1:25:43, 270.72s/it]"
     ]
    },
    {
     "name": "stdout",
     "output_type": "stream",
     "text": [
      "Train cross-entropy loss: 6.946855664253235\n",
      "Train accuracy: 0.03549999928101897\n",
      "Val accuracy: 0.054999999981373546\n",
      "----------\n",
      "EPOCH: 1\n"
     ]
    },
    {
     "name": "stderr",
     "output_type": "stream",
     "text": [
      "\r",
      " 10%|█         | 2/20 [08:41<1:18:14, 260.83s/it]"
     ]
    },
    {
     "name": "stdout",
     "output_type": "stream",
     "text": [
      "Train cross-entropy loss: 6.222373688220978\n",
      "Train accuracy: 0.07039999919943511\n",
      "Val accuracy: 0.10149999987334013\n",
      "----------\n",
      "EPOCH: 2\n"
     ]
    },
    {
     "name": "stderr",
     "output_type": "stream",
     "text": [
      "\r",
      " 15%|█▌        | 3/20 [12:55<1:13:15, 258.54s/it]"
     ]
    },
    {
     "name": "stdout",
     "output_type": "stream",
     "text": [
      "Train cross-entropy loss: 5.772570456266403\n",
      "Train accuracy: 0.10794999959878623\n",
      "Val accuracy: 0.12149999979883433\n",
      "----------\n",
      "EPOCH: 3\n"
     ]
    },
    {
     "name": "stderr",
     "output_type": "stream",
     "text": [
      "\r",
      " 20%|██        | 4/20 [16:59<1:07:59, 254.99s/it]"
     ]
    },
    {
     "name": "stdout",
     "output_type": "stream",
     "text": [
      "Train cross-entropy loss: 5.416052341461182\n",
      "Train accuracy: 0.1312499996740371\n",
      "Val accuracy: 0.14149999767541885\n",
      "----------\n",
      "EPOCH: 4\n"
     ]
    },
    {
     "name": "stderr",
     "output_type": "stream",
     "text": [
      "\r",
      " 25%|██▌       | 5/20 [21:32<1:04:36, 258.43s/it]"
     ]
    },
    {
     "name": "stdout",
     "output_type": "stream",
     "text": [
      "Train cross-entropy loss: 5.1719905638694765\n",
      "Train accuracy: 0.14899999951943754\n",
      "Val accuracy: 0.15650000125169755\n",
      "----------\n",
      "EPOCH: 5\n"
     ]
    },
    {
     "name": "stderr",
     "output_type": "stream",
     "text": [
      "\r",
      " 30%|███       | 6/20 [25:48<1:00:12, 258.01s/it]"
     ]
    },
    {
     "name": "stdout",
     "output_type": "stream",
     "text": [
      "Train cross-entropy loss: 4.962074965238571\n",
      "Train accuracy: 0.16670000000856816\n",
      "Val accuracy: 0.13950000070035457\n",
      "----------\n",
      "EPOCH: 6\n"
     ]
    },
    {
     "name": "stderr",
     "output_type": "stream",
     "text": [
      "\r",
      " 35%|███▌      | 7/20 [29:12<54:13, 250.30s/it]  "
     ]
    },
    {
     "name": "stdout",
     "output_type": "stream",
     "text": [
      "Train cross-entropy loss: 4.777572450041771\n",
      "Train accuracy: 0.17780000001192092\n",
      "Val accuracy: 0.15199999921023846\n",
      "----------\n",
      "EPOCH: 7\n"
     ]
    },
    {
     "name": "stderr",
     "output_type": "stream",
     "text": [
      "\r",
      " 40%|████      | 8/20 [32:31<48:47, 243.94s/it]"
     ]
    },
    {
     "name": "stdout",
     "output_type": "stream",
     "text": [
      "Train cross-entropy loss: 4.58633693933487\n",
      "Train accuracy: 0.18520000005140902\n",
      "Val accuracy: 0.1474999997764826\n",
      "----------\n",
      "EPOCH: 8\n"
     ]
    },
    {
     "name": "stderr",
     "output_type": "stream",
     "text": [
      "\r",
      " 45%|████▌     | 9/20 [35:44<43:41, 238.30s/it]"
     ]
    },
    {
     "name": "stdout",
     "output_type": "stream",
     "text": [
      "Train cross-entropy loss: 4.49972744345665\n",
      "Train accuracy: 0.19989999961107968\n",
      "Val accuracy: 0.14650000259280205\n",
      "----------\n",
      "EPOCH: 9\n"
     ]
    },
    {
     "name": "stderr",
     "output_type": "stream",
     "text": [
      "\r",
      " 50%|█████     | 10/20 [38:57<38:57, 233.80s/it]"
     ]
    },
    {
     "name": "stdout",
     "output_type": "stream",
     "text": [
      "Train cross-entropy loss: 4.3061861926317215\n",
      "Train accuracy: 0.21759999959729612\n",
      "Val accuracy: 0.15500000044703482\n",
      "----------\n",
      "EPOCH: 10\n"
     ]
    },
    {
     "name": "stderr",
     "output_type": "stream",
     "text": [
      "\r",
      " 55%|█████▌    | 11/20 [42:01<34:23, 229.23s/it]"
     ]
    },
    {
     "name": "stdout",
     "output_type": "stream",
     "text": [
      "Train cross-entropy loss: 4.209929571151734\n",
      "Train accuracy: 0.22469999960623682\n",
      "Val accuracy: 0.15899999886751176\n",
      "----------\n",
      "EPOCH: 11\n"
     ]
    },
    {
     "name": "stderr",
     "output_type": "stream",
     "text": [
      "\r",
      " 60%|██████    | 12/20 [44:56<29:57, 224.72s/it]"
     ]
    },
    {
     "name": "stdout",
     "output_type": "stream",
     "text": [
      "Train cross-entropy loss: 4.038405809998512\n",
      "Train accuracy: 0.24119999948889018\n",
      "Val accuracy: 0.14549999870359898\n",
      "----------\n",
      "EPOCH: 12\n"
     ]
    },
    {
     "name": "stderr",
     "output_type": "stream",
     "text": [
      "\r",
      " 65%|██████▌   | 13/20 [47:55<25:48, 221.21s/it]"
     ]
    },
    {
     "name": "stdout",
     "output_type": "stream",
     "text": [
      "Train cross-entropy loss: 3.958356201052666\n",
      "Train accuracy: 0.25175000039860607\n",
      "Val accuracy: 0.15350000001490116\n",
      "----------\n",
      "EPOCH: 13\n"
     ]
    },
    {
     "name": "stderr",
     "output_type": "stream",
     "text": [
      "\r",
      " 70%|███████   | 14/20 [50:54<21:49, 218.20s/it]"
     ]
    },
    {
     "name": "stdout",
     "output_type": "stream",
     "text": [
      "Train cross-entropy loss: 3.836171643137932\n",
      "Train accuracy: 0.2701500001363456\n",
      "Val accuracy: 0.15500000156462193\n",
      "----------\n",
      "EPOCH: 14\n"
     ]
    },
    {
     "name": "stderr",
     "output_type": "stream",
     "text": [
      "\r",
      " 75%|███████▌  | 15/20 [53:59<17:59, 215.94s/it]"
     ]
    },
    {
     "name": "stdout",
     "output_type": "stream",
     "text": [
      "Train cross-entropy loss: 3.7081448185443877\n",
      "Train accuracy: 0.2826000002026558\n",
      "Val accuracy: 0.1544999998062849\n",
      "----------\n",
      "EPOCH: 15\n",
      "Train cross-entropy loss: 3.6255783182382584\n",
      "Train accuracy: 0.2921500005014241\n",
      "Val accuracy: 0.14649999998509883\n",
      "Finished\n"
     ]
    },
    {
     "name": "stderr",
     "output_type": "stream",
     "text": [
      "\n"
     ]
    }
   ],
   "source": [
    "batch_size = 50\n",
    "steps_per_epoch = 400\n",
    "n_epochs = 20\n",
    "\n",
    "train_losses = []\n",
    "train_accs = []\n",
    "val_accs = []\n",
    "bs = 0\n",
    "\n",
    "sess = tf.Session()\n",
    "sess.run(tf.global_variables_initializer())\n",
    "\n",
    "for epoch in tqdm(range(n_epochs)):\n",
    "    print('-'*10)\n",
    "    print('EPOCH:', epoch)\n",
    "    \n",
    "    ctrain_loss, ctrain_accuracy = 0, 0\n",
    "    cval_accuracy = 0\n",
    "    \n",
    "    for step in range(steps_per_epoch):\n",
    "        batch_train = data_loader.sample_batch('train', batch_size)\n",
    "        \n",
    "        _, iloss, iacc = sess.run([train_op, train_loss, acc_score], \n",
    "                                    feed_dict={X: batch_train[0], q: batch_train[1], a: batch_train[3]})\n",
    "        \n",
    "        ctrain_loss += iloss\n",
    "        ctrain_accuracy += iacc\n",
    "    \n",
    "    ctrain_loss /= steps_per_epoch\n",
    "    ctrain_accuracy /= steps_per_epoch\n",
    "    cval_accuracy = get_accuracy(sess, data_loader)\n",
    "    \n",
    "    train_losses += [ctrain_loss]\n",
    "    train_accs += [ctrain_accuracy]\n",
    "    val_accs += [cval_accuracy]\n",
    "    \n",
    "    print('Train cross-entropy loss:', ctrain_loss)\n",
    "    print('Train accuracy:', ctrain_accuracy)\n",
    "    print('Val accuracy:', cval_accuracy)\n",
    "    if len(val_accs) > 5 and cval_accuracy < np.mean(val_accs[-5:]):\n",
    "        bs += 1\n",
    "        if bs >= 3:\n",
    "            print('Finished')\n",
    "            break"
   ]
  },
  {
   "cell_type": "code",
   "execution_count": 30,
   "metadata": {
    "collapsed": false,
    "deletable": true,
    "editable": true
   },
   "outputs": [
    {
     "data": {
      "image/png": "[encoded data removed]",
      "text/plain": [
       "<matplotlib.figure.Figure at 0x7f50506d6dd8>"
      ]
     },
     "metadata": {},
     "output_type": "display_data"
    }
   ],
   "source": [
    "from matplotlib import pyplot as plt\n",
    "\n",
    "plt.plot(train_losses)\n",
    "plt.show()"
   ]
  },
  {
   "cell_type": "code",
   "execution_count": 31,
   "metadata": {
    "collapsed": false,
    "deletable": true,
    "editable": true
   },
   "outputs": [
    {
     "data": {
      "image/png": "[encoded data removed]",
      "text/plain": [
       "<matplotlib.figure.Figure at 0x7f5036543d30>"
      ]
     },
     "metadata": {},
     "output_type": "display_data"
    }
   ],
   "source": [
    "plt.plot(val_accs)\n",
    "plt.show()"
   ]
  },
  {
   "cell_type": "code",
   "execution_count": 95,
   "metadata": {
    "collapsed": false
   },
   "outputs": [
    {
     "name": "stdout",
     "output_type": "stream",
     "text": [
      "DOC:\n",
      "at these words she struck the ground with her foot and a gulf opened , down which they went right into the heart of the earth . in a short time they reached 's palace , which gives light , with a light brighter than the sun , to the dark kingdoms below . and the prince , as he had been bidden , entered boldly into the hall . , with a shining crown upon his head , sat in the centre upon a golden throne . his green eyes glittered like glass , his hands were as the claws of a crab . when he caught sight of the prince he uttered piercing yells , which shook the walls of the palace . the prince took no notice , but continued his advance on his knees towards the throne . when he had almost reached it , the king broke out into a laugh and said : ` it has been very lucky for you that you have been able to make me laugh . stay with us in our underground empire , only first you will have to do three things . to-night it is late . go to sleep ; to-morrow i will tell you . ' early the following morning the prince received a message that was ready to see him . he got up and dressed , and hastened to the presence chamber , where the little king was seated on his throne . when the prince appeared , bowing low before him , began : ` now , prince , this is what you have to do . by to-night you must build me a marble palace , with windows of crystal and a roof of gold . it is to stand in the middle of a great park , full of streams and lakes . if you are able to build it you shall be my friend . if not , off with your head . ' the prince listened in silence to this startling speech , and then returning to his room set himself to think about the certain death that awaited him . he was quite absorbed in these thoughts , when suddenly a bee flew against the window and tapped , saying , ` let me come in . '\n",
      "----------\n",
      "QUERY:\n",
      "he rose and opened the \u001b[31mXXXXX\u001b[0m , and there stood before him the youngest princess .\n",
      "----------\n",
      "ANSWER:\n",
      "window\n"
     ]
    }
   ],
   "source": [
    "example_val = data_loader.sample_batch('val', 1)\n",
    "ex_hat = sess.run(a_hat, feed_dict={X:example_val[0], q:example_val[1]})\n",
    "\n",
    "data_loader.show_example(example_val)"
   ]
  },
  {
   "cell_type": "code",
   "execution_count": 96,
   "metadata": {
    "collapsed": false
   },
   "outputs": [
    {
     "name": "stdout",
     "output_type": "stream",
     "text": [
      "Predictions:\n",
      "Word: room \t Score: 0.06715854650833165\n",
      "Word: palace \t Score: 0.04113510202611516\n",
      "Word: hall \t Score: 0.03663513497483599\n",
      "Word: prince \t Score: 0.023544221653554905\n",
      "Word: princess \t Score: 0.02156811182835556\n"
     ]
    }
   ],
   "source": [
    "inds = ex_hat[0].argsort()[-5:][::-1]\n",
    "\n",
    "print('Predictions:')\n",
    "for ind in inds:\n",
    "    print('Word:', data_loader.id_to_word[ind], '\\t Score:', ex_hat[0][ind])"
   ]
  }
 ],
 "metadata": {
  "kernelspec": {
   "display_name": "Python 3",
   "language": "python",
   "name": "python3"
  },
  "language_info": {
   "codemirror_mode": {
    "name": "ipython",
    "version": 3
   },
   "file_extension": ".py",
   "mimetype": "text/x-python",
   "name": "python",
   "nbconvert_exporter": "python",
   "pygments_lexer": "ipython3",
   "version": "3.5.2"
  }
 },
 "nbformat": 4,
 "nbformat_minor": 2
}
