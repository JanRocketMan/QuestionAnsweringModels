{
 "cells": [
  {
   "cell_type": "code",
   "execution_count": 1,
   "metadata": {
    "collapsed": true,
    "deletable": true,
    "editable": true
   },
   "outputs": [],
   "source": [
    "import numpy as np\n",
    "import pandas as pd\n",
    "from ast import literal_eval\n",
    "import itertools\n",
    "import random\n",
    "import tensorflow as tf\n",
    "from tqdm import tqdm\n",
    "from matplotlib import pyplot as plt"
   ]
  },
  {
   "cell_type": "code",
   "execution_count": 2,
   "metadata": {
    "collapsed": true,
    "deletable": true,
    "editable": true
   },
   "outputs": [],
   "source": [
    "sample_train = pd.read_csv('data/CBT_CN_train.csv',delimiter=';')\n",
    "sample_train = sample_train.sample(n=10000, replace=True)\n",
    "sample_valid = pd.read_csv('data/CBT_CN_valid.csv',delimiter=';')"
   ]
  },
  {
   "cell_type": "code",
   "execution_count": 3,
   "metadata": {
    "collapsed": true,
    "deletable": true,
    "editable": true
   },
   "outputs": [],
   "source": [
    "sample_train['Document'] = sample_train['Document'].apply(literal_eval)\n",
    "sample_valid['Document'] = sample_valid['Document'].apply(literal_eval)\n",
    "sample_train['Query'] = sample_train['Query'].apply(literal_eval)\n",
    "sample_valid['Query'] = sample_valid['Query'].apply(literal_eval)\n",
    "sample_train['Candidates'] = sample_train['Candidates'].apply(literal_eval)\n",
    "sample_valid['Candidates'] = sample_valid['Candidates'].apply(literal_eval)"
   ]
  },
  {
   "cell_type": "code",
   "execution_count": 4,
   "metadata": {
    "collapsed": true,
    "deletable": true,
    "editable": true
   },
   "outputs": [],
   "source": [
    "def categorize_text(text, word_to_id, mapped_words):\n",
    "    newtext = []\n",
    "    text_to_process = text\n",
    "    if type(text) is not list:\n",
    "        text_to_process = [text]\n",
    "    for word in text_to_process:\n",
    "        if mapped_words is None or word in mapped_words:\n",
    "            newtext.append(word_to_id[word])\n",
    "        else:\n",
    "            newtext.append(word_to_id['<NA>'])\n",
    "    return newtext\n",
    "\n",
    "def categorize_df(df, word_to_id=None):\n",
    "    cat_df = pd.DataFrame(dtype=str).reindex_like(df)\n",
    "    cat_df['Document'] = [[]] * len(df)\n",
    "    cat_df['Query'] = [[]] * len(df)\n",
    "    cat_df['Candidates'] = [[]] * len(df)\n",
    "    cat_df['Answer'] = ['<NA>'] * len(df)\n",
    "    words = []\n",
    "    mapped_words = None\n",
    "    id_to_word = None\n",
    "    if word_to_id is None:\n",
    "        print('Processing train data...')\n",
    "        words += list(itertools.chain.from_iterable(df['Document'].values))\n",
    "        words += list(itertools.chain.from_iterable(df['Query'].values))\n",
    "        words += list(itertools.chain.from_iterable(df['Candidates'].values))\n",
    "        words += list(df['Answer'].values)\n",
    "        print('\\t random word:', words[19374])\n",
    "        words += ['<NA>']\n",
    "        words = set(words)\n",
    "        print('\\t dictionary size(with NA):', len(words))\n",
    "        word_to_id = {t: i for i, t in enumerate(words)}\n",
    "        id_to_word = {i: t for i, t in enumerate(words)}\n",
    "    else:\n",
    "        print('Processing test data...')\n",
    "        mapped_words = set(word_to_id.keys())\n",
    "    \n",
    "    cat_df['Document'] = df['Document'].apply(lambda row: categorize_text(row, word_to_id, mapped_words))\n",
    "    cat_df['Query'] = df['Query'].apply(lambda row: categorize_text(row, word_to_id, mapped_words))\n",
    "    cat_df['Candidates'] = df['Candidates'].apply(lambda row: categorize_text(row, word_to_id, mapped_words))\n",
    "    cat_df['Answer'] = df['Answer'].apply(lambda row: categorize_text(row, word_to_id, mapped_words)[0])\n",
    "    \n",
    "    return cat_df, len(words), word_to_id, id_to_word"
   ]
  },
  {
   "cell_type": "code",
   "execution_count": 5,
   "metadata": {
    "collapsed": true,
    "deletable": true,
    "editable": true
   },
   "outputs": [],
   "source": [
    "def check_categorization(id_to_word, df, cat_df, isTrain=True):\n",
    "    print('Checking categorization...')\n",
    "    ind_s = np.random.randint(0, high=len(df), size=100)\n",
    "    allClear = True\n",
    "    NA_freq = 0\n",
    "    tot_len = 0\n",
    "    for i in ind_s:\n",
    "        for col in df.columns[:-1]:\n",
    "            temp = cat_df[col].iloc[i]\n",
    "            assert type(temp) is list\n",
    "            tot_len += len(temp)\n",
    "            for j in range(len(temp)):\n",
    "                if id_to_word[temp[j]] != df[col].iloc[i][j]:\n",
    "                    if isTrain or id_to_word[temp[j]] != '<NA>':\n",
    "                        allClear = False\n",
    "                    else:\n",
    "                        NA_freq += 1\n",
    "        tot_len += 1\n",
    "        if id_to_word[cat_df['Answer'].iloc[i]] != df['Answer'].iloc[i]:\n",
    "            if isTrain or id_to_word[cat_df['Answer'].iloc[i]] != '<NA>':\n",
    "                allClear = False\n",
    "            else:\n",
    "                NA_freq += 1\n",
    "    NA_freq = 100.0 * float(NA_freq) / float(tot_len)\n",
    "    if allClear:\n",
    "        print('\\t Sector is clear')\n",
    "        if NA_freq > 0:\n",
    "            print('\\t Percentage of <NA> words:', NA_freq)\n",
    "    else:\n",
    "        print('\\t ... Not clear! Not clear!')"
   ]
  },
  {
   "cell_type": "code",
   "execution_count": 6,
   "metadata": {
    "collapsed": false,
    "deletable": true,
    "editable": true
   },
   "outputs": [
    {
     "name": "stdout",
     "output_type": "stream",
     "text": [
      "Processing train data...\n",
      "\t random word: of\n",
      "\t dictionary size(with NA): 33648\n",
      "Checking categorization...\n",
      "\t Sector is clear\n"
     ]
    }
   ],
   "source": [
    "cat_train, dictionary_size, word_to_id, id_to_word = categorize_df(sample_train)\n",
    "check_categorization(id_to_word, sample_train, cat_train)"
   ]
  },
  {
   "cell_type": "code",
   "execution_count": 7,
   "metadata": {
    "collapsed": false,
    "deletable": true,
    "editable": true
   },
   "outputs": [
    {
     "name": "stdout",
     "output_type": "stream",
     "text": [
      "Processing test data...\n",
      "Checking categorization...\n",
      "\t Sector is clear\n",
      "\t Percentage of <NA> words: 0.7929182748783353\n"
     ]
    }
   ],
   "source": [
    "cat_valid, _, _, _ = categorize_df(sample_valid, word_to_id)\n",
    "check_categorization(id_to_word, sample_valid, cat_valid, isTrain=False)"
   ]
  },
  {
   "cell_type": "code",
   "execution_count": 8,
   "metadata": {
    "collapsed": false,
    "deletable": true,
    "editable": true
   },
   "outputs": [],
   "source": [
    "inds_ex = range(0, 10000)\n",
    "temp = np.array([len(arr) for arr in cat_train.iloc[inds_ex]['Document'].values])"
   ]
  },
  {
   "cell_type": "code",
   "execution_count": 9,
   "metadata": {
    "collapsed": false,
    "deletable": true,
    "editable": true
   },
   "outputs": [
    {
     "data": {
      "text/plain": [
       "9776"
      ]
     },
     "execution_count": 9,
     "metadata": {},
     "output_type": "execute_result"
    }
   ],
   "source": [
    "np.sum(temp < 800)"
   ]
  },
  {
   "cell_type": "code",
   "execution_count": 10,
   "metadata": {
    "collapsed": false,
    "deletable": true,
    "editable": true
   },
   "outputs": [
    {
     "data": {
      "image/png": "[encoded data removed]",
      "text/plain": [
       "<matplotlib.figure.Figure at 0x7fdb250dd9b0>"
      ]
     },
     "metadata": {},
     "output_type": "display_data"
    }
   ],
   "source": [
    "plt.hist(temp)\n",
    "plt.show()"
   ]
  },
  {
   "cell_type": "code",
   "execution_count": 11,
   "metadata": {
    "collapsed": false,
    "deletable": true,
    "editable": true
   },
   "outputs": [
    {
     "data": {
      "text/html": [
       "<div>\n",
       "<table border=\"1\" class=\"dataframe\">\n",
       "  <thead>\n",
       "    <tr style=\"text-align: right;\">\n",
       "      <th></th>\n",
       "      <th>Document</th>\n",
       "      <th>Query</th>\n",
       "      <th>Candidates</th>\n",
       "      <th>Answer</th>\n",
       "    </tr>\n",
       "  </thead>\n",
       "  <tbody>\n",
       "    <tr>\n",
       "      <th>80118</th>\n",
       "      <td>[9905, 12051, 24430, 23400, 584, 16078, 12051,...</td>\n",
       "      <td>[23610, 12051, 4752, 27129, 12315, 20829, 1872...</td>\n",
       "      <td>[28163, 30033, 4905, 31316, 2265, 1672, 584, 2...</td>\n",
       "      <td>4905</td>\n",
       "    </tr>\n",
       "    <tr>\n",
       "      <th>105129</th>\n",
       "      <td>[6357, 25317, 33112, 215, 19026, 18970, 2254, ...</td>\n",
       "      <td>[14257, 26964, 23610, 26964, 28320, 13449, 269...</td>\n",
       "      <td>[13449, 12424, 17375, 24830, 798, 2254, 2232, ...</td>\n",
       "      <td>5588</td>\n",
       "    </tr>\n",
       "    <tr>\n",
       "      <th>47932</th>\n",
       "      <td>[23896, 7007, 23400, 23489, 19928, 25933, 2943...</td>\n",
       "      <td>[2943, 21629, 8988, 7007, 11261, 27564, 26964,...</td>\n",
       "      <td>[23489, 8638, 7228, 7676, 32898, 32689, 22788,...</td>\n",
       "      <td>22788</td>\n",
       "    </tr>\n",
       "    <tr>\n",
       "      <th>39922</th>\n",
       "      <td>[9081, 23400, 31054, 26766, 23400, 16788, 1206...</td>\n",
       "      <td>[16485, 12069, 23400, 1368, 21337, 82, 21096, ...</td>\n",
       "      <td>[8326, 16788, 11493, 15389, 259, 7112, 12292, ...</td>\n",
       "      <td>259</td>\n",
       "    </tr>\n",
       "    <tr>\n",
       "      <th>13399</th>\n",
       "      <td>[12176, 10476, 16749, 26964, 11333, 2943, 2500...</td>\n",
       "      <td>[18084, 12069, 30227, 32877, 306, 26964, 6357,...</td>\n",
       "      <td>[30424, 13631, 26437, 21096, 20708, 26679, 278...</td>\n",
       "      <td>19982</td>\n",
       "    </tr>\n",
       "  </tbody>\n",
       "</table>\n",
       "</div>"
      ],
      "text/plain": [
       "                                                 Document  \\\n",
       "80118   [9905, 12051, 24430, 23400, 584, 16078, 12051,...   \n",
       "105129  [6357, 25317, 33112, 215, 19026, 18970, 2254, ...   \n",
       "47932   [23896, 7007, 23400, 23489, 19928, 25933, 2943...   \n",
       "39922   [9081, 23400, 31054, 26766, 23400, 16788, 1206...   \n",
       "13399   [12176, 10476, 16749, 26964, 11333, 2943, 2500...   \n",
       "\n",
       "                                                    Query  \\\n",
       "80118   [23610, 12051, 4752, 27129, 12315, 20829, 1872...   \n",
       "105129  [14257, 26964, 23610, 26964, 28320, 13449, 269...   \n",
       "47932   [2943, 21629, 8988, 7007, 11261, 27564, 26964,...   \n",
       "39922   [16485, 12069, 23400, 1368, 21337, 82, 21096, ...   \n",
       "13399   [18084, 12069, 30227, 32877, 306, 26964, 6357,...   \n",
       "\n",
       "                                               Candidates  Answer  \n",
       "80118   [28163, 30033, 4905, 31316, 2265, 1672, 584, 2...    4905  \n",
       "105129  [13449, 12424, 17375, 24830, 798, 2254, 2232, ...    5588  \n",
       "47932   [23489, 8638, 7228, 7676, 32898, 32689, 22788,...   22788  \n",
       "39922   [8326, 16788, 11493, 15389, 259, 7112, 12292, ...     259  \n",
       "13399   [30424, 13631, 26437, 21096, 20708, 26679, 278...   19982  "
      ]
     },
     "execution_count": 11,
     "metadata": {},
     "output_type": "execute_result"
    }
   ],
   "source": [
    "cat_train.head()"
   ]
  },
  {
   "cell_type": "code",
   "execution_count": 12,
   "metadata": {
    "collapsed": false,
    "deletable": true,
    "editable": true
   },
   "outputs": [
    {
     "name": "stdout",
     "output_type": "stream",
     "text": [
      "[13449, 12424, 17375, 24830, 798, 2254, 2232, 5588, 16978, 20998]\n",
      "[23489, 8638, 7228, 7676, 32898, 32689, 22788, 1672, 12292, 9795]\n",
      "[8326, 16788, 11493, 15389, 259, 7112, 12292, 17413, 16883, 1039]\n"
     ]
    }
   ],
   "source": [
    "inds_x = [1, 2, 3]\n",
    "for arr in cat_train.iloc[inds_x].values:\n",
    "    print(arr[2])"
   ]
  },
  {
   "cell_type": "code",
   "execution_count": 57,
   "metadata": {
    "collapsed": false
   },
   "outputs": [
    {
     "data": {
      "text/plain": [
       "array([0, 1, 1])"
      ]
     },
     "execution_count": 57,
     "metadata": {},
     "output_type": "execute_result"
    }
   ],
   "source": [
    "np.array(np.array([1,2,2]) == 2, dtype=int)"
   ]
  },
  {
   "cell_type": "code",
   "execution_count": 63,
   "metadata": {
    "collapsed": true,
    "deletable": true,
    "editable": true
   },
   "outputs": [],
   "source": [
    "def sample_batch(data, batch_size, word_to_id, D_max_len=900, Q_max_len=100, offset=None):\n",
    "    if offset is None:\n",
    "        inds = random.sample(range(len(data)), batch_size)\n",
    "    else:\n",
    "        inds = range(offset, offset + batch_size)\n",
    "    D_lengths = np.array([min(len(arr), D_max_len) for arr in data.iloc[inds]['Document'].values])\n",
    "    Q_lengths = np.array([min(len(arr), Q_max_len) for arr in data.iloc[inds]['Query'].values])\n",
    "    D,Q,C,y = [],[],[],[]\n",
    "    for arr in data.iloc[inds].values:\n",
    "        if len(arr[0]) < D_max_len:\n",
    "            D += [arr[0] + [word_to_id['<NA>']]*(D_max_len - len(arr[0]))]\n",
    "        else:\n",
    "            D += [arr[0][0:D_max_len]]\n",
    "        \n",
    "        if len(arr[1]) < Q_max_len:\n",
    "            Q += [arr[1] + [word_to_id['<NA>']]*(Q_max_len - len(arr[1]))]\n",
    "        else:\n",
    "            Q += [arr[1][0:Q_max_len]]\n",
    "        C += [[list(np.array(D[-1]) == val) for val in arr[2]]]\n",
    "        #C += [arr[2]]\n",
    "        y += [list(np.array(np.array(arr[2]) == arr[3],dtype=int))]\n",
    "    D, Q = np.array(D), np.array(Q)\n",
    "    C,y = np.array(C,dtype=int),np.array(y)\n",
    "    return D, Q, C, y, D_lengths, Q_lengths"
   ]
  },
  {
   "cell_type": "code",
   "execution_count": 88,
   "metadata": {
    "collapsed": false,
    "deletable": true,
    "editable": true
   },
   "outputs": [],
   "source": [
    "D_ex, Q_ex, C_ex, y_ex, D_l_ex, Q_l_ex = sample_batch(cat_train, 3, word_to_id)"
   ]
  },
  {
   "cell_type": "code",
   "execution_count": 91,
   "metadata": {
    "collapsed": false
   },
   "outputs": [
    {
     "name": "stdout",
     "output_type": "stream",
     "text": [
      "[ 27 238 253 293]\n",
      "[ 99 280]\n",
      "[135]\n",
      "[233 248]\n",
      "[ 77 203]\n",
      "[213]\n",
      "[332]\n",
      "[277]\n",
      "[291]\n",
      "[197 210]\n"
     ]
    }
   ],
   "source": [
    "for i in range(10):\n",
    "    print(np.where(C_ex[0][i] == 1)[0])"
   ]
  },
  {
   "cell_type": "code",
   "execution_count": 97,
   "metadata": {
    "collapsed": false
   },
   "outputs": [
    {
     "data": {
      "text/plain": [
       "(3, 10, 900)"
      ]
     },
     "execution_count": 97,
     "metadata": {},
     "output_type": "execute_result"
    }
   ],
   "source": [
    "C_ex.shape"
   ]
  },
  {
   "cell_type": "code",
   "execution_count": 116,
   "metadata": {
    "collapsed": false
   },
   "outputs": [
    {
     "name": "stdout",
     "output_type": "stream",
     "text": [
      "(?, 3)\n",
      "[[ 0.5         0.2         0.30000001]\n",
      " [ 0.40000001  0.40000001  0.2       ]]\n",
      "(2, 3)\n"
     ]
    }
   ],
   "source": [
    "tf.reset_default_graph()\n",
    "\n",
    "A = tf.placeholder(tf.float32, [None, None])\n",
    "B = tf.placeholder(tf.float32, [None, 3, None])\n",
    "\n",
    "pos = tf.reduce_sum(tf.multiply(tf.expand_dims(A,axis=1), B), axis=2)\n",
    "#pos = tf.gather(params=A, indices=B, axis=1)\n",
    "print(pos.shape)\n",
    "\n",
    "B_ex = np.array([[[1,0,0,1],[0,1,0,0],[0,0,1,0]],[[0,1,0,0],[0,0,1,0],[1,0,0,1]]])\n",
    "\n",
    "with tf.Session() as sess:\n",
    "    pos_ex = sess.run(pos, {A: np.array([[0.1, 0.2, 0.3, 0.4], [0.2, 0.4, 0.4, 0.0]]),\n",
    "                            B: B_ex})\n",
    "    print(pos_ex)\n",
    "    print(pos_ex.shape)"
   ]
  },
  {
   "cell_type": "code",
   "execution_count": 128,
   "metadata": {
    "collapsed": false,
    "deletable": true,
    "editable": true
   },
   "outputs": [
    {
     "name": "stdout",
     "output_type": "stream",
     "text": [
      "(?, 128, 50) (?, 16, 50)\n",
      "(?, 128, 50) (?, 16, 50)\n",
      "(?, 128, 16)\n",
      "(?, 128, 16)\n",
      "(?, 16)\n",
      "(?, 10)\n"
     ]
    }
   ],
   "source": [
    "emb_dim = 50\n",
    "rnn_dim = 50\n",
    "\n",
    "tf.reset_default_graph()\n",
    "g = tf.Graph()\n",
    "\n",
    "with g.as_default():\n",
    "    D = tf.placeholder(tf.int32, [None, 128], name='Document')\n",
    "    len_D = tf.placeholder(tf.int32, [None], name='Document_lengths')\n",
    "    Q = tf.placeholder(tf.int32, [None, 16], name='Query')\n",
    "    len_Q = tf.placeholder(tf.int32, [None], name='Query_lengths')\n",
    "    C = tf.placeholder(tf.float32, [None, 10, 128], name='Candidates')\n",
    "    y = tf.placeholder(tf.int32, [None, 10], name='Answers')\n",
    "\n",
    "    W_e = tf.Variable(tf.random_uniform([dictionary_size, emb_dim], -0.05, 0.05, \n",
    "                                    dtype=tf.float32), name='Embedding_matrix')\n",
    "    e_D = tf.nn.embedding_lookup(W_e, D, name='Embedded_document')\n",
    "    e_Q = tf.nn.embedding_lookup(W_e, Q, name='Embedded_query')\n",
    "    print(e_D.shape, e_Q.shape)\n",
    "    \n",
    "    with tf.variable_scope('Document_processor'):\n",
    "        basic_cell = tf.nn.rnn_cell.GRUCell(rnn_dim, activation=tf.nn.relu)\n",
    "        h_Doc, _ = tf.nn.dynamic_rnn(basic_cell, e_D, sequence_length=len_D, dtype=tf.float32)\n",
    "    with tf.variable_scope('Query_processor'):\n",
    "        basic_cell = tf.nn.rnn_cell.GRUCell(rnn_dim, activation=tf.nn.relu)\n",
    "        h_Query, _ = tf.nn.dynamic_rnn(basic_cell, e_Q, sequence_length=len_Q, dtype=tf.float32)\n",
    "    \n",
    "    print(h_Doc.shape, h_Query.shape)\n",
    "    M = tf.matmul(h_Doc, h_Query, transpose_b=True, name='Matching_scores')\n",
    "    print(M.shape)\n",
    "    \n",
    "    with tf.variable_scope('Query_to_Doc_Attention'):\n",
    "        alpha = tf.nn.softmax(M, dim=1, name='Query_to_Document_attention')\n",
    "    with tf.variable_scope('Doc_to_Query_Attention'):\n",
    "        beta = tf.reduce_sum(tf.nn.softmax(M, dim=2, name='Document_to_Query_attention'), \n",
    "                             axis=1, name='Avg_doc_to_Query_att')\n",
    "    s = tf.reduce_sum(tf.multiply(alpha, beta), axis=2, name='Final_scores')\n",
    "    \n",
    "    with tf.variable_scope('Aggregating_results'):\n",
    "        logits = tf.reduce_sum(tf.multiply(tf.expand_dims(s,axis=1), C), axis=2)\n",
    "    \n",
    "    loss = tf.losses.softmax_cross_entropy(logits=logits, onehot_labels=y)\n",
    "    \n",
    "    train_op = tf.train.AdamOptimizer().minimize(loss, )\n",
    "    \n",
    "    print(alpha.shape)\n",
    "    print(beta.shape)\n",
    "    print(logits.shape)\n",
    "\n",
    "tf.summary.FileWriter(\"logs\", g).close()"
   ]
  },
  {
   "cell_type": "code",
   "execution_count": null,
   "metadata": {
    "collapsed": true
   },
   "outputs": [],
   "source": []
  },
  {
   "cell_type": "code",
   "execution_count": 126,
   "metadata": {
    "collapsed": false,
    "deletable": true,
    "editable": true
   },
   "outputs": [
    {
     "data": {
      "text/plain": [
       "[]"
      ]
     },
     "execution_count": 126,
     "metadata": {},
     "output_type": "execute_result"
    }
   ],
   "source": [
    "tf.trainable_variables()"
   ]
  }
 ],
 "metadata": {
  "kernelspec": {
   "display_name": "Python 3",
   "language": "python",
   "name": "python3"
  },
  "language_info": {
   "codemirror_mode": {
    "name": "ipython",
    "version": 3
   },
   "file_extension": ".py",
   "mimetype": "text/x-python",
   "name": "python",
   "nbconvert_exporter": "python",
   "pygments_lexer": "ipython3",
   "version": "3.5.2"
  }
 },
 "nbformat": 4,
 "nbformat_minor": 2
}
